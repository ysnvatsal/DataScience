{
 "cells": [
  {
   "cell_type": "code",
   "execution_count": 24,
   "metadata": {},
   "outputs": [],
   "source": [
    "nums1 = [1,3]\n",
    "nums2 = [2]"
   ]
  },
  {
   "cell_type": "code",
   "execution_count": 25,
   "metadata": {},
   "outputs": [],
   "source": [
    "nums3 = nums1+nums2"
   ]
  },
  {
   "cell_type": "code",
   "execution_count": 32,
   "metadata": {},
   "outputs": [],
   "source": [
    "def median_calc(nums1,nums2):\n",
    "    nums3 = nums1+nums2\n",
    "    nums3 = sorted(nums1+nums2)\n",
    "    import numpy as np\n",
    "    return np.median(nums3)\n",
    "        "
   ]
  },
  {
   "cell_type": "code",
   "execution_count": 33,
   "metadata": {},
   "outputs": [
    {
     "data": {
      "text/plain": [
       "2.0"
      ]
     },
     "execution_count": 33,
     "metadata": {},
     "output_type": "execute_result"
    }
   ],
   "source": [
    "median_calc(nums1,nums2)"
   ]
  },
  {
   "cell_type": "code",
   "execution_count": null,
   "metadata": {},
   "outputs": [],
   "source": [
    "line = 'PAYPALISHIRING'\n",
    "numrows = 3\n",
    "\n"
   ]
  },
  {
   "cell_type": "code",
   "execution_count": 117,
   "metadata": {},
   "outputs": [],
   "source": [
    "a = [1,2,3,4]\n",
    "b = [5,6,7,8]"
   ]
  },
  {
   "cell_type": "code",
   "execution_count": 118,
   "metadata": {},
   "outputs": [],
   "source": [
    "a.extend(b)"
   ]
  },
  {
   "cell_type": "code",
   "execution_count": 119,
   "metadata": {},
   "outputs": [
    {
     "data": {
      "text/plain": [
       "[1, 2, 3, 4, 5, 6, 7, 8]"
      ]
     },
     "execution_count": 119,
     "metadata": {},
     "output_type": "execute_result"
    }
   ],
   "source": [
    "a"
   ]
  },
  {
   "cell_type": "code",
   "execution_count": 51,
   "metadata": {},
   "outputs": [],
   "source": [
    "str = \"\"\"Email_Address,Nickname,Group_Status,Join_Year\n",
    "       aa@aaa.com,aa,Member,2014\n",
    "       bb@bbb.com,bb,Member,2015\n",
    "       cc@ccc.com,cc,Member,2017\n",
    "       dd@ddd.com,dd,Member,2016\n",
    "       ee@eee.com,ee,Member,2020\"\"\""
   ]
  },
  {
   "cell_type": "code",
   "execution_count": 57,
   "metadata": {},
   "outputs": [
    {
     "name": "stdout",
     "output_type": "stream",
     "text": [
      "aa@aaa.com\n",
      "bb@bbb.com\n",
      "cc@ccc.com\n",
      "dd@ddd.com\n",
      "ee@eee.com\n"
     ]
    }
   ],
   "source": [
    "import re\n",
    "for i in re.finditer('([a-zA-Z]+)@([a-zA-Z]+).(com)', str):\n",
    "    print(i.group())"
   ]
  },
  {
   "cell_type": "code",
   "execution_count": 61,
   "metadata": {},
   "outputs": [],
   "source": [
    "str = \"\"\"vatsalyendamuri@gmail.com,naveen,32,kakinada\"\"\""
   ]
  },
  {
   "cell_type": "code",
   "execution_count": 79,
   "metadata": {},
   "outputs": [
    {
     "name": "stdout",
     "output_type": "stream",
     "text": [
      "vatsalyendamuri\n"
     ]
    }
   ],
   "source": [
    "for i in re.finditer('([a-zA-Z]+)@([a-zA-Z]+).(com)', str):\n",
    "    print(i.group(1))"
   ]
  },
  {
   "cell_type": "code",
   "execution_count": 99,
   "metadata": {},
   "outputs": [],
   "source": [
    "str = \"\"\"Name, Marks\n",
    "         Andy,0\n",
    "         Mandi,10\n",
    "         Sandy,20\n",
    "         Hollie,18\n",
    "         Molly,19\n",
    "         Dollie,15\"\"\""
   ]
  },
  {
   "cell_type": "code",
   "execution_count": 111,
   "metadata": {},
   "outputs": [],
   "source": [
    "\n",
    "pattern = '(ie)(,)'\n",
    "temp = []\n",
    "for i in re.finditer(pattern, str):\n",
    "    temp.append(i.group(1))\n",
    "    "
   ]
  },
  {
   "cell_type": "code",
   "execution_count": 123,
   "metadata": {},
   "outputs": [
    {
     "data": {
      "text/plain": [
       "time.struct_time(tm_year=2017, tm_mon=1, tm_mday=21, tm_hour=0, tm_min=0, tm_sec=0, tm_wday=5, tm_yday=21, tm_isdst=-1)"
      ]
     },
     "execution_count": 123,
     "metadata": {},
     "output_type": "execute_result"
    }
   ],
   "source": [
    "import time\n",
    "str = '21/01/2017'\n",
    "datetime_value = time.strptime(str,'%d/%m/%Y')\n",
    "datetime_value"
   ]
  },
  {
   "cell_type": "code",
   "execution_count": 127,
   "metadata": {},
   "outputs": [
    {
     "data": {
      "text/plain": [
       "array([[0., 0., 0.],\n",
       "       [1., 0., 0.],\n",
       "       [0., 1., 0.]])"
      ]
     },
     "execution_count": 127,
     "metadata": {},
     "output_type": "execute_result"
    }
   ],
   "source": [
    "import numpy as np\n",
    "np.eye(3, k=-1)"
   ]
  },
  {
   "cell_type": "code",
   "execution_count": 134,
   "metadata": {},
   "outputs": [
    {
     "name": "stdout",
     "output_type": "stream",
     "text": [
      "The size allotted using range() is : \n",
      "48\n",
      "The size allotted using xrange() is : \n",
      "48\n"
     ]
    }
   ],
   "source": [
    "from past.builtins import xrange\n",
    "import sys\n",
    "# initializing a with range() \n",
    "a = range(1,10000) \n",
    "  \n",
    "# initializing a with xrange() \n",
    "x = xrange(1,10000) \n",
    "  \n",
    "# testing the size of a \n",
    "# range() takes more memory \n",
    "print (\"The size allotted using range() is : \") \n",
    "print (sys.getsizeof(a)) \n",
    "  \n",
    "# testing the size of a \n",
    "# range() takes less memory \n",
    "print (\"The size allotted using xrange() is : \") \n",
    "print (sys.getsizeof(x)) "
   ]
  },
  {
   "cell_type": "code",
   "execution_count": 135,
   "metadata": {},
   "outputs": [],
   "source": [
    "lst = [1,2,3,5,7,4,5,8,10,12,14,15,12]"
   ]
  },
  {
   "cell_type": "code",
   "execution_count": 140,
   "metadata": {},
   "outputs": [
    {
     "data": {
      "text/plain": [
       "[10, 14, 12]"
      ]
     },
     "execution_count": 140,
     "metadata": {},
     "output_type": "execute_result"
    }
   ],
   "source": [
    "[lst[i] for i in range(0,len(lst),2) if lst[i]%2==0]"
   ]
  },
  {
   "cell_type": "code",
   "execution_count": 153,
   "metadata": {},
   "outputs": [
    {
     "name": "stdout",
     "output_type": "stream",
     "text": [
      "aeiioubcdfg\n"
     ]
    }
   ],
   "source": [
    "word = 'aeioubcdfg'\n",
    "\n",
    "print(word [:3] + word [2:])"
   ]
  }
 ],
 "metadata": {
  "kernelspec": {
   "display_name": "Python 3",
   "language": "python",
   "name": "python3"
  },
  "language_info": {
   "codemirror_mode": {
    "name": "ipython",
    "version": 3
   },
   "file_extension": ".py",
   "mimetype": "text/x-python",
   "name": "python",
   "nbconvert_exporter": "python",
   "pygments_lexer": "ipython3",
   "version": "3.7.3"
  }
 },
 "nbformat": 4,
 "nbformat_minor": 2
}
