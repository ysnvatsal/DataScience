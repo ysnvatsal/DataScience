{
 "cells": [
  {
   "cell_type": "code",
   "execution_count": 204,
   "metadata": {},
   "outputs": [],
   "source": [
    "import pandas as pd"
   ]
  },
  {
   "cell_type": "markdown",
   "metadata": {},
   "source": [
    "# Reading Data"
   ]
  },
  {
   "cell_type": "code",
   "execution_count": 205,
   "metadata": {},
   "outputs": [],
   "source": [
    "donors_list = pd.read_csv('C:/Users/Naveen Vatsal/Desktop/Python_practice/Assign_3/train_data.csv')\n",
    "resources_list = pd.read_csv('C:/Users/Naveen Vatsal/Desktop/Python_practice/Assign_3/resources.csv')\n",
    "d_list = pd.DataFrame(donors_list)\n",
    "r_list = pd.DataFrame(resources_list)"
   ]
  },
  {
   "cell_type": "code",
   "execution_count": 31,
   "metadata": {},
   "outputs": [
    {
     "data": {
      "text/html": [
       "<div>\n",
       "<style scoped>\n",
       "    .dataframe tbody tr th:only-of-type {\n",
       "        vertical-align: middle;\n",
       "    }\n",
       "\n",
       "    .dataframe tbody tr th {\n",
       "        vertical-align: top;\n",
       "    }\n",
       "\n",
       "    .dataframe thead th {\n",
       "        text-align: right;\n",
       "    }\n",
       "</style>\n",
       "<table border=\"1\" class=\"dataframe\">\n",
       "  <thead>\n",
       "    <tr style=\"text-align: right;\">\n",
       "      <th></th>\n",
       "      <th>id</th>\n",
       "      <th>description</th>\n",
       "      <th>quantity</th>\n",
       "      <th>price</th>\n",
       "    </tr>\n",
       "  </thead>\n",
       "  <tbody>\n",
       "    <tr>\n",
       "      <th>0</th>\n",
       "      <td>p233245</td>\n",
       "      <td>LC652 - Lakeshore Double-Space Mobile Drying Rack</td>\n",
       "      <td>1</td>\n",
       "      <td>149.00</td>\n",
       "    </tr>\n",
       "    <tr>\n",
       "      <th>1</th>\n",
       "      <td>p069063</td>\n",
       "      <td>Bouncy Bands for Desks (Blue support pipes)</td>\n",
       "      <td>3</td>\n",
       "      <td>14.95</td>\n",
       "    </tr>\n",
       "  </tbody>\n",
       "</table>\n",
       "</div>"
      ],
      "text/plain": [
       "        id                                        description  quantity  \\\n",
       "0  p233245  LC652 - Lakeshore Double-Space Mobile Drying Rack         1   \n",
       "1  p069063        Bouncy Bands for Desks (Blue support pipes)         3   \n",
       "\n",
       "    price  \n",
       "0  149.00  \n",
       "1   14.95  "
      ]
     },
     "execution_count": 31,
     "metadata": {},
     "output_type": "execute_result"
    }
   ],
   "source": [
    "r_list.head(2)"
   ]
  },
  {
   "cell_type": "code",
   "execution_count": 206,
   "metadata": {},
   "outputs": [],
   "source": [
    "d_list = d_list[1:32001]"
   ]
  },
  {
   "cell_type": "code",
   "execution_count": 112,
   "metadata": {},
   "outputs": [
    {
     "data": {
      "text/plain": [
       "(32000, 16)"
      ]
     },
     "execution_count": 112,
     "metadata": {},
     "output_type": "execute_result"
    }
   ],
   "source": [
    "d_list.shape"
   ]
  },
  {
   "cell_type": "code",
   "execution_count": 119,
   "metadata": {},
   "outputs": [
    {
     "data": {
      "text/plain": [
       "['Unnamed: 0',\n",
       " 'id',\n",
       " 'teacher_id',\n",
       " 'teacher_prefix',\n",
       " 'school_state',\n",
       " 'project_submitted_datetime',\n",
       " 'project_grade_category',\n",
       " 'project_subject_categories',\n",
       " 'project_subject_subcategories',\n",
       " 'project_title',\n",
       " 'project_essay_1',\n",
       " 'project_essay_2',\n",
       " 'project_essay_3',\n",
       " 'project_essay_4',\n",
       " 'project_resource_summary',\n",
       " 'teacher_number_of_previously_posted_projects',\n",
       " 'project_is_approved']"
      ]
     },
     "execution_count": 119,
     "metadata": {},
     "output_type": "execute_result"
    }
   ],
   "source": [
    "list(d_list.columns)"
   ]
  },
  {
   "cell_type": "code",
   "execution_count": 207,
   "metadata": {},
   "outputs": [],
   "source": [
    "#Replaced column name with the required name as follows:\n",
    "d_list.rename(columns={'project_submitted_datetime':'date'}, inplace=True)"
   ]
  },
  {
   "cell_type": "code",
   "execution_count": 208,
   "metadata": {},
   "outputs": [],
   "source": [
    "#d_list.loc[:, ~d_list.columns.str.contains('^Unnamed')]\n",
    "del d_list['project_essay_3']\n",
    "del d_list['project_essay_4']"
   ]
  },
  {
   "cell_type": "code",
   "execution_count": 8,
   "metadata": {},
   "outputs": [
    {
     "data": {
      "text/html": [
       "<div>\n",
       "<style scoped>\n",
       "    .dataframe tbody tr th:only-of-type {\n",
       "        vertical-align: middle;\n",
       "    }\n",
       "\n",
       "    .dataframe tbody tr th {\n",
       "        vertical-align: top;\n",
       "    }\n",
       "\n",
       "    .dataframe thead th {\n",
       "        text-align: right;\n",
       "    }\n",
       "</style>\n",
       "<table border=\"1\" class=\"dataframe\">\n",
       "  <thead>\n",
       "    <tr style=\"text-align: right;\">\n",
       "      <th></th>\n",
       "      <th>Unnamed: 0</th>\n",
       "      <th>id</th>\n",
       "      <th>teacher_id</th>\n",
       "      <th>teacher_prefix</th>\n",
       "      <th>school_state</th>\n",
       "      <th>date</th>\n",
       "      <th>project_grade_category</th>\n",
       "      <th>project_subject_categories</th>\n",
       "      <th>project_subject_subcategories</th>\n",
       "      <th>project_title</th>\n",
       "      <th>project_essay_1</th>\n",
       "      <th>project_essay_2</th>\n",
       "      <th>project_resource_summary</th>\n",
       "      <th>teacher_number_of_previously_posted_projects</th>\n",
       "      <th>project_is_approved</th>\n",
       "    </tr>\n",
       "  </thead>\n",
       "  <tbody>\n",
       "    <tr>\n",
       "      <th>0</th>\n",
       "      <td>160221</td>\n",
       "      <td>p253737</td>\n",
       "      <td>c90749f5d961ff158d4b4d1e7dc665fc</td>\n",
       "      <td>Mrs.</td>\n",
       "      <td>IN</td>\n",
       "      <td>2016-12-05 13:43:57</td>\n",
       "      <td>Grades PreK-2</td>\n",
       "      <td>Literacy &amp; Language</td>\n",
       "      <td>ESL, Literacy</td>\n",
       "      <td>Educational Support for English Learners at Home</td>\n",
       "      <td>My students are English learners that are work...</td>\n",
       "      <td>\\\"The limits of your language are the limits o...</td>\n",
       "      <td>My students need opportunities to practice beg...</td>\n",
       "      <td>0</td>\n",
       "      <td>0</td>\n",
       "    </tr>\n",
       "    <tr>\n",
       "      <th>1</th>\n",
       "      <td>140945</td>\n",
       "      <td>p258326</td>\n",
       "      <td>897464ce9ddc600bced1151f324dd63a</td>\n",
       "      <td>Mr.</td>\n",
       "      <td>FL</td>\n",
       "      <td>2016-10-25 09:22:10</td>\n",
       "      <td>Grades 6-8</td>\n",
       "      <td>History &amp; Civics, Health &amp; Sports</td>\n",
       "      <td>Civics &amp; Government, Team Sports</td>\n",
       "      <td>Wanted: Projector for Hungry Learners</td>\n",
       "      <td>Our students arrive to our school eager to lea...</td>\n",
       "      <td>The projector we need for our school is very c...</td>\n",
       "      <td>My students need a projector to help with view...</td>\n",
       "      <td>7</td>\n",
       "      <td>1</td>\n",
       "    </tr>\n",
       "  </tbody>\n",
       "</table>\n",
       "</div>"
      ],
      "text/plain": [
       "   Unnamed: 0       id                        teacher_id teacher_prefix  \\\n",
       "0      160221  p253737  c90749f5d961ff158d4b4d1e7dc665fc           Mrs.   \n",
       "1      140945  p258326  897464ce9ddc600bced1151f324dd63a            Mr.   \n",
       "\n",
       "  school_state                 date project_grade_category  \\\n",
       "0           IN  2016-12-05 13:43:57          Grades PreK-2   \n",
       "1           FL  2016-10-25 09:22:10             Grades 6-8   \n",
       "\n",
       "          project_subject_categories     project_subject_subcategories  \\\n",
       "0                Literacy & Language                     ESL, Literacy   \n",
       "1  History & Civics, Health & Sports  Civics & Government, Team Sports   \n",
       "\n",
       "                                      project_title  \\\n",
       "0  Educational Support for English Learners at Home   \n",
       "1             Wanted: Projector for Hungry Learners   \n",
       "\n",
       "                                     project_essay_1  \\\n",
       "0  My students are English learners that are work...   \n",
       "1  Our students arrive to our school eager to lea...   \n",
       "\n",
       "                                     project_essay_2  \\\n",
       "0  \\\"The limits of your language are the limits o...   \n",
       "1  The projector we need for our school is very c...   \n",
       "\n",
       "                            project_resource_summary  \\\n",
       "0  My students need opportunities to practice beg...   \n",
       "1  My students need a projector to help with view...   \n",
       "\n",
       "   teacher_number_of_previously_posted_projects  project_is_approved  \n",
       "0                                             0                    0  \n",
       "1                                             7                    1  "
      ]
     },
     "execution_count": 8,
     "metadata": {},
     "output_type": "execute_result"
    }
   ],
   "source": [
    "d_list.head(2)"
   ]
  },
  {
   "cell_type": "code",
   "execution_count": 5,
   "metadata": {},
   "outputs": [
    {
     "data": {
      "text/plain": [
       "(109248, 15)"
      ]
     },
     "execution_count": 5,
     "metadata": {},
     "output_type": "execute_result"
    }
   ],
   "source": [
    "d_list.shape"
   ]
  },
  {
   "cell_type": "code",
   "execution_count": 209,
   "metadata": {},
   "outputs": [],
   "source": [
    "d_list.sort_values(by=['date'], inplace=True)"
   ]
  },
  {
   "cell_type": "code",
   "execution_count": 125,
   "metadata": {},
   "outputs": [
    {
     "data": {
      "text/html": [
       "<div>\n",
       "<style scoped>\n",
       "    .dataframe tbody tr th:only-of-type {\n",
       "        vertical-align: middle;\n",
       "    }\n",
       "\n",
       "    .dataframe tbody tr th {\n",
       "        vertical-align: top;\n",
       "    }\n",
       "\n",
       "    .dataframe thead th {\n",
       "        text-align: right;\n",
       "    }\n",
       "</style>\n",
       "<table border=\"1\" class=\"dataframe\">\n",
       "  <thead>\n",
       "    <tr style=\"text-align: right;\">\n",
       "      <th></th>\n",
       "      <th>Unnamed: 0</th>\n",
       "      <th>id</th>\n",
       "      <th>teacher_id</th>\n",
       "      <th>teacher_prefix</th>\n",
       "      <th>school_state</th>\n",
       "      <th>date</th>\n",
       "      <th>project_grade_category</th>\n",
       "      <th>project_subject_categories</th>\n",
       "      <th>project_subject_subcategories</th>\n",
       "      <th>project_title</th>\n",
       "      <th>project_essay_1</th>\n",
       "      <th>project_essay_2</th>\n",
       "      <th>project_resource_summary</th>\n",
       "      <th>teacher_number_of_previously_posted_projects</th>\n",
       "      <th>project_is_approved</th>\n",
       "    </tr>\n",
       "  </thead>\n",
       "  <tbody>\n",
       "    <tr>\n",
       "      <th>473</th>\n",
       "      <td>100660</td>\n",
       "      <td>p234804</td>\n",
       "      <td>cbc0e38f522143b86d372f8b43d4cff3</td>\n",
       "      <td>Mrs.</td>\n",
       "      <td>GA</td>\n",
       "      <td>2016-04-27 00:53:00</td>\n",
       "      <td>Grades PreK-2</td>\n",
       "      <td>Applied Learning</td>\n",
       "      <td>Early Development</td>\n",
       "      <td>Flexible Seating for Flexible Learning</td>\n",
       "      <td>I recently read an article about giving studen...</td>\n",
       "      <td>I teach at a low-income (Title 1) school. Ever...</td>\n",
       "      <td>My students need flexible seating in the class...</td>\n",
       "      <td>2</td>\n",
       "      <td>1</td>\n",
       "    </tr>\n",
       "    <tr>\n",
       "      <th>29891</th>\n",
       "      <td>146723</td>\n",
       "      <td>p099708</td>\n",
       "      <td>c0a28c79fe8ad5810da49de47b3fb491</td>\n",
       "      <td>Mrs.</td>\n",
       "      <td>CA</td>\n",
       "      <td>2016-04-27 01:10:09</td>\n",
       "      <td>Grades 3-5</td>\n",
       "      <td>Math &amp; Science, History &amp; Civics</td>\n",
       "      <td>Mathematics, Social Sciences</td>\n",
       "      <td>Breakout Box to Ignite Engagement!</td>\n",
       "      <td>It's the end of the school year. Routines have...</td>\n",
       "      <td>My students desire challenges, movement, and c...</td>\n",
       "      <td>My students need items from a \\\"Breakout Box\\\"...</td>\n",
       "      <td>6</td>\n",
       "      <td>1</td>\n",
       "    </tr>\n",
       "    <tr>\n",
       "      <th>23374</th>\n",
       "      <td>72317</td>\n",
       "      <td>p087808</td>\n",
       "      <td>598621c141cda5fb184ee7e8ccdd3fcc</td>\n",
       "      <td>Ms.</td>\n",
       "      <td>CA</td>\n",
       "      <td>2016-04-27 02:04:15</td>\n",
       "      <td>Grades PreK-2</td>\n",
       "      <td>Literacy &amp; Language</td>\n",
       "      <td>ESL, Literacy</td>\n",
       "      <td>iPad for Learners</td>\n",
       "      <td>Never has society so rapidly changed. Technolo...</td>\n",
       "      <td>Our Language Arts and Social Justice Magnet Sc...</td>\n",
       "      <td>My students need 1 ipad mini.</td>\n",
       "      <td>127</td>\n",
       "      <td>1</td>\n",
       "    </tr>\n",
       "    <tr>\n",
       "      <th>7176</th>\n",
       "      <td>79341</td>\n",
       "      <td>p091436</td>\n",
       "      <td>bb2599c4a114d211b3381abe9f899bf8</td>\n",
       "      <td>Mrs.</td>\n",
       "      <td>OH</td>\n",
       "      <td>2016-04-27 07:24:47</td>\n",
       "      <td>Grades PreK-2</td>\n",
       "      <td>Math &amp; Science, Applied Learning</td>\n",
       "      <td>Applied Sciences, Early Development</td>\n",
       "      <td>Robots are Taking over 2nd Grade</td>\n",
       "      <td>Computer coding and robotics, my second grader...</td>\n",
       "      <td>We are a small, rural school in Northwest Ohio...</td>\n",
       "      <td>My students need a robot mouse STEM activity s...</td>\n",
       "      <td>72</td>\n",
       "      <td>1</td>\n",
       "    </tr>\n",
       "    <tr>\n",
       "      <th>5145</th>\n",
       "      <td>50256</td>\n",
       "      <td>p203475</td>\n",
       "      <td>63e9a9f2c9811a247f1aa32ee6f92644</td>\n",
       "      <td>Mrs.</td>\n",
       "      <td>CA</td>\n",
       "      <td>2016-04-27 08:45:34</td>\n",
       "      <td>Grades 3-5</td>\n",
       "      <td>Literacy &amp; Language</td>\n",
       "      <td>Literacy</td>\n",
       "      <td>Books to Power Powerful Book Clubs!</td>\n",
       "      <td>Do you remember the book you read that made yo...</td>\n",
       "      <td>My students are part of an exciting adventure....</td>\n",
       "      <td>My students need books to help support their h...</td>\n",
       "      <td>6</td>\n",
       "      <td>1</td>\n",
       "    </tr>\n",
       "  </tbody>\n",
       "</table>\n",
       "</div>"
      ],
      "text/plain": [
       "       Unnamed: 0       id                        teacher_id teacher_prefix  \\\n",
       "473        100660  p234804  cbc0e38f522143b86d372f8b43d4cff3           Mrs.   \n",
       "29891      146723  p099708  c0a28c79fe8ad5810da49de47b3fb491           Mrs.   \n",
       "23374       72317  p087808  598621c141cda5fb184ee7e8ccdd3fcc            Ms.   \n",
       "7176        79341  p091436  bb2599c4a114d211b3381abe9f899bf8           Mrs.   \n",
       "5145        50256  p203475  63e9a9f2c9811a247f1aa32ee6f92644           Mrs.   \n",
       "\n",
       "      school_state                 date project_grade_category  \\\n",
       "473             GA  2016-04-27 00:53:00          Grades PreK-2   \n",
       "29891           CA  2016-04-27 01:10:09             Grades 3-5   \n",
       "23374           CA  2016-04-27 02:04:15          Grades PreK-2   \n",
       "7176            OH  2016-04-27 07:24:47          Grades PreK-2   \n",
       "5145            CA  2016-04-27 08:45:34             Grades 3-5   \n",
       "\n",
       "             project_subject_categories        project_subject_subcategories  \\\n",
       "473                    Applied Learning                    Early Development   \n",
       "29891  Math & Science, History & Civics         Mathematics, Social Sciences   \n",
       "23374               Literacy & Language                        ESL, Literacy   \n",
       "7176   Math & Science, Applied Learning  Applied Sciences, Early Development   \n",
       "5145                Literacy & Language                             Literacy   \n",
       "\n",
       "                                project_title  \\\n",
       "473    Flexible Seating for Flexible Learning   \n",
       "29891      Breakout Box to Ignite Engagement!   \n",
       "23374                       iPad for Learners   \n",
       "7176         Robots are Taking over 2nd Grade   \n",
       "5145      Books to Power Powerful Book Clubs!   \n",
       "\n",
       "                                         project_essay_1  \\\n",
       "473    I recently read an article about giving studen...   \n",
       "29891  It's the end of the school year. Routines have...   \n",
       "23374  Never has society so rapidly changed. Technolo...   \n",
       "7176   Computer coding and robotics, my second grader...   \n",
       "5145   Do you remember the book you read that made yo...   \n",
       "\n",
       "                                         project_essay_2  \\\n",
       "473    I teach at a low-income (Title 1) school. Ever...   \n",
       "29891  My students desire challenges, movement, and c...   \n",
       "23374  Our Language Arts and Social Justice Magnet Sc...   \n",
       "7176   We are a small, rural school in Northwest Ohio...   \n",
       "5145   My students are part of an exciting adventure....   \n",
       "\n",
       "                                project_resource_summary  \\\n",
       "473    My students need flexible seating in the class...   \n",
       "29891  My students need items from a \\\"Breakout Box\\\"...   \n",
       "23374                      My students need 1 ipad mini.   \n",
       "7176   My students need a robot mouse STEM activity s...   \n",
       "5145   My students need books to help support their h...   \n",
       "\n",
       "       teacher_number_of_previously_posted_projects  project_is_approved  \n",
       "473                                               2                    1  \n",
       "29891                                             6                    1  \n",
       "23374                                           127                    1  \n",
       "7176                                             72                    1  \n",
       "5145                                              6                    1  "
      ]
     },
     "execution_count": 125,
     "metadata": {},
     "output_type": "execute_result"
    }
   ],
   "source": [
    "d_list.head()"
   ]
  },
  {
   "cell_type": "code",
   "execution_count": 12,
   "metadata": {},
   "outputs": [
    {
     "data": {
      "text/html": [
       "<div>\n",
       "<style scoped>\n",
       "    .dataframe tbody tr th:only-of-type {\n",
       "        vertical-align: middle;\n",
       "    }\n",
       "\n",
       "    .dataframe tbody tr th {\n",
       "        vertical-align: top;\n",
       "    }\n",
       "\n",
       "    .dataframe thead th {\n",
       "        text-align: right;\n",
       "    }\n",
       "</style>\n",
       "<table border=\"1\" class=\"dataframe\">\n",
       "  <thead>\n",
       "    <tr style=\"text-align: right;\">\n",
       "      <th></th>\n",
       "      <th>id</th>\n",
       "      <th>description</th>\n",
       "      <th>quantity</th>\n",
       "      <th>price</th>\n",
       "    </tr>\n",
       "  </thead>\n",
       "  <tbody>\n",
       "    <tr>\n",
       "      <th>0</th>\n",
       "      <td>p233245</td>\n",
       "      <td>LC652 - Lakeshore Double-Space Mobile Drying Rack</td>\n",
       "      <td>1</td>\n",
       "      <td>149.00</td>\n",
       "    </tr>\n",
       "    <tr>\n",
       "      <th>1</th>\n",
       "      <td>p069063</td>\n",
       "      <td>Bouncy Bands for Desks (Blue support pipes)</td>\n",
       "      <td>3</td>\n",
       "      <td>14.95</td>\n",
       "    </tr>\n",
       "    <tr>\n",
       "      <th>2</th>\n",
       "      <td>p069063</td>\n",
       "      <td>Cory Stories: A Kid's Book About Living With Adhd</td>\n",
       "      <td>1</td>\n",
       "      <td>8.45</td>\n",
       "    </tr>\n",
       "    <tr>\n",
       "      <th>3</th>\n",
       "      <td>p069063</td>\n",
       "      <td>Dixon Ticonderoga Wood-Cased #2 HB Pencils, Bo...</td>\n",
       "      <td>2</td>\n",
       "      <td>13.59</td>\n",
       "    </tr>\n",
       "    <tr>\n",
       "      <th>4</th>\n",
       "      <td>p069063</td>\n",
       "      <td>EDUCATIONAL INSIGHTS FLUORESCENT LIGHT FILTERS...</td>\n",
       "      <td>3</td>\n",
       "      <td>24.95</td>\n",
       "    </tr>\n",
       "  </tbody>\n",
       "</table>\n",
       "</div>"
      ],
      "text/plain": [
       "        id                                        description  quantity  \\\n",
       "0  p233245  LC652 - Lakeshore Double-Space Mobile Drying Rack         1   \n",
       "1  p069063        Bouncy Bands for Desks (Blue support pipes)         3   \n",
       "2  p069063  Cory Stories: A Kid's Book About Living With Adhd         1   \n",
       "3  p069063  Dixon Ticonderoga Wood-Cased #2 HB Pencils, Bo...         2   \n",
       "4  p069063  EDUCATIONAL INSIGHTS FLUORESCENT LIGHT FILTERS...         3   \n",
       "\n",
       "    price  \n",
       "0  149.00  \n",
       "1   14.95  \n",
       "2    8.45  \n",
       "3   13.59  \n",
       "4   24.95  "
      ]
     },
     "execution_count": 12,
     "metadata": {},
     "output_type": "execute_result"
    }
   ],
   "source": [
    "r_list.head()"
   ]
  },
  {
   "cell_type": "code",
   "execution_count": 210,
   "metadata": {},
   "outputs": [],
   "source": [
    "Preparing data for Data preprocessing\n",
    "catogories = list(d_list['project_subject_categories'].values)"
   ]
  },
  {
   "cell_type": "code",
   "execution_count": 211,
   "metadata": {},
   "outputs": [],
   "source": [
    "cat_list = []\n",
    "for i in catogories:\n",
    "    temp = \"\"\n",
    "    # consider we have text like this \"Math & Science, Warmth, Care & Hunger\"\n",
    "    for j in i.split(','): # it will split it in three parts [\"Math & Science\", \"Warmth\", \"Care & Hunger\"]\n",
    "        if 'The' in j.split(): # this will split each of the catogory based on space \"Math & Science\"=> \"Math\",\"&\", \"Science\"\n",
    "            j=j.replace('The','') # if we have the words \"The\" we are going to replace it with ''(i.e removing 'The')\n",
    "        j = j.replace(' ','') # we are placeing all the ' '(space) with ''(empty) ex:\"Math & Science\"=>\"Math&Science\"\n",
    "        temp+=j.strip()+\" \" #\" abc \".strip() will return \"abc\", remove the trailing spaces\n",
    "        temp = temp.replace('&','_') # we are replacing the & value into \n",
    "    cat_list.append(temp.strip())\n",
    "    \n",
    "d_list['clean_categories'] = cat_list\n",
    "\n",
    "from collections import Counter\n",
    "my_counter = Counter()\n",
    "for word in d_list['clean_categories'].values:\n",
    "    my_counter.update(word.split())\n",
    "\n",
    "cat_dict = dict(my_counter)\n",
    "sorted_cat_dict = dict(sorted(cat_dict.items(), key=lambda kv: kv[1]))\n"
   ]
  },
  {
   "cell_type": "code",
   "execution_count": 212,
   "metadata": {},
   "outputs": [],
   "source": [
    "d_list['clean_categories'] = cat_list"
   ]
  },
  {
   "cell_type": "code",
   "execution_count": 213,
   "metadata": {},
   "outputs": [],
   "source": [
    "d_list.drop(['project_subject_categories'], axis=1, inplace=True)\n"
   ]
  },
  {
   "cell_type": "code",
   "execution_count": 130,
   "metadata": {},
   "outputs": [
    {
     "data": {
      "text/plain": [
       "{'Warmth': 412,\n",
       " 'Care_Hunger': 412,\n",
       " 'History_Civics': 1702,\n",
       " 'Music_Arts': 2995,\n",
       " 'AppliedLearning': 3585,\n",
       " 'SpecialNeeds': 4010,\n",
       " 'Health_Sports': 4191,\n",
       " 'Math_Science': 12056,\n",
       " 'Literacy_Language': 15309}"
      ]
     },
     "execution_count": 130,
     "metadata": {},
     "output_type": "execute_result"
    }
   ],
   "source": [
    "sorted_cat_dict"
   ]
  },
  {
   "cell_type": "raw",
   "metadata": {},
   "source": []
  },
  {
   "cell_type": "code",
   "execution_count": 214,
   "metadata": {},
   "outputs": [],
   "source": [
    "from collections import Counter\n",
    "my_counter = Counter()\n",
    "for word in d_list['clean_categories'].values:\n",
    "    my_counter.update(word.split())"
   ]
  },
  {
   "cell_type": "code",
   "execution_count": 132,
   "metadata": {},
   "outputs": [
    {
     "data": {
      "text/plain": [
       "Counter({'AppliedLearning': 3585,\n",
       "         'Math_Science': 12056,\n",
       "         'History_Civics': 1702,\n",
       "         'Literacy_Language': 15309,\n",
       "         'Music_Arts': 2995,\n",
       "         'SpecialNeeds': 4010,\n",
       "         'Health_Sports': 4191,\n",
       "         'Warmth': 412,\n",
       "         'Care_Hunger': 412})"
      ]
     },
     "execution_count": 132,
     "metadata": {},
     "output_type": "execute_result"
    }
   ],
   "source": [
    "my_counter"
   ]
  },
  {
   "cell_type": "code",
   "execution_count": 215,
   "metadata": {},
   "outputs": [
    {
     "data": {
      "text/plain": [
       "{'Warmth': 412,\n",
       " 'Care_Hunger': 412,\n",
       " 'History_Civics': 1702,\n",
       " 'Music_Arts': 2995,\n",
       " 'AppliedLearning': 3585,\n",
       " 'SpecialNeeds': 4010,\n",
       " 'Health_Sports': 4191,\n",
       " 'Math_Science': 12056,\n",
       " 'Literacy_Language': 15309}"
      ]
     },
     "execution_count": 215,
     "metadata": {},
     "output_type": "execute_result"
    }
   ],
   "source": [
    "cat_dict = dict(my_counter)\n",
    "sorted_cat_dict = dict(sorted(cat_dict.items(), key=lambda kv: kv[1]))\n",
    "sorted_cat_dict"
   ]
  },
  {
   "cell_type": "code",
   "execution_count": null,
   "metadata": {},
   "outputs": [],
   "source": [
    "Bio = \"    My full & name _ is Satya Naveen Vatsal Yendamuri   \""
   ]
  },
  {
   "cell_type": "code",
   "execution_count": 22,
   "metadata": {},
   "outputs": [],
   "source": [
    "temp = Bio.strip()+\" \""
   ]
  },
  {
   "cell_type": "code",
   "execution_count": 23,
   "metadata": {},
   "outputs": [
    {
     "data": {
      "text/plain": [
       "'    My full _ name _ is Satya Naveen Vatsal Yendamuri   '"
      ]
     },
     "execution_count": 23,
     "metadata": {},
     "output_type": "execute_result"
    }
   ],
   "source": [
    "Bio.replace('&','_') "
   ]
  },
  {
   "cell_type": "code",
   "execution_count": 216,
   "metadata": {},
   "outputs": [],
   "source": [
    "sub_catogories = list(d_list['project_subject_subcategories'].values)\n",
    "sub_cat_list = []\n",
    "for i in sub_catogories:\n",
    "    temp = \"\"\n",
    "    for j in i.split(','):\n",
    "        if 'The' in j.split():\n",
    "            j = j.replace('The','')\n",
    "        j = j.replace(' ', '')\n",
    "        temp+=j.strip()+\" \"\n",
    "        temp = temp.replace('&','_')\n",
    "    sub_cat_list.append(temp.strip())\n",
    "    \n",
    "d_list['clean_subcatogories'] = sub_cat_list\n",
    "d_list.drop(['project_subject_subcategories'],axis=1, inplace = True)"
   ]
  },
  {
   "cell_type": "code",
   "execution_count": null,
   "metadata": {},
   "outputs": [],
   "source": []
  },
  {
   "cell_type": "code",
   "execution_count": null,
   "metadata": {},
   "outputs": [],
   "source": []
  },
  {
   "cell_type": "code",
   "execution_count": 217,
   "metadata": {},
   "outputs": [],
   "source": [
    "from collections import Counter\n",
    "my_counter = Counter()\n",
    "for word in d_list['clean_subcatogories'].values:\n",
    "    my_counter.update(word.split())"
   ]
  },
  {
   "cell_type": "code",
   "execution_count": 218,
   "metadata": {},
   "outputs": [
    {
     "data": {
      "text/plain": [
       "{'Economics': 94,\n",
       " 'CommunityService': 143,\n",
       " 'FinancialLiteracy': 163,\n",
       " 'ParentInvolvement': 194,\n",
       " 'Extracurricular': 223,\n",
       " 'Civics_Government': 246,\n",
       " 'ForeignLanguages': 247,\n",
       " 'NutritionEducation': 398,\n",
       " 'Warmth': 412,\n",
       " 'Care_Hunger': 412,\n",
       " 'SocialSciences': 526,\n",
       " 'PerformingArts': 565,\n",
       " 'CharacterEducation': 611,\n",
       " 'TeamSports': 636,\n",
       " 'Other': 733,\n",
       " 'College_CareerPrep': 755,\n",
       " 'Music': 880,\n",
       " 'History_Geography': 917,\n",
       " 'Health_LifeScience': 1177,\n",
       " 'EarlyDevelopment': 1261,\n",
       " 'ESL': 1288,\n",
       " 'Gym_Fitness': 1355,\n",
       " 'EnvironmentalScience': 1597,\n",
       " 'VisualArts': 1864,\n",
       " 'Health_Wellness': 3030,\n",
       " 'AppliedSciences': 3207,\n",
       " 'SpecialNeeds': 4010,\n",
       " 'Literature_Writing': 6431,\n",
       " 'Mathematics': 8169,\n",
       " 'Literacy': 9970}"
      ]
     },
     "execution_count": 218,
     "metadata": {},
     "output_type": "execute_result"
    }
   ],
   "source": [
    "sub_cat_dict = dict(my_counter)\n",
    "sorted_subcat_dict = dict(sorted(sub_cat_dict.items(), key=lambda kv: kv[1]))\n",
    "sorted_subcat_dict"
   ]
  },
  {
   "cell_type": "code",
   "execution_count": 219,
   "metadata": {},
   "outputs": [],
   "source": [
    "# merge two column text dataframe: \n",
    "d_list[\"essay\"] = d_list[\"project_essay_1\"].map(str) +\\\n",
    "                  d_list[\"project_essay_2\"].map(str)\n"
   ]
  },
  {
   "cell_type": "code",
   "execution_count": 220,
   "metadata": {},
   "outputs": [],
   "source": [
    "# https://stackoverflow.com/a/47091490/4084039\n",
    "import re\n",
    "\n",
    "def decontracted(phrase):\n",
    "    # specific\n",
    "    phrase = re.sub(r\"won't\", \"will not\", phrase)\n",
    "    phrase = re.sub(r\"can\\'t\", \"can not\", phrase)\n",
    "\n",
    "    # general\n",
    "    phrase = re.sub(r\"n\\'t\", \" not\", phrase)\n",
    "    phrase = re.sub(r\"\\'re\", \" are\", phrase)\n",
    "    phrase = re.sub(r\"\\'s\", \" is\", phrase)\n",
    "    phrase = re.sub(r\"\\'d\", \" would\", phrase)\n",
    "    phrase = re.sub(r\"\\'ll\", \" will\", phrase)\n",
    "    phrase = re.sub(r\"\\'t\", \" not\", phrase)\n",
    "    phrase = re.sub(r\"\\'ve\", \" have\", phrase)\n",
    "    phrase = re.sub(r\"\\'m\", \" am\", phrase)\n",
    "    return phrase"
   ]
  },
  {
   "cell_type": "code",
   "execution_count": 221,
   "metadata": {},
   "outputs": [],
   "source": [
    "stopwords= ['i', 'me', 'my', 'myself', 'we', 'our', 'ours', 'ourselves', 'you', \"you're\", \"you've\",\\\n",
    "            \"you'll\", \"you'd\", 'your', 'yours', 'yourself', 'yourselves', 'he', 'him', 'his', 'himself', \\\n",
    "            'she', \"she's\", 'her', 'hers', 'herself', 'it', \"it's\", 'its', 'itself', 'they', 'them', 'their',\\\n",
    "            'theirs', 'themselves', 'what', 'which', 'who', 'whom', 'this', 'that', \"that'll\", 'these', 'those', \\\n",
    "            'am', 'is', 'are', 'was', 'were', 'be', 'been', 'being', 'have', 'has', 'had', 'having', 'do', 'does', \\\n",
    "            'did', 'doing', 'a', 'an', 'the', 'and', 'but', 'if', 'or', 'because', 'as', 'until', 'while', 'of', \\\n",
    "            'at', 'by', 'for', 'with', 'about', 'against', 'between', 'into', 'through', 'during', 'before', 'after',\\\n",
    "            'above', 'below', 'to', 'from', 'up', 'down', 'in', 'out', 'on', 'off', 'over', 'under', 'again', 'further',\\\n",
    "            'then', 'once', 'here', 'there', 'when', 'where', 'why', 'how', 'all', 'any', 'both', 'each', 'few', 'more',\\\n",
    "            'most', 'other', 'some', 'such', 'only', 'own', 'same', 'so', 'than', 'too', 'very', \\\n",
    "            's', 't', 'can', 'will', 'just', 'don', \"don't\", 'should', \"should've\", 'now', 'd', 'll', 'm', 'o', 're', \\\n",
    "            've', 'y', 'ain', 'aren', \"aren't\", 'couldn', \"couldn't\", 'didn', \"didn't\", 'doesn', \"doesn't\", 'hadn',\\\n",
    "            \"hadn't\", 'hasn', \"hasn't\", 'haven', \"haven't\", 'isn', \"isn't\", 'ma', 'mightn', \"mightn't\", 'mustn',\\\n",
    "            \"mustn't\", 'needn', \"needn't\", 'shan', \"shan't\", 'shouldn', \"shouldn't\", 'wasn', \"wasn't\", 'weren', \"weren't\", \\\n",
    "            'won', \"won't\", 'wouldn', \"wouldn't\"]"
   ]
  },
  {
   "cell_type": "code",
   "execution_count": 222,
   "metadata": {
    "scrolled": true
   },
   "outputs": [
    {
     "name": "stderr",
     "output_type": "stream",
     "text": [
      "100%|██████████| 32000/32000 [00:16<00:00, 1979.56it/s]\n"
     ]
    }
   ],
   "source": [
    "#sent = decontracted(x for x in d_list['essay'].values\n",
    "new_list = []\n",
    "#for x in d_list['essay'].values:        \n",
    " # new_list.append(decontracted(x))\n",
    " # length = len(new_list)\n",
    " # print(str(length)+\":\"+x)\n",
    " # print(\"=\"*50)\n",
    "from tqdm import tqdm\n",
    "    \n",
    "for ess in tqdm(d_list['essay'].values):\n",
    "    sent = decontracted(ess)\n",
    "    sent = sent.replace('\\\\r', ' ')\n",
    "    sent = sent.replace('\\\\\"', ' ')\n",
    "    sent = sent.replace('\\\\n', ' ')\n",
    "    sent = re.sub('[^A-Za-z0-9]+', ' ', sent)\n",
    "    sent = ' '.join(e for e in sent.split() if e.lower() not in stopwords)\n",
    "    new_list.append(sent.lower().strip())\n",
    "    \n",
    "    "
   ]
  },
  {
   "cell_type": "code",
   "execution_count": 141,
   "metadata": {},
   "outputs": [
    {
     "data": {
      "text/plain": [
       "32000"
      ]
     },
     "execution_count": 141,
     "metadata": {},
     "output_type": "execute_result"
    }
   ],
   "source": [
    "len(new_list)"
   ]
  },
  {
   "cell_type": "code",
   "execution_count": 223,
   "metadata": {},
   "outputs": [
    {
     "name": "stderr",
     "output_type": "stream",
     "text": [
      "100%|██████████| 32000/32000 [00:16<00:00, 1965.44it/s]\n"
     ]
    }
   ],
   "source": [
    "# Combining all the above students \n",
    "from tqdm import tqdm\n",
    "preprocessed_essays = []\n",
    "# tqdm is for printing the status bar\n",
    "for sentence in tqdm(d_list['essay'].values):\n",
    "    sent = decontracted(sentence)\n",
    "    sent = sent.replace('\\\\r', ' ')\n",
    "    sent = sent.replace('\\\\\"', ' ')\n",
    "    sent = sent.replace('\\\\n', ' ')\n",
    "    sent = re.sub('[^A-Za-z0-9]+', ' ', sent)\n",
    "    # https://gist.github.com/sebleier/554280\n",
    "    sent = ' '.join(e for e in sent.split() if e.lower() not in stopwords)\n",
    "    preprocessed_essays.append(sent.lower().strip())"
   ]
  },
  {
   "cell_type": "code",
   "execution_count": 125,
   "metadata": {},
   "outputs": [
    {
     "data": {
      "text/plain": [
       "109248"
      ]
     },
     "execution_count": 125,
     "metadata": {},
     "output_type": "execute_result"
    }
   ],
   "source": [
    "len(preprocessed_essays)"
   ]
  },
  {
   "cell_type": "code",
   "execution_count": 224,
   "metadata": {},
   "outputs": [
    {
     "name": "stderr",
     "output_type": "stream",
     "text": [
      "100%|██████████| 32000/32000 [00:00<00:00, 40924.24it/s]\n"
     ]
    }
   ],
   "source": [
    "#sent = decontracted(x for x in d_list['essay'].values\n",
    "new_list_pt = []\n",
    "#for x in d_list['essay'].values:        \n",
    " # new_list.append(decontracted(x))\n",
    " # length = len(new_list)\n",
    " # print(str(length)+\":\"+x)\n",
    " # print(\"=\"*50)\n",
    "    \n",
    "for ess in tqdm(d_list['project_title'].values):\n",
    "    sent = decontracted(ess)\n",
    "    sent = sent.replace('\\\\r', ' ')\n",
    "    sent = sent.replace('\\\\\"', ' ')\n",
    "    sent = sent.replace('\\\\n', ' ')\n",
    "    sent = re.sub('[^A-Za-z0-9]+', ' ', sent)\n",
    "    sent = ' '.join(e for e in sent.split() if e.lower() not in stopwords)\n",
    "    new_list_pt.append(sent.lower().strip())"
   ]
  },
  {
   "cell_type": "markdown",
   "metadata": {},
   "source": [
    "# Performing One Hot encoding for Converting categorical to numerical features usinf count vectorizer"
   ]
  },
  {
   "cell_type": "code",
   "execution_count": 225,
   "metadata": {},
   "outputs": [
    {
     "name": "stdout",
     "output_type": "stream",
     "text": [
      "['Warmth', 'Care_Hunger', 'History_Civics', 'Music_Arts', 'AppliedLearning', 'SpecialNeeds', 'Health_Sports', 'Math_Science', 'Literacy_Language']\n",
      "Shape of matrix after one hot encodig  (32000, 9)\n"
     ]
    }
   ],
   "source": [
    "from sklearn.feature_extraction.text import CountVectorizer\n",
    "vectorizer = CountVectorizer(vocabulary=list(sorted_cat_dict.keys()), lowercase=False, binary=True)\n",
    "categories_one_hot = vectorizer.fit_transform(d_list['clean_categories'].values)\n",
    "print(vectorizer.get_feature_names())\n",
    "print(\"Shape of matrix after one hot encodig \",categories_one_hot.shape)"
   ]
  },
  {
   "cell_type": "code",
   "execution_count": 226,
   "metadata": {},
   "outputs": [
    {
     "name": "stdout",
     "output_type": "stream",
     "text": [
      "['Economics', 'CommunityService', 'FinancialLiteracy', 'ParentInvolvement', 'Extracurricular', 'Civics_Government', 'ForeignLanguages', 'NutritionEducation', 'Warmth', 'Care_Hunger', 'SocialSciences', 'PerformingArts', 'CharacterEducation', 'TeamSports', 'Other', 'College_CareerPrep', 'Music', 'History_Geography', 'Health_LifeScience', 'EarlyDevelopment', 'ESL', 'Gym_Fitness', 'EnvironmentalScience', 'VisualArts', 'Health_Wellness', 'AppliedSciences', 'SpecialNeeds', 'Literature_Writing', 'Mathematics', 'Literacy']\n",
      "Shape of matrix after one hot encodig  (32000, 30)\n"
     ]
    }
   ],
   "source": [
    "# we use count vectorizer to convert the values into one \n",
    "vectorizer = CountVectorizer(vocabulary=list(sorted_subcat_dict.keys()), lowercase=False, binary=True)\n",
    "sub_categories_one_hot = vectorizer.fit_transform(d_list['clean_subcatogories'].values)\n",
    "print(vectorizer.get_feature_names())\n",
    "print(\"Shape of matrix after one hot encodig \",sub_categories_one_hot.shape)"
   ]
  },
  {
   "cell_type": "code",
   "execution_count": null,
   "metadata": {},
   "outputs": [],
   "source": [
    "#Replacing null values with median, in this case going with the majority"
   ]
  },
  {
   "cell_type": "code",
   "execution_count": 227,
   "metadata": {},
   "outputs": [],
   "source": [
    "x = d_list['teacher_prefix']"
   ]
  },
  {
   "cell_type": "code",
   "execution_count": 228,
   "metadata": {},
   "outputs": [
    {
     "data": {
      "text/html": [
       "<div>\n",
       "<style scoped>\n",
       "    .dataframe tbody tr th:only-of-type {\n",
       "        vertical-align: middle;\n",
       "    }\n",
       "\n",
       "    .dataframe tbody tr th {\n",
       "        vertical-align: top;\n",
       "    }\n",
       "\n",
       "    .dataframe thead th {\n",
       "        text-align: right;\n",
       "    }\n",
       "</style>\n",
       "<table border=\"1\" class=\"dataframe\">\n",
       "  <thead>\n",
       "    <tr style=\"text-align: right;\">\n",
       "      <th></th>\n",
       "      <th>Unnamed: 0</th>\n",
       "      <th>id</th>\n",
       "      <th>teacher_id</th>\n",
       "      <th>teacher_prefix</th>\n",
       "      <th>school_state</th>\n",
       "      <th>date</th>\n",
       "      <th>project_grade_category</th>\n",
       "      <th>project_title</th>\n",
       "      <th>project_essay_1</th>\n",
       "      <th>project_essay_2</th>\n",
       "      <th>project_resource_summary</th>\n",
       "      <th>teacher_number_of_previously_posted_projects</th>\n",
       "      <th>project_is_approved</th>\n",
       "      <th>clean_categories</th>\n",
       "      <th>clean_subcatogories</th>\n",
       "      <th>essay</th>\n",
       "    </tr>\n",
       "  </thead>\n",
       "  <tbody>\n",
       "    <tr>\n",
       "      <th>473</th>\n",
       "      <td>100660</td>\n",
       "      <td>p234804</td>\n",
       "      <td>cbc0e38f522143b86d372f8b43d4cff3</td>\n",
       "      <td>Mrs.</td>\n",
       "      <td>GA</td>\n",
       "      <td>2016-04-27 00:53:00</td>\n",
       "      <td>Grades PreK-2</td>\n",
       "      <td>Flexible Seating for Flexible Learning</td>\n",
       "      <td>I recently read an article about giving studen...</td>\n",
       "      <td>I teach at a low-income (Title 1) school. Ever...</td>\n",
       "      <td>My students need flexible seating in the class...</td>\n",
       "      <td>2</td>\n",
       "      <td>1</td>\n",
       "      <td>AppliedLearning</td>\n",
       "      <td>EarlyDevelopment</td>\n",
       "      <td>I recently read an article about giving studen...</td>\n",
       "    </tr>\n",
       "    <tr>\n",
       "      <th>29891</th>\n",
       "      <td>146723</td>\n",
       "      <td>p099708</td>\n",
       "      <td>c0a28c79fe8ad5810da49de47b3fb491</td>\n",
       "      <td>Mrs.</td>\n",
       "      <td>CA</td>\n",
       "      <td>2016-04-27 01:10:09</td>\n",
       "      <td>Grades 3-5</td>\n",
       "      <td>Breakout Box to Ignite Engagement!</td>\n",
       "      <td>It's the end of the school year. Routines have...</td>\n",
       "      <td>My students desire challenges, movement, and c...</td>\n",
       "      <td>My students need items from a \\\"Breakout Box\\\"...</td>\n",
       "      <td>6</td>\n",
       "      <td>1</td>\n",
       "      <td>Math_Science History_Civics</td>\n",
       "      <td>Mathematics SocialSciences</td>\n",
       "      <td>It's the end of the school year. Routines have...</td>\n",
       "    </tr>\n",
       "    <tr>\n",
       "      <th>23374</th>\n",
       "      <td>72317</td>\n",
       "      <td>p087808</td>\n",
       "      <td>598621c141cda5fb184ee7e8ccdd3fcc</td>\n",
       "      <td>Ms.</td>\n",
       "      <td>CA</td>\n",
       "      <td>2016-04-27 02:04:15</td>\n",
       "      <td>Grades PreK-2</td>\n",
       "      <td>iPad for Learners</td>\n",
       "      <td>Never has society so rapidly changed. Technolo...</td>\n",
       "      <td>Our Language Arts and Social Justice Magnet Sc...</td>\n",
       "      <td>My students need 1 ipad mini.</td>\n",
       "      <td>127</td>\n",
       "      <td>1</td>\n",
       "      <td>Literacy_Language</td>\n",
       "      <td>ESL Literacy</td>\n",
       "      <td>Never has society so rapidly changed. Technolo...</td>\n",
       "    </tr>\n",
       "    <tr>\n",
       "      <th>7176</th>\n",
       "      <td>79341</td>\n",
       "      <td>p091436</td>\n",
       "      <td>bb2599c4a114d211b3381abe9f899bf8</td>\n",
       "      <td>Mrs.</td>\n",
       "      <td>OH</td>\n",
       "      <td>2016-04-27 07:24:47</td>\n",
       "      <td>Grades PreK-2</td>\n",
       "      <td>Robots are Taking over 2nd Grade</td>\n",
       "      <td>Computer coding and robotics, my second grader...</td>\n",
       "      <td>We are a small, rural school in Northwest Ohio...</td>\n",
       "      <td>My students need a robot mouse STEM activity s...</td>\n",
       "      <td>72</td>\n",
       "      <td>1</td>\n",
       "      <td>Math_Science AppliedLearning</td>\n",
       "      <td>AppliedSciences EarlyDevelopment</td>\n",
       "      <td>Computer coding and robotics, my second grader...</td>\n",
       "    </tr>\n",
       "    <tr>\n",
       "      <th>5145</th>\n",
       "      <td>50256</td>\n",
       "      <td>p203475</td>\n",
       "      <td>63e9a9f2c9811a247f1aa32ee6f92644</td>\n",
       "      <td>Mrs.</td>\n",
       "      <td>CA</td>\n",
       "      <td>2016-04-27 08:45:34</td>\n",
       "      <td>Grades 3-5</td>\n",
       "      <td>Books to Power Powerful Book Clubs!</td>\n",
       "      <td>Do you remember the book you read that made yo...</td>\n",
       "      <td>My students are part of an exciting adventure....</td>\n",
       "      <td>My students need books to help support their h...</td>\n",
       "      <td>6</td>\n",
       "      <td>1</td>\n",
       "      <td>Literacy_Language</td>\n",
       "      <td>Literacy</td>\n",
       "      <td>Do you remember the book you read that made yo...</td>\n",
       "    </tr>\n",
       "    <tr>\n",
       "      <th>2521</th>\n",
       "      <td>164738</td>\n",
       "      <td>p248458</td>\n",
       "      <td>40da977f63fb3d85589a063471304b11</td>\n",
       "      <td>Ms.</td>\n",
       "      <td>NJ</td>\n",
       "      <td>2016-04-27 09:33:03</td>\n",
       "      <td>Grades PreK-2</td>\n",
       "      <td>Supplies to Support my Struggling Readers!!</td>\n",
       "      <td>My students are all struggling readers. I supp...</td>\n",
       "      <td>My students live in a lower income area in Cen...</td>\n",
       "      <td>My students need phonics and reading comprehen...</td>\n",
       "      <td>27</td>\n",
       "      <td>0</td>\n",
       "      <td>Literacy_Language</td>\n",
       "      <td>Literacy Literature_Writing</td>\n",
       "      <td>My students are all struggling readers. I supp...</td>\n",
       "    </tr>\n",
       "    <tr>\n",
       "      <th>25460</th>\n",
       "      <td>24215</td>\n",
       "      <td>p146272</td>\n",
       "      <td>b268575725e7f840c48e108ff404b915</td>\n",
       "      <td>Mr.</td>\n",
       "      <td>PA</td>\n",
       "      <td>2016-04-27 09:51:44</td>\n",
       "      <td>Grades 6-8</td>\n",
       "      <td>Apollo-Ridge Band needs your help!</td>\n",
       "      <td>The thrill of learning music is indescribable,...</td>\n",
       "      <td>The Apollo-Ridge School District is situated i...</td>\n",
       "      <td>My students need these instruments! The band p...</td>\n",
       "      <td>0</td>\n",
       "      <td>1</td>\n",
       "      <td>Music_Arts</td>\n",
       "      <td>Music PerformingArts</td>\n",
       "      <td>The thrill of learning music is indescribable,...</td>\n",
       "    </tr>\n",
       "    <tr>\n",
       "      <th>5364</th>\n",
       "      <td>14044</td>\n",
       "      <td>p002546</td>\n",
       "      <td>91dacb4ab5754671f342b4a12abf3cfb</td>\n",
       "      <td>Mr.</td>\n",
       "      <td>CO</td>\n",
       "      <td>2016-04-27 10:10:36</td>\n",
       "      <td>Grades 6-8</td>\n",
       "      <td>3D Printing</td>\n",
       "      <td>The art room during a sculpture class is a bee...</td>\n",
       "      <td>My students consist of a mixed group of 6th, 7...</td>\n",
       "      <td>My students need a 3D Printer.</td>\n",
       "      <td>3</td>\n",
       "      <td>1</td>\n",
       "      <td>AppliedLearning Music_Arts</td>\n",
       "      <td>College_CareerPrep VisualArts</td>\n",
       "      <td>The art room during a sculpture class is a bee...</td>\n",
       "    </tr>\n",
       "    <tr>\n",
       "      <th>29183</th>\n",
       "      <td>39436</td>\n",
       "      <td>p061528</td>\n",
       "      <td>baf593ec5f2fe81a9a1595c52d274370</td>\n",
       "      <td>Mrs.</td>\n",
       "      <td>PA</td>\n",
       "      <td>2016-04-27 10:50:35</td>\n",
       "      <td>Grades 3-5</td>\n",
       "      <td>Leveled Library for Students with Disabilities</td>\n",
       "      <td>A typical day in my classroom includes a day f...</td>\n",
       "      <td>My class consists of 17 third grade students, ...</td>\n",
       "      <td>\\\"Reading for pleasure is strongly correlated ...</td>\n",
       "      <td>2</td>\n",
       "      <td>1</td>\n",
       "      <td>Literacy_Language</td>\n",
       "      <td>Literacy Literature_Writing</td>\n",
       "      <td>A typical day in my classroom includes a day f...</td>\n",
       "    </tr>\n",
       "    <tr>\n",
       "      <th>27157</th>\n",
       "      <td>16851</td>\n",
       "      <td>p129651</td>\n",
       "      <td>64e581db3b7ead037a479605aa4ec86e</td>\n",
       "      <td>Mr.</td>\n",
       "      <td>ID</td>\n",
       "      <td>2016-04-27 11:13:59</td>\n",
       "      <td>Grades 9-12</td>\n",
       "      <td>Coffee House Learning</td>\n",
       "      <td>\\\"Don't Let Where You are Today Affect Where Y...</td>\n",
       "      <td>I have the opportunity to teach every senior (...</td>\n",
       "      <td>My students need comfortable seating and worki...</td>\n",
       "      <td>0</td>\n",
       "      <td>1</td>\n",
       "      <td>AppliedLearning</td>\n",
       "      <td>College_CareerPrep</td>\n",
       "      <td>\\\"Don't Let Where You are Today Affect Where Y...</td>\n",
       "    </tr>\n",
       "    <tr>\n",
       "      <th>10985</th>\n",
       "      <td>7618</td>\n",
       "      <td>p098906</td>\n",
       "      <td>3164e97d8a8b10fe7b6c8a50011f181d</td>\n",
       "      <td>Mrs.</td>\n",
       "      <td>MA</td>\n",
       "      <td>2016-04-27 11:24:05</td>\n",
       "      <td>Grades PreK-2</td>\n",
       "      <td>Story Book Wonder!</td>\n",
       "      <td>\\\"Storytelling is the essential human activity...</td>\n",
       "      <td>I teach kindergarten and first grade special e...</td>\n",
       "      <td>My students need storytelling puppets, books a...</td>\n",
       "      <td>20</td>\n",
       "      <td>1</td>\n",
       "      <td>Literacy_Language SpecialNeeds</td>\n",
       "      <td>Literacy SpecialNeeds</td>\n",
       "      <td>\\\"Storytelling is the essential human activity...</td>\n",
       "    </tr>\n",
       "    <tr>\n",
       "      <th>15560</th>\n",
       "      <td>59350</td>\n",
       "      <td>p181429</td>\n",
       "      <td>815744a4821c7b9647d396386193d88a</td>\n",
       "      <td>Mrs.</td>\n",
       "      <td>ME</td>\n",
       "      <td>2016-04-27 11:25:48</td>\n",
       "      <td>Grades PreK-2</td>\n",
       "      <td>Dear Mrs. Perry, We Want Bean Bag Chairs!</td>\n",
       "      <td>I have a classroom full of very convincing wri...</td>\n",
       "      <td>Our classroom is made up of 15 hardworking and...</td>\n",
       "      <td>My students need to know how powerful writing ...</td>\n",
       "      <td>4</td>\n",
       "      <td>1</td>\n",
       "      <td>Literacy_Language</td>\n",
       "      <td>Literature_Writing</td>\n",
       "      <td>I have a classroom full of very convincing wri...</td>\n",
       "    </tr>\n",
       "    <tr>\n",
       "      <th>26150</th>\n",
       "      <td>4866</td>\n",
       "      <td>p193355</td>\n",
       "      <td>44806d9336e0b88ffb36988882845260</td>\n",
       "      <td>Mr.</td>\n",
       "      <td>TX</td>\n",
       "      <td>2016-04-27 11:44:09</td>\n",
       "      <td>Grades 9-12</td>\n",
       "      <td>Equipment for swim team</td>\n",
       "      <td>My students are great kids and they need new a...</td>\n",
       "      <td>My students range from freshman to seniors. Th...</td>\n",
       "      <td>My students need TRX Suspension trainers, Athl...</td>\n",
       "      <td>1</td>\n",
       "      <td>0</td>\n",
       "      <td>Health_Sports</td>\n",
       "      <td>Gym_Fitness TeamSports</td>\n",
       "      <td>My students are great kids and they need new a...</td>\n",
       "    </tr>\n",
       "    <tr>\n",
       "      <th>16710</th>\n",
       "      <td>57546</td>\n",
       "      <td>p203201</td>\n",
       "      <td>4a6eff8f4b591c823f1595d602ac9efd</td>\n",
       "      <td>Ms.</td>\n",
       "      <td>WA</td>\n",
       "      <td>2016-04-27 12:06:13</td>\n",
       "      <td>Grades PreK-2</td>\n",
       "      <td>We need writing supplies!</td>\n",
       "      <td>Have you ever been working on something and ha...</td>\n",
       "      <td>My students are amazing people who I have the ...</td>\n",
       "      <td>My students need writing utensils and supplies...</td>\n",
       "      <td>25</td>\n",
       "      <td>1</td>\n",
       "      <td>Literacy_Language Math_Science</td>\n",
       "      <td>Literacy Mathematics</td>\n",
       "      <td>Have you ever been working on something and ha...</td>\n",
       "    </tr>\n",
       "    <tr>\n",
       "      <th>3673</th>\n",
       "      <td>71548</td>\n",
       "      <td>p150991</td>\n",
       "      <td>fb827eb589ddd38274b28bd252494d0c</td>\n",
       "      <td>Ms.</td>\n",
       "      <td>SC</td>\n",
       "      <td>2016-04-27 12:18:42</td>\n",
       "      <td>Grades PreK-2</td>\n",
       "      <td>Literacy for Life</td>\n",
       "      <td>I want my students to have fun when they choos...</td>\n",
       "      <td>I teach at a fairly diverse Title l school. Ma...</td>\n",
       "      <td>My students need leveled books in the classroo...</td>\n",
       "      <td>3</td>\n",
       "      <td>1</td>\n",
       "      <td>Literacy_Language</td>\n",
       "      <td>Literacy</td>\n",
       "      <td>I want my students to have fun when they choos...</td>\n",
       "    </tr>\n",
       "    <tr>\n",
       "      <th>28790</th>\n",
       "      <td>50504</td>\n",
       "      <td>p083930</td>\n",
       "      <td>1fd39e93146154b9b497aea247b8245e</td>\n",
       "      <td>Mr.</td>\n",
       "      <td>GA</td>\n",
       "      <td>2016-04-27 12:20:10</td>\n",
       "      <td>Grades 9-12</td>\n",
       "      <td>Market Integration Analysis Project</td>\n",
       "      <td>My students are learning to apply technology i...</td>\n",
       "      <td>The school encompasses 9th grade to 12th grade...</td>\n",
       "      <td>My students need to learn the use of technolog...</td>\n",
       "      <td>3</td>\n",
       "      <td>1</td>\n",
       "      <td>History_Civics Math_Science</td>\n",
       "      <td>Economics Mathematics</td>\n",
       "      <td>My students are learning to apply technology i...</td>\n",
       "    </tr>\n",
       "    <tr>\n",
       "      <th>2768</th>\n",
       "      <td>35485</td>\n",
       "      <td>p053650</td>\n",
       "      <td>3ba692f733b7447a9058991c74433f64</td>\n",
       "      <td>Ms.</td>\n",
       "      <td>MD</td>\n",
       "      <td>2016-04-27 12:35:39</td>\n",
       "      <td>Grades PreK-2</td>\n",
       "      <td>TABLES to make us ABLE!</td>\n",
       "      <td>A typical day in our classroom involves the st...</td>\n",
       "      <td>My school and my students come from an area of...</td>\n",
       "      <td>My students need tables to allow for them to h...</td>\n",
       "      <td>0</td>\n",
       "      <td>1</td>\n",
       "      <td>Literacy_Language Math_Science</td>\n",
       "      <td>Literacy Mathematics</td>\n",
       "      <td>A typical day in our classroom involves the st...</td>\n",
       "    </tr>\n",
       "    <tr>\n",
       "      <th>8336</th>\n",
       "      <td>70746</td>\n",
       "      <td>p131072</td>\n",
       "      <td>56dc4398d26874ed08a5ace90e2d9e95</td>\n",
       "      <td>Mrs.</td>\n",
       "      <td>TX</td>\n",
       "      <td>2016-04-27 12:45:07</td>\n",
       "      <td>Grades 3-5</td>\n",
       "      <td>New Way of Learning - Part 1</td>\n",
       "      <td>My classroom is never \\\"normal\\\" &amp; I strive to...</td>\n",
       "      <td>My students are amazing! They are unique! They...</td>\n",
       "      <td>My students need..... Who couldn't use a new p...</td>\n",
       "      <td>0</td>\n",
       "      <td>0</td>\n",
       "      <td>Health_Sports</td>\n",
       "      <td>Health_Wellness</td>\n",
       "      <td>My classroom is never \\\"normal\\\" &amp; I strive to...</td>\n",
       "    </tr>\n",
       "    <tr>\n",
       "      <th>27074</th>\n",
       "      <td>181003</td>\n",
       "      <td>p150125</td>\n",
       "      <td>ed272f3acc03203bdf702f255ac0e2c7</td>\n",
       "      <td>Mrs.</td>\n",
       "      <td>GA</td>\n",
       "      <td>2016-04-27 12:55:13</td>\n",
       "      <td>Grades 3-5</td>\n",
       "      <td>Keep Calm and Get Organized!</td>\n",
       "      <td>\\\"A place for everything and everything in its...</td>\n",
       "      <td>My students are my life. When I decided I want...</td>\n",
       "      <td>My students need a good quality chair pocket t...</td>\n",
       "      <td>0</td>\n",
       "      <td>1</td>\n",
       "      <td>Math_Science SpecialNeeds</td>\n",
       "      <td>Mathematics SpecialNeeds</td>\n",
       "      <td>\\\"A place for everything and everything in its...</td>\n",
       "    </tr>\n",
       "    <tr>\n",
       "      <th>30497</th>\n",
       "      <td>37531</td>\n",
       "      <td>p237739</td>\n",
       "      <td>4a6eff8f4b591c823f1595d602ac9efd</td>\n",
       "      <td>Ms.</td>\n",
       "      <td>WA</td>\n",
       "      <td>2016-04-27 13:06:59</td>\n",
       "      <td>Grades PreK-2</td>\n",
       "      <td>Shared Reading for Everyone!</td>\n",
       "      <td>First grade students are learning to read! The...</td>\n",
       "      <td>First grade is an amazing year for children! I...</td>\n",
       "      <td>My students need a class set of binders to hol...</td>\n",
       "      <td>25</td>\n",
       "      <td>1</td>\n",
       "      <td>Literacy_Language</td>\n",
       "      <td>Literacy Literature_Writing</td>\n",
       "      <td>First grade students are learning to read! The...</td>\n",
       "    </tr>\n",
       "    <tr>\n",
       "      <th>20773</th>\n",
       "      <td>152643</td>\n",
       "      <td>p177457</td>\n",
       "      <td>ad31548c7ee6f5da24efaa7cc81bcf22</td>\n",
       "      <td>Ms.</td>\n",
       "      <td>SC</td>\n",
       "      <td>2016-04-27 13:08:05</td>\n",
       "      <td>Grades PreK-2</td>\n",
       "      <td>Open Our Eyes to the World with Nonfiction Books</td>\n",
       "      <td>My students are always up and on the move. The...</td>\n",
       "      <td>I teach a group of second graders that come in...</td>\n",
       "      <td>My students need nonfiction books to improve c...</td>\n",
       "      <td>1</td>\n",
       "      <td>1</td>\n",
       "      <td>Literacy_Language</td>\n",
       "      <td>Literacy Literature_Writing</td>\n",
       "      <td>My students are always up and on the move. The...</td>\n",
       "    </tr>\n",
       "    <tr>\n",
       "      <th>4202</th>\n",
       "      <td>144294</td>\n",
       "      <td>p199039</td>\n",
       "      <td>59b9debed20a4c2b5736cecaf3b50605</td>\n",
       "      <td>Ms.</td>\n",
       "      <td>MI</td>\n",
       "      <td>2016-04-27 13:18:30</td>\n",
       "      <td>Grades PreK-2</td>\n",
       "      <td>The Outdoor Classroom</td>\n",
       "      <td>My students have two 45 minute outdoor learnin...</td>\n",
       "      <td>My school serves low income students and famil...</td>\n",
       "      <td>My students need an outdoor art easel, paint, ...</td>\n",
       "      <td>0</td>\n",
       "      <td>1</td>\n",
       "      <td>AppliedLearning Music_Arts</td>\n",
       "      <td>EarlyDevelopment VisualArts</td>\n",
       "      <td>My students have two 45 minute outdoor learnin...</td>\n",
       "    </tr>\n",
       "    <tr>\n",
       "      <th>22360</th>\n",
       "      <td>118931</td>\n",
       "      <td>p201862</td>\n",
       "      <td>d8dd16ff678e80838c56fa1e9e3aa2a6</td>\n",
       "      <td>Ms.</td>\n",
       "      <td>CA</td>\n",
       "      <td>2016-04-27 13:22:53</td>\n",
       "      <td>Grades PreK-2</td>\n",
       "      <td>Little learners love listening to books!!!!</td>\n",
       "      <td>Listening to reading is a must for students to...</td>\n",
       "      <td>My students love school and love to learn usin...</td>\n",
       "      <td>My students need 2 iPod nanos to update our li...</td>\n",
       "      <td>14</td>\n",
       "      <td>1</td>\n",
       "      <td>Literacy_Language SpecialNeeds</td>\n",
       "      <td>Literacy SpecialNeeds</td>\n",
       "      <td>Listening to reading is a must for students to...</td>\n",
       "    </tr>\n",
       "    <tr>\n",
       "      <th>3715</th>\n",
       "      <td>158445</td>\n",
       "      <td>p023099</td>\n",
       "      <td>1b26bb6d84afb1116c79837f130bff09</td>\n",
       "      <td>Ms.</td>\n",
       "      <td>CA</td>\n",
       "      <td>2016-04-27 13:56:18</td>\n",
       "      <td>Grades 6-8</td>\n",
       "      <td>Color Run</td>\n",
       "      <td>We have over 900 students and at the end of th...</td>\n",
       "      <td>Our students work hard everyday in their Physi...</td>\n",
       "      <td>My students need to participate in this fun ev...</td>\n",
       "      <td>4</td>\n",
       "      <td>1</td>\n",
       "      <td>Health_Sports</td>\n",
       "      <td>Gym_Fitness</td>\n",
       "      <td>We have over 900 students and at the end of th...</td>\n",
       "    </tr>\n",
       "    <tr>\n",
       "      <th>15241</th>\n",
       "      <td>113683</td>\n",
       "      <td>p086614</td>\n",
       "      <td>f3565e6103191f3764b8f27de5646ae5</td>\n",
       "      <td>Ms.</td>\n",
       "      <td>IN</td>\n",
       "      <td>2016-04-27 14:06:26</td>\n",
       "      <td>Grades 6-8</td>\n",
       "      <td>Teaching Organization</td>\n",
       "      <td>Seventh and eighth grade students at my school...</td>\n",
       "      <td>My students are the future leaders of their co...</td>\n",
       "      <td>My students need 40 binders, 1 for each studen...</td>\n",
       "      <td>8</td>\n",
       "      <td>1</td>\n",
       "      <td>Math_Science Literacy_Language</td>\n",
       "      <td>AppliedSciences Literacy</td>\n",
       "      <td>Seventh and eighth grade students at my school...</td>\n",
       "    </tr>\n",
       "    <tr>\n",
       "      <th>23598</th>\n",
       "      <td>28458</td>\n",
       "      <td>p022155</td>\n",
       "      <td>8a16fafbf30f118749f396d32e0b0bb4</td>\n",
       "      <td>Mrs.</td>\n",
       "      <td>NJ</td>\n",
       "      <td>2016-04-27 14:15:45</td>\n",
       "      <td>Grades 3-5</td>\n",
       "      <td>Building Confident Reader's  04/21/16</td>\n",
       "      <td>Working in a school district where supplies ar...</td>\n",
       "      <td>My students are inner city children with stron...</td>\n",
       "      <td>My students need materials that will support t...</td>\n",
       "      <td>0</td>\n",
       "      <td>1</td>\n",
       "      <td>Literacy_Language</td>\n",
       "      <td>Literacy</td>\n",
       "      <td>Working in a school district where supplies ar...</td>\n",
       "    </tr>\n",
       "    <tr>\n",
       "      <th>430</th>\n",
       "      <td>120024</td>\n",
       "      <td>p043954</td>\n",
       "      <td>ec86b4c206216996868868e72abb37c2</td>\n",
       "      <td>Mr.</td>\n",
       "      <td>NJ</td>\n",
       "      <td>2016-04-27 14:24:00</td>\n",
       "      <td>Grades 6-8</td>\n",
       "      <td>Keeping Newark Fit</td>\n",
       "      <td>Please help my 3rd-8th grade students get the ...</td>\n",
       "      <td>My student's are your average 7-13 year old sc...</td>\n",
       "      <td>My students need basketballs and playground ba...</td>\n",
       "      <td>0</td>\n",
       "      <td>1</td>\n",
       "      <td>Health_Sports</td>\n",
       "      <td>Gym_Fitness TeamSports</td>\n",
       "      <td>Please help my 3rd-8th grade students get the ...</td>\n",
       "    </tr>\n",
       "    <tr>\n",
       "      <th>1292</th>\n",
       "      <td>155765</td>\n",
       "      <td>p252285</td>\n",
       "      <td>10ba0b629d4de9e90b74fc915f67ae72</td>\n",
       "      <td>Mrs.</td>\n",
       "      <td>SC</td>\n",
       "      <td>2016-04-27 15:01:55</td>\n",
       "      <td>Grades 3-5</td>\n",
       "      <td>Bigger IS Better When You Are Visually Impaired!</td>\n",
       "      <td>My students all have varying degrees of visual...</td>\n",
       "      <td>The majority of my students are from low incom...</td>\n",
       "      <td>My students need large screen monitors to be a...</td>\n",
       "      <td>2</td>\n",
       "      <td>1</td>\n",
       "      <td>Literacy_Language SpecialNeeds</td>\n",
       "      <td>Literacy SpecialNeeds</td>\n",
       "      <td>My students all have varying degrees of visual...</td>\n",
       "    </tr>\n",
       "    <tr>\n",
       "      <th>3235</th>\n",
       "      <td>93412</td>\n",
       "      <td>p187716</td>\n",
       "      <td>60b0f07afe3040e8f273152e7d2f8406</td>\n",
       "      <td>Mrs.</td>\n",
       "      <td>FL</td>\n",
       "      <td>2016-04-27 15:10:28</td>\n",
       "      <td>Grades 9-12</td>\n",
       "      <td>Students in focus</td>\n",
       "      <td>My students are excited for new opportunities ...</td>\n",
       "      <td>Our school continues to amaze me on a daily ba...</td>\n",
       "      <td>My students need a projector and document scanner</td>\n",
       "      <td>3</td>\n",
       "      <td>1</td>\n",
       "      <td>Math_Science</td>\n",
       "      <td>AppliedSciences EnvironmentalScience</td>\n",
       "      <td>My students are excited for new opportunities ...</td>\n",
       "    </tr>\n",
       "    <tr>\n",
       "      <th>10294</th>\n",
       "      <td>69931</td>\n",
       "      <td>p045868</td>\n",
       "      <td>33cffcc631c1b2e85369fe41f4c2f2b5</td>\n",
       "      <td>Ms.</td>\n",
       "      <td>NC</td>\n",
       "      <td>2016-04-27 15:42:32</td>\n",
       "      <td>Grades PreK-2</td>\n",
       "      <td>Tables for Collaboration</td>\n",
       "      <td>Our classroom is full of excitement and learni...</td>\n",
       "      <td>I serve students in a Title 1 school  with 75 ...</td>\n",
       "      <td>My students need tables to collaborate and lea...</td>\n",
       "      <td>4</td>\n",
       "      <td>1</td>\n",
       "      <td>Literacy_Language Math_Science</td>\n",
       "      <td>Literacy Mathematics</td>\n",
       "      <td>Our classroom is full of excitement and learni...</td>\n",
       "    </tr>\n",
       "    <tr>\n",
       "      <th>...</th>\n",
       "      <td>...</td>\n",
       "      <td>...</td>\n",
       "      <td>...</td>\n",
       "      <td>...</td>\n",
       "      <td>...</td>\n",
       "      <td>...</td>\n",
       "      <td>...</td>\n",
       "      <td>...</td>\n",
       "      <td>...</td>\n",
       "      <td>...</td>\n",
       "      <td>...</td>\n",
       "      <td>...</td>\n",
       "      <td>...</td>\n",
       "      <td>...</td>\n",
       "      <td>...</td>\n",
       "      <td>...</td>\n",
       "    </tr>\n",
       "    <tr>\n",
       "      <th>1205</th>\n",
       "      <td>103388</td>\n",
       "      <td>p257453</td>\n",
       "      <td>9554ff21550f75eb521a5dbcbf06076b</td>\n",
       "      <td>Mrs.</td>\n",
       "      <td>NY</td>\n",
       "      <td>2017-04-30 08:35:06</td>\n",
       "      <td>Grades 3-5</td>\n",
       "      <td>Future Writers!</td>\n",
       "      <td>Some students learn differently.  That is what...</td>\n",
       "      <td>I don't want my students creativity and unique...</td>\n",
       "      <td>My students need assistive technology to expre...</td>\n",
       "      <td>2</td>\n",
       "      <td>1</td>\n",
       "      <td>Literacy_Language</td>\n",
       "      <td>Literature_Writing</td>\n",
       "      <td>Some students learn differently.  That is what...</td>\n",
       "    </tr>\n",
       "    <tr>\n",
       "      <th>6802</th>\n",
       "      <td>84141</td>\n",
       "      <td>p085435</td>\n",
       "      <td>bf78effa26def2077da0b0ce25ed5012</td>\n",
       "      <td>Ms.</td>\n",
       "      <td>KY</td>\n",
       "      <td>2017-04-30 09:37:04</td>\n",
       "      <td>Grades PreK-2</td>\n",
       "      <td>Writing Essentials For Kindergarten</td>\n",
       "      <td>I teach at a small country school in Central K...</td>\n",
       "      <td>Learning to write is a very exciting time for ...</td>\n",
       "      <td>My students need fine motor and handwriting ma...</td>\n",
       "      <td>27</td>\n",
       "      <td>1</td>\n",
       "      <td>AppliedLearning Literacy_Language</td>\n",
       "      <td>EarlyDevelopment Literature_Writing</td>\n",
       "      <td>I teach at a small country school in Central K...</td>\n",
       "    </tr>\n",
       "    <tr>\n",
       "      <th>6108</th>\n",
       "      <td>160387</td>\n",
       "      <td>p022956</td>\n",
       "      <td>1a46ae048520d8fc69cfd346e4cc72c2</td>\n",
       "      <td>Mrs.</td>\n",
       "      <td>FL</td>\n",
       "      <td>2017-04-30 10:17:08</td>\n",
       "      <td>Grades PreK-2</td>\n",
       "      <td>Technology and Hands on Centers</td>\n",
       "      <td>I am always excited to see my students enter t...</td>\n",
       "      <td>My kindergarteners learn best with a variety o...</td>\n",
       "      <td>My students need more technology and hands on ...</td>\n",
       "      <td>0</td>\n",
       "      <td>1</td>\n",
       "      <td>Literacy_Language Math_Science</td>\n",
       "      <td>Literacy Mathematics</td>\n",
       "      <td>I am always excited to see my students enter t...</td>\n",
       "    </tr>\n",
       "    <tr>\n",
       "      <th>21640</th>\n",
       "      <td>159623</td>\n",
       "      <td>p179426</td>\n",
       "      <td>3bc37eabeca1c65557535501354949d1</td>\n",
       "      <td>Ms.</td>\n",
       "      <td>TN</td>\n",
       "      <td>2017-04-30 10:49:40</td>\n",
       "      <td>Grades PreK-2</td>\n",
       "      <td>Signs of the Times!</td>\n",
       "      <td>We are a diversified elementary school of 577 ...</td>\n",
       "      <td>The colorful and engaging materials will help ...</td>\n",
       "      <td>My students need colorful and engaging sign la...</td>\n",
       "      <td>11</td>\n",
       "      <td>1</td>\n",
       "      <td>Literacy_Language</td>\n",
       "      <td>ForeignLanguages</td>\n",
       "      <td>We are a diversified elementary school of 577 ...</td>\n",
       "    </tr>\n",
       "    <tr>\n",
       "      <th>27065</th>\n",
       "      <td>29450</td>\n",
       "      <td>p031509</td>\n",
       "      <td>1795c924a2753cc2122649d6d4ea6c3f</td>\n",
       "      <td>Ms.</td>\n",
       "      <td>NY</td>\n",
       "      <td>2017-04-30 11:13:44</td>\n",
       "      <td>Grades PreK-2</td>\n",
       "      <td>LEGO Education in PreK</td>\n",
       "      <td>Our school is in the heart of Brooklyn, NY.\\r\\...</td>\n",
       "      <td>LEGO Education Preschool solutions extend the ...</td>\n",
       "      <td>My students need LEGO Sets and idea books to e...</td>\n",
       "      <td>157</td>\n",
       "      <td>1</td>\n",
       "      <td>Literacy_Language Math_Science</td>\n",
       "      <td>Literacy Mathematics</td>\n",
       "      <td>Our school is in the heart of Brooklyn, NY.\\r\\...</td>\n",
       "    </tr>\n",
       "    <tr>\n",
       "      <th>770</th>\n",
       "      <td>110477</td>\n",
       "      <td>p202657</td>\n",
       "      <td>cd29d835cc83212784e94d2c8fe1bf69</td>\n",
       "      <td>Mr.</td>\n",
       "      <td>MO</td>\n",
       "      <td>2017-04-30 11:29:14</td>\n",
       "      <td>Grades 9-12</td>\n",
       "      <td>Scientific Calculators for Science</td>\n",
       "      <td>I work with a diverse set of students with var...</td>\n",
       "      <td>This project is to get a class set of scientif...</td>\n",
       "      <td>My students need scientific calculators to use...</td>\n",
       "      <td>0</td>\n",
       "      <td>1</td>\n",
       "      <td>Math_Science</td>\n",
       "      <td>AppliedSciences Health_LifeScience</td>\n",
       "      <td>I work with a diverse set of students with var...</td>\n",
       "    </tr>\n",
       "    <tr>\n",
       "      <th>15501</th>\n",
       "      <td>170664</td>\n",
       "      <td>p214929</td>\n",
       "      <td>c0beb1f8391f4b3ea7d1cd5aefe9cb66</td>\n",
       "      <td>Ms.</td>\n",
       "      <td>CA</td>\n",
       "      <td>2017-04-30 11:40:06</td>\n",
       "      <td>Grades 3-5</td>\n",
       "      <td>Small Group Work in a Fresh Space</td>\n",
       "      <td>I work in a Title 1 school in East Oakland. Wh...</td>\n",
       "      <td>Currently, the rug in our classroom library (p...</td>\n",
       "      <td>My students need a fresh, new rug to sit on fo...</td>\n",
       "      <td>0</td>\n",
       "      <td>1</td>\n",
       "      <td>Literacy_Language</td>\n",
       "      <td>Literacy Literature_Writing</td>\n",
       "      <td>I work in a Title 1 school in East Oakland. Wh...</td>\n",
       "    </tr>\n",
       "    <tr>\n",
       "      <th>3259</th>\n",
       "      <td>71670</td>\n",
       "      <td>p014709</td>\n",
       "      <td>980221b1d4d8a0947bd949f7f7b83027</td>\n",
       "      <td>Ms.</td>\n",
       "      <td>NJ</td>\n",
       "      <td>2017-04-30 12:40:09</td>\n",
       "      <td>Grades 3-5</td>\n",
       "      <td>Writing With Emotion Leads to Growth</td>\n",
       "      <td>Welcome to my 4th grade class of wonder, learn...</td>\n",
       "      <td>Most of my students are on the lower level of ...</td>\n",
       "      <td>My students need composition notebooks to help...</td>\n",
       "      <td>8</td>\n",
       "      <td>1</td>\n",
       "      <td>AppliedLearning Literacy_Language</td>\n",
       "      <td>CharacterEducation Literature_Writing</td>\n",
       "      <td>Welcome to my 4th grade class of wonder, learn...</td>\n",
       "    </tr>\n",
       "    <tr>\n",
       "      <th>11152</th>\n",
       "      <td>5365</td>\n",
       "      <td>p212401</td>\n",
       "      <td>d6d822a66f354ea2f3666d6093448e16</td>\n",
       "      <td>Mrs.</td>\n",
       "      <td>CA</td>\n",
       "      <td>2017-04-30 14:06:14</td>\n",
       "      <td>Grades PreK-2</td>\n",
       "      <td>Junior Engineers in Action</td>\n",
       "      <td>My students are curious seven year olds who co...</td>\n",
       "      <td>In my classroom I believe in hands on learning...</td>\n",
       "      <td>My students need an Osmo kit, an ipad mini, an...</td>\n",
       "      <td>68</td>\n",
       "      <td>0</td>\n",
       "      <td>Math_Science AppliedLearning</td>\n",
       "      <td>AppliedSciences College_CareerPrep</td>\n",
       "      <td>My students are curious seven year olds who co...</td>\n",
       "    </tr>\n",
       "    <tr>\n",
       "      <th>17044</th>\n",
       "      <td>80538</td>\n",
       "      <td>p226823</td>\n",
       "      <td>a6412d68b49ac34228506ad33c5e8d28</td>\n",
       "      <td>Mrs.</td>\n",
       "      <td>TN</td>\n",
       "      <td>2017-04-30 14:30:42</td>\n",
       "      <td>Grades 6-8</td>\n",
       "      <td>Learning Technology Style</td>\n",
       "      <td>My students have had very few opportunities to...</td>\n",
       "      <td>We are a title 1 district with little to no ac...</td>\n",
       "      <td>My students need to be able to learn in and fo...</td>\n",
       "      <td>0</td>\n",
       "      <td>0</td>\n",
       "      <td>Math_Science</td>\n",
       "      <td>AppliedSciences</td>\n",
       "      <td>My students have had very few opportunities to...</td>\n",
       "    </tr>\n",
       "    <tr>\n",
       "      <th>16862</th>\n",
       "      <td>173596</td>\n",
       "      <td>p157760</td>\n",
       "      <td>4ccfd5ccd182bbe1ed31fc9e19daabc8</td>\n",
       "      <td>Ms.</td>\n",
       "      <td>CA</td>\n",
       "      <td>2017-04-30 14:45:36</td>\n",
       "      <td>Grades 6-8</td>\n",
       "      <td>Expedition Unknown: The Classroom Version</td>\n",
       "      <td>My students live in a high poverty, farming co...</td>\n",
       "      <td>In Science, we are always talking about variou...</td>\n",
       "      <td>My students need Google Expeditions Kit in ord...</td>\n",
       "      <td>7</td>\n",
       "      <td>1</td>\n",
       "      <td>Math_Science</td>\n",
       "      <td>EnvironmentalScience Health_LifeScience</td>\n",
       "      <td>My students live in a high poverty, farming co...</td>\n",
       "    </tr>\n",
       "    <tr>\n",
       "      <th>26930</th>\n",
       "      <td>146846</td>\n",
       "      <td>p177603</td>\n",
       "      <td>e73cf0c5ad26ceb004c5178ab2f5b5f3</td>\n",
       "      <td>Ms.</td>\n",
       "      <td>MO</td>\n",
       "      <td>2017-04-30 15:39:17</td>\n",
       "      <td>Grades PreK-2</td>\n",
       "      <td>Tables for Kinders to Collaborate and Grow</td>\n",
       "      <td>I am a 5th year teacher and recently moved fro...</td>\n",
       "      <td>I am moving from a second grade classroom to a...</td>\n",
       "      <td>My students need tables that fit their kinderg...</td>\n",
       "      <td>1</td>\n",
       "      <td>1</td>\n",
       "      <td>Literacy_Language</td>\n",
       "      <td>Literacy Literature_Writing</td>\n",
       "      <td>I am a 5th year teacher and recently moved fro...</td>\n",
       "    </tr>\n",
       "    <tr>\n",
       "      <th>3400</th>\n",
       "      <td>124670</td>\n",
       "      <td>p251914</td>\n",
       "      <td>4b17e788d2f20ecd1cca988d9873f16d</td>\n",
       "      <td>Ms.</td>\n",
       "      <td>CT</td>\n",
       "      <td>2017-04-30 15:59:02</td>\n",
       "      <td>Grades PreK-2</td>\n",
       "      <td>Privacy Folders</td>\n",
       "      <td>I am the teacher of 24 amazing first graders! ...</td>\n",
       "      <td>My students needs privacy folders for our dail...</td>\n",
       "      <td>My students need privacy folders to successful...</td>\n",
       "      <td>4</td>\n",
       "      <td>1</td>\n",
       "      <td>Literacy_Language Math_Science</td>\n",
       "      <td>Literature_Writing Mathematics</td>\n",
       "      <td>I am the teacher of 24 amazing first graders! ...</td>\n",
       "    </tr>\n",
       "    <tr>\n",
       "      <th>22712</th>\n",
       "      <td>97591</td>\n",
       "      <td>p171281</td>\n",
       "      <td>f8ea9444e2fef36da26acca00ef4bc0a</td>\n",
       "      <td>Mrs.</td>\n",
       "      <td>KY</td>\n",
       "      <td>2017-04-30 17:25:19</td>\n",
       "      <td>Grades PreK-2</td>\n",
       "      <td>Hands-On Math Centers and Games</td>\n",
       "      <td>I teach in a second grade classroom at a Title...</td>\n",
       "      <td>It is no secret that students who are fully en...</td>\n",
       "      <td>My students need hands-on and engaging math ce...</td>\n",
       "      <td>1</td>\n",
       "      <td>1</td>\n",
       "      <td>Math_Science</td>\n",
       "      <td>Mathematics</td>\n",
       "      <td>I teach in a second grade classroom at a Title...</td>\n",
       "    </tr>\n",
       "    <tr>\n",
       "      <th>13593</th>\n",
       "      <td>6826</td>\n",
       "      <td>p069120</td>\n",
       "      <td>01a4a52152e4fb8d575918f407f24e05</td>\n",
       "      <td>Ms.</td>\n",
       "      <td>CA</td>\n",
       "      <td>2017-04-30 17:59:11</td>\n",
       "      <td>Grades 6-8</td>\n",
       "      <td>Student Medical Detectives!</td>\n",
       "      <td>My school has about 45% free and reduced lunch...</td>\n",
       "      <td>These resources will help me to create a new e...</td>\n",
       "      <td>My students need f the DNA, Skeletal and Brain...</td>\n",
       "      <td>5</td>\n",
       "      <td>0</td>\n",
       "      <td>Math_Science</td>\n",
       "      <td>Health_LifeScience</td>\n",
       "      <td>My school has about 45% free and reduced lunch...</td>\n",
       "    </tr>\n",
       "    <tr>\n",
       "      <th>11563</th>\n",
       "      <td>67830</td>\n",
       "      <td>p230813</td>\n",
       "      <td>633d2678d047fa96568d1871084fe300</td>\n",
       "      <td>Mr.</td>\n",
       "      <td>IL</td>\n",
       "      <td>2017-04-30 18:52:37</td>\n",
       "      <td>Grades 6-8</td>\n",
       "      <td>Student Lunch Group: Connecting Kids With Adul...</td>\n",
       "      <td>JMS is a middle school of approximately 440 6t...</td>\n",
       "      <td>The games that you generously donate towards w...</td>\n",
       "      <td>My students need a place to connect and belong...</td>\n",
       "      <td>2</td>\n",
       "      <td>1</td>\n",
       "      <td>AppliedLearning</td>\n",
       "      <td>Other</td>\n",
       "      <td>JMS is a middle school of approximately 440 6t...</td>\n",
       "    </tr>\n",
       "    <tr>\n",
       "      <th>31154</th>\n",
       "      <td>131187</td>\n",
       "      <td>p071587</td>\n",
       "      <td>fa5ca1a8ceaebfe84cd7a9cd563650c4</td>\n",
       "      <td>Mrs.</td>\n",
       "      <td>CA</td>\n",
       "      <td>2017-04-30 19:05:44</td>\n",
       "      <td>Grades 3-5</td>\n",
       "      <td>Sharpen Our Reading and Writing!</td>\n",
       "      <td>Our school is very diverse. Students come from...</td>\n",
       "      <td>Every school year my students get immersed in ...</td>\n",
       "      <td>My students need reading and writing supplies ...</td>\n",
       "      <td>6</td>\n",
       "      <td>1</td>\n",
       "      <td>Literacy_Language</td>\n",
       "      <td>Literature_Writing</td>\n",
       "      <td>Our school is very diverse. Students come from...</td>\n",
       "    </tr>\n",
       "    <tr>\n",
       "      <th>25125</th>\n",
       "      <td>122674</td>\n",
       "      <td>p194004</td>\n",
       "      <td>980b85290b35ed88ac0ba2a10d066497</td>\n",
       "      <td>Ms.</td>\n",
       "      <td>OH</td>\n",
       "      <td>2017-04-30 19:13:09</td>\n",
       "      <td>Grades 3-5</td>\n",
       "      <td>Loving to Learn While Learning to Read</td>\n",
       "      <td>\\\"Miss Wise, I read it all by myself!\\\" At the...</td>\n",
       "      <td>At my school, we LOVE to read.  \\\"Read, Baby, ...</td>\n",
       "      <td>My students need a wide variety of books to co...</td>\n",
       "      <td>0</td>\n",
       "      <td>1</td>\n",
       "      <td>Literacy_Language</td>\n",
       "      <td>Literacy</td>\n",
       "      <td>\\\"Miss Wise, I read it all by myself!\\\" At the...</td>\n",
       "    </tr>\n",
       "    <tr>\n",
       "      <th>12918</th>\n",
       "      <td>94455</td>\n",
       "      <td>p076584</td>\n",
       "      <td>4255ee1b4eedcc7b3a726c41717b7364</td>\n",
       "      <td>Ms.</td>\n",
       "      <td>FL</td>\n",
       "      <td>2017-04-30 19:23:56</td>\n",
       "      <td>Grades 3-5</td>\n",
       "      <td>Seating makes a difference in learning!</td>\n",
       "      <td>As I’m ending my second year with the students...</td>\n",
       "      <td>The materials requested would make a differenc...</td>\n",
       "      <td>My students need alternative seating options i...</td>\n",
       "      <td>1</td>\n",
       "      <td>1</td>\n",
       "      <td>Literacy_Language SpecialNeeds</td>\n",
       "      <td>Literature_Writing SpecialNeeds</td>\n",
       "      <td>As I’m ending my second year with the students...</td>\n",
       "    </tr>\n",
       "    <tr>\n",
       "      <th>6095</th>\n",
       "      <td>138023</td>\n",
       "      <td>p134075</td>\n",
       "      <td>9e51688a8eb9e1beebbe24805cbc5712</td>\n",
       "      <td>Ms.</td>\n",
       "      <td>MD</td>\n",
       "      <td>2017-04-30 19:32:50</td>\n",
       "      <td>Grades 6-8</td>\n",
       "      <td>Wobbly Chairs for Bouncy Kids</td>\n",
       "      <td>My students come to school with a smile on the...</td>\n",
       "      <td>I teach Special Education English at a Title I...</td>\n",
       "      <td>My students need tools to help them learn whil...</td>\n",
       "      <td>0</td>\n",
       "      <td>1</td>\n",
       "      <td>Literacy_Language SpecialNeeds</td>\n",
       "      <td>Literacy SpecialNeeds</td>\n",
       "      <td>My students come to school with a smile on the...</td>\n",
       "    </tr>\n",
       "    <tr>\n",
       "      <th>25883</th>\n",
       "      <td>59539</td>\n",
       "      <td>p053342</td>\n",
       "      <td>f133d1781e44845c881935719db8d93f</td>\n",
       "      <td>Mr.</td>\n",
       "      <td>NC</td>\n",
       "      <td>2017-04-30 19:39:51</td>\n",
       "      <td>Grades 9-12</td>\n",
       "      <td>Integrating Technology Into Everday Learning -...</td>\n",
       "      <td>Within my history classes,  my students can be...</td>\n",
       "      <td>While our school strives to be rigorous, we st...</td>\n",
       "      <td>My students need an iPad to help them in their...</td>\n",
       "      <td>4</td>\n",
       "      <td>1</td>\n",
       "      <td>History_Civics</td>\n",
       "      <td>Civics_Government SocialSciences</td>\n",
       "      <td>Within my history classes,  my students can be...</td>\n",
       "    </tr>\n",
       "    <tr>\n",
       "      <th>15825</th>\n",
       "      <td>123411</td>\n",
       "      <td>p188230</td>\n",
       "      <td>9fd4d466474a3264fb9c7754349a537e</td>\n",
       "      <td>Ms.</td>\n",
       "      <td>NY</td>\n",
       "      <td>2017-04-30 19:47:19</td>\n",
       "      <td>Grades 6-8</td>\n",
       "      <td>Creating Integrity: A Classroom We Are Proud Of</td>\n",
       "      <td>These 7th and 8th grade students are excited a...</td>\n",
       "      <td>To enhance student learning we have implemente...</td>\n",
       "      <td>My students need materials such as, testing pr...</td>\n",
       "      <td>0</td>\n",
       "      <td>1</td>\n",
       "      <td>Health_Sports History_Civics</td>\n",
       "      <td>Health_Wellness SocialSciences</td>\n",
       "      <td>These 7th and 8th grade students are excited a...</td>\n",
       "    </tr>\n",
       "    <tr>\n",
       "      <th>24226</th>\n",
       "      <td>63258</td>\n",
       "      <td>p185518</td>\n",
       "      <td>783c9da904d2902781a4205a8a6f2cf2</td>\n",
       "      <td>Ms.</td>\n",
       "      <td>MO</td>\n",
       "      <td>2017-04-30 20:33:50</td>\n",
       "      <td>Grades PreK-2</td>\n",
       "      <td>Beginning Teacher, Eager Students, Endless Pos...</td>\n",
       "      <td>As a new teacher working in a high poverty dis...</td>\n",
       "      <td>My second grade students are new, eager reader...</td>\n",
       "      <td>My students need various supplies including co...</td>\n",
       "      <td>0</td>\n",
       "      <td>1</td>\n",
       "      <td>Math_Science Music_Arts</td>\n",
       "      <td>Mathematics VisualArts</td>\n",
       "      <td>As a new teacher working in a high poverty dis...</td>\n",
       "    </tr>\n",
       "    <tr>\n",
       "      <th>27437</th>\n",
       "      <td>67820</td>\n",
       "      <td>p117003</td>\n",
       "      <td>a22232bad54f69e12f379fe86f3f8828</td>\n",
       "      <td>Ms.</td>\n",
       "      <td>CA</td>\n",
       "      <td>2017-04-30 21:03:56</td>\n",
       "      <td>Grades 9-12</td>\n",
       "      <td>Art4Healing Project: Expressing Emotions</td>\n",
       "      <td>My 6th period class consist of 36 students wit...</td>\n",
       "      <td>My students will be creating abstract art as a...</td>\n",
       "      <td>My students need tactile resistant bands for t...</td>\n",
       "      <td>1</td>\n",
       "      <td>1</td>\n",
       "      <td>Health_Sports SpecialNeeds</td>\n",
       "      <td>Health_Wellness SpecialNeeds</td>\n",
       "      <td>My 6th period class consist of 36 students wit...</td>\n",
       "    </tr>\n",
       "    <tr>\n",
       "      <th>5403</th>\n",
       "      <td>61360</td>\n",
       "      <td>p007550</td>\n",
       "      <td>05677e17e14429f6942245da50bd3da4</td>\n",
       "      <td>Mrs.</td>\n",
       "      <td>CA</td>\n",
       "      <td>2017-04-30 22:02:26</td>\n",
       "      <td>Grades PreK-2</td>\n",
       "      <td>Headphones Help Students Hear to\\r\\n Reach Hig...</td>\n",
       "      <td>My students are excited, happy, frustrated, sa...</td>\n",
       "      <td>The 30 Panasonic Headphones will replace age o...</td>\n",
       "      <td>My students need 30 Panasonic On-Ear Stereo He...</td>\n",
       "      <td>1</td>\n",
       "      <td>1</td>\n",
       "      <td>Literacy_Language Math_Science</td>\n",
       "      <td>Literature_Writing Mathematics</td>\n",
       "      <td>My students are excited, happy, frustrated, sa...</td>\n",
       "    </tr>\n",
       "    <tr>\n",
       "      <th>18892</th>\n",
       "      <td>60690</td>\n",
       "      <td>p243246</td>\n",
       "      <td>1c6ad7948ab442bad6f72fd8ad64dd7f</td>\n",
       "      <td>Mrs.</td>\n",
       "      <td>FL</td>\n",
       "      <td>2017-04-30 22:07:22</td>\n",
       "      <td>Grades PreK-2</td>\n",
       "      <td>Learning In The 21st Century</td>\n",
       "      <td>My first graders are creative, innovative, and...</td>\n",
       "      <td>With the addition of a new iPad and case, my s...</td>\n",
       "      <td>My students need an iPad to become proficient ...</td>\n",
       "      <td>71</td>\n",
       "      <td>1</td>\n",
       "      <td>Math_Science SpecialNeeds</td>\n",
       "      <td>AppliedSciences SpecialNeeds</td>\n",
       "      <td>My first graders are creative, innovative, and...</td>\n",
       "    </tr>\n",
       "    <tr>\n",
       "      <th>21335</th>\n",
       "      <td>171039</td>\n",
       "      <td>p173915</td>\n",
       "      <td>be550b77ce85b91080a76df5d3d9bf17</td>\n",
       "      <td>Mr.</td>\n",
       "      <td>NY</td>\n",
       "      <td>2017-04-30 22:18:10</td>\n",
       "      <td>Grades 9-12</td>\n",
       "      <td>Support Computer Science and Computer Graphics...</td>\n",
       "      <td>My school will work with Microsoft's TEALS pro...</td>\n",
       "      <td>The class needs color cartridges for the color...</td>\n",
       "      <td>My students need 4 color printer cartridges fo...</td>\n",
       "      <td>1</td>\n",
       "      <td>1</td>\n",
       "      <td>Music_Arts</td>\n",
       "      <td>VisualArts</td>\n",
       "      <td>My school will work with Microsoft's TEALS pro...</td>\n",
       "    </tr>\n",
       "    <tr>\n",
       "      <th>11368</th>\n",
       "      <td>41021</td>\n",
       "      <td>p149303</td>\n",
       "      <td>dc07f461cc1b8767846023734c44cc43</td>\n",
       "      <td>Mrs.</td>\n",
       "      <td>FL</td>\n",
       "      <td>2017-04-30 22:35:13</td>\n",
       "      <td>Grades PreK-2</td>\n",
       "      <td>Making Math Fun!</td>\n",
       "      <td>I teach 17 amazing students in a Title One sch...</td>\n",
       "      <td>I teach an amazing class of second grade schol...</td>\n",
       "      <td>My students need a measurement center, additio...</td>\n",
       "      <td>24</td>\n",
       "      <td>1</td>\n",
       "      <td>Math_Science</td>\n",
       "      <td>Mathematics</td>\n",
       "      <td>I teach 17 amazing students in a Title One sch...</td>\n",
       "    </tr>\n",
       "    <tr>\n",
       "      <th>27376</th>\n",
       "      <td>175286</td>\n",
       "      <td>p222440</td>\n",
       "      <td>51ffd84df3423f8d5e38943e54b8388e</td>\n",
       "      <td>Mrs.</td>\n",
       "      <td>CT</td>\n",
       "      <td>2017-04-30 23:10:29</td>\n",
       "      <td>Grades PreK-2</td>\n",
       "      <td>Learning in Color</td>\n",
       "      <td>I teach first grade in a Title I school. Altho...</td>\n",
       "      <td>\\\"Love of beauty is taste. The creation of bea...</td>\n",
       "      <td>My students need ink and colorful paper to bri...</td>\n",
       "      <td>51</td>\n",
       "      <td>1</td>\n",
       "      <td>Literacy_Language</td>\n",
       "      <td>Literature_Writing</td>\n",
       "      <td>I teach first grade in a Title I school. Altho...</td>\n",
       "    </tr>\n",
       "    <tr>\n",
       "      <th>14678</th>\n",
       "      <td>12610</td>\n",
       "      <td>p162971</td>\n",
       "      <td>22fee80f2078c694c2d244d3ecb1c390</td>\n",
       "      <td>Ms.</td>\n",
       "      <td>NM</td>\n",
       "      <td>2017-04-30 23:23:24</td>\n",
       "      <td>Grades PreK-2</td>\n",
       "      <td>Operation  Organization</td>\n",
       "      <td>My students range from age four to five years ...</td>\n",
       "      <td>Being a first year teacher I have had to spend...</td>\n",
       "      <td>My students need organization supplies in orde...</td>\n",
       "      <td>3</td>\n",
       "      <td>1</td>\n",
       "      <td>AppliedLearning</td>\n",
       "      <td>EarlyDevelopment Other</td>\n",
       "      <td>My students range from age four to five years ...</td>\n",
       "    </tr>\n",
       "  </tbody>\n",
       "</table>\n",
       "<p>32000 rows × 16 columns</p>\n",
       "</div>"
      ],
      "text/plain": [
       "       Unnamed: 0       id                        teacher_id teacher_prefix  \\\n",
       "473        100660  p234804  cbc0e38f522143b86d372f8b43d4cff3           Mrs.   \n",
       "29891      146723  p099708  c0a28c79fe8ad5810da49de47b3fb491           Mrs.   \n",
       "23374       72317  p087808  598621c141cda5fb184ee7e8ccdd3fcc            Ms.   \n",
       "7176        79341  p091436  bb2599c4a114d211b3381abe9f899bf8           Mrs.   \n",
       "5145        50256  p203475  63e9a9f2c9811a247f1aa32ee6f92644           Mrs.   \n",
       "2521       164738  p248458  40da977f63fb3d85589a063471304b11            Ms.   \n",
       "25460       24215  p146272  b268575725e7f840c48e108ff404b915            Mr.   \n",
       "5364        14044  p002546  91dacb4ab5754671f342b4a12abf3cfb            Mr.   \n",
       "29183       39436  p061528  baf593ec5f2fe81a9a1595c52d274370           Mrs.   \n",
       "27157       16851  p129651  64e581db3b7ead037a479605aa4ec86e            Mr.   \n",
       "10985        7618  p098906  3164e97d8a8b10fe7b6c8a50011f181d           Mrs.   \n",
       "15560       59350  p181429  815744a4821c7b9647d396386193d88a           Mrs.   \n",
       "26150        4866  p193355  44806d9336e0b88ffb36988882845260            Mr.   \n",
       "16710       57546  p203201  4a6eff8f4b591c823f1595d602ac9efd            Ms.   \n",
       "3673        71548  p150991  fb827eb589ddd38274b28bd252494d0c            Ms.   \n",
       "28790       50504  p083930  1fd39e93146154b9b497aea247b8245e            Mr.   \n",
       "2768        35485  p053650  3ba692f733b7447a9058991c74433f64            Ms.   \n",
       "8336        70746  p131072  56dc4398d26874ed08a5ace90e2d9e95           Mrs.   \n",
       "27074      181003  p150125  ed272f3acc03203bdf702f255ac0e2c7           Mrs.   \n",
       "30497       37531  p237739  4a6eff8f4b591c823f1595d602ac9efd            Ms.   \n",
       "20773      152643  p177457  ad31548c7ee6f5da24efaa7cc81bcf22            Ms.   \n",
       "4202       144294  p199039  59b9debed20a4c2b5736cecaf3b50605            Ms.   \n",
       "22360      118931  p201862  d8dd16ff678e80838c56fa1e9e3aa2a6            Ms.   \n",
       "3715       158445  p023099  1b26bb6d84afb1116c79837f130bff09            Ms.   \n",
       "15241      113683  p086614  f3565e6103191f3764b8f27de5646ae5            Ms.   \n",
       "23598       28458  p022155  8a16fafbf30f118749f396d32e0b0bb4           Mrs.   \n",
       "430        120024  p043954  ec86b4c206216996868868e72abb37c2            Mr.   \n",
       "1292       155765  p252285  10ba0b629d4de9e90b74fc915f67ae72           Mrs.   \n",
       "3235        93412  p187716  60b0f07afe3040e8f273152e7d2f8406           Mrs.   \n",
       "10294       69931  p045868  33cffcc631c1b2e85369fe41f4c2f2b5            Ms.   \n",
       "...           ...      ...                               ...            ...   \n",
       "1205       103388  p257453  9554ff21550f75eb521a5dbcbf06076b           Mrs.   \n",
       "6802        84141  p085435  bf78effa26def2077da0b0ce25ed5012            Ms.   \n",
       "6108       160387  p022956  1a46ae048520d8fc69cfd346e4cc72c2           Mrs.   \n",
       "21640      159623  p179426  3bc37eabeca1c65557535501354949d1            Ms.   \n",
       "27065       29450  p031509  1795c924a2753cc2122649d6d4ea6c3f            Ms.   \n",
       "770        110477  p202657  cd29d835cc83212784e94d2c8fe1bf69            Mr.   \n",
       "15501      170664  p214929  c0beb1f8391f4b3ea7d1cd5aefe9cb66            Ms.   \n",
       "3259        71670  p014709  980221b1d4d8a0947bd949f7f7b83027            Ms.   \n",
       "11152        5365  p212401  d6d822a66f354ea2f3666d6093448e16           Mrs.   \n",
       "17044       80538  p226823  a6412d68b49ac34228506ad33c5e8d28           Mrs.   \n",
       "16862      173596  p157760  4ccfd5ccd182bbe1ed31fc9e19daabc8            Ms.   \n",
       "26930      146846  p177603  e73cf0c5ad26ceb004c5178ab2f5b5f3            Ms.   \n",
       "3400       124670  p251914  4b17e788d2f20ecd1cca988d9873f16d            Ms.   \n",
       "22712       97591  p171281  f8ea9444e2fef36da26acca00ef4bc0a           Mrs.   \n",
       "13593        6826  p069120  01a4a52152e4fb8d575918f407f24e05            Ms.   \n",
       "11563       67830  p230813  633d2678d047fa96568d1871084fe300            Mr.   \n",
       "31154      131187  p071587  fa5ca1a8ceaebfe84cd7a9cd563650c4           Mrs.   \n",
       "25125      122674  p194004  980b85290b35ed88ac0ba2a10d066497            Ms.   \n",
       "12918       94455  p076584  4255ee1b4eedcc7b3a726c41717b7364            Ms.   \n",
       "6095       138023  p134075  9e51688a8eb9e1beebbe24805cbc5712            Ms.   \n",
       "25883       59539  p053342  f133d1781e44845c881935719db8d93f            Mr.   \n",
       "15825      123411  p188230  9fd4d466474a3264fb9c7754349a537e            Ms.   \n",
       "24226       63258  p185518  783c9da904d2902781a4205a8a6f2cf2            Ms.   \n",
       "27437       67820  p117003  a22232bad54f69e12f379fe86f3f8828            Ms.   \n",
       "5403        61360  p007550  05677e17e14429f6942245da50bd3da4           Mrs.   \n",
       "18892       60690  p243246  1c6ad7948ab442bad6f72fd8ad64dd7f           Mrs.   \n",
       "21335      171039  p173915  be550b77ce85b91080a76df5d3d9bf17            Mr.   \n",
       "11368       41021  p149303  dc07f461cc1b8767846023734c44cc43           Mrs.   \n",
       "27376      175286  p222440  51ffd84df3423f8d5e38943e54b8388e           Mrs.   \n",
       "14678       12610  p162971  22fee80f2078c694c2d244d3ecb1c390            Ms.   \n",
       "\n",
       "      school_state                 date project_grade_category  \\\n",
       "473             GA  2016-04-27 00:53:00          Grades PreK-2   \n",
       "29891           CA  2016-04-27 01:10:09             Grades 3-5   \n",
       "23374           CA  2016-04-27 02:04:15          Grades PreK-2   \n",
       "7176            OH  2016-04-27 07:24:47          Grades PreK-2   \n",
       "5145            CA  2016-04-27 08:45:34             Grades 3-5   \n",
       "2521            NJ  2016-04-27 09:33:03          Grades PreK-2   \n",
       "25460           PA  2016-04-27 09:51:44             Grades 6-8   \n",
       "5364            CO  2016-04-27 10:10:36             Grades 6-8   \n",
       "29183           PA  2016-04-27 10:50:35             Grades 3-5   \n",
       "27157           ID  2016-04-27 11:13:59            Grades 9-12   \n",
       "10985           MA  2016-04-27 11:24:05          Grades PreK-2   \n",
       "15560           ME  2016-04-27 11:25:48          Grades PreK-2   \n",
       "26150           TX  2016-04-27 11:44:09            Grades 9-12   \n",
       "16710           WA  2016-04-27 12:06:13          Grades PreK-2   \n",
       "3673            SC  2016-04-27 12:18:42          Grades PreK-2   \n",
       "28790           GA  2016-04-27 12:20:10            Grades 9-12   \n",
       "2768            MD  2016-04-27 12:35:39          Grades PreK-2   \n",
       "8336            TX  2016-04-27 12:45:07             Grades 3-5   \n",
       "27074           GA  2016-04-27 12:55:13             Grades 3-5   \n",
       "30497           WA  2016-04-27 13:06:59          Grades PreK-2   \n",
       "20773           SC  2016-04-27 13:08:05          Grades PreK-2   \n",
       "4202            MI  2016-04-27 13:18:30          Grades PreK-2   \n",
       "22360           CA  2016-04-27 13:22:53          Grades PreK-2   \n",
       "3715            CA  2016-04-27 13:56:18             Grades 6-8   \n",
       "15241           IN  2016-04-27 14:06:26             Grades 6-8   \n",
       "23598           NJ  2016-04-27 14:15:45             Grades 3-5   \n",
       "430             NJ  2016-04-27 14:24:00             Grades 6-8   \n",
       "1292            SC  2016-04-27 15:01:55             Grades 3-5   \n",
       "3235            FL  2016-04-27 15:10:28            Grades 9-12   \n",
       "10294           NC  2016-04-27 15:42:32          Grades PreK-2   \n",
       "...            ...                  ...                    ...   \n",
       "1205            NY  2017-04-30 08:35:06             Grades 3-5   \n",
       "6802            KY  2017-04-30 09:37:04          Grades PreK-2   \n",
       "6108            FL  2017-04-30 10:17:08          Grades PreK-2   \n",
       "21640           TN  2017-04-30 10:49:40          Grades PreK-2   \n",
       "27065           NY  2017-04-30 11:13:44          Grades PreK-2   \n",
       "770             MO  2017-04-30 11:29:14            Grades 9-12   \n",
       "15501           CA  2017-04-30 11:40:06             Grades 3-5   \n",
       "3259            NJ  2017-04-30 12:40:09             Grades 3-5   \n",
       "11152           CA  2017-04-30 14:06:14          Grades PreK-2   \n",
       "17044           TN  2017-04-30 14:30:42             Grades 6-8   \n",
       "16862           CA  2017-04-30 14:45:36             Grades 6-8   \n",
       "26930           MO  2017-04-30 15:39:17          Grades PreK-2   \n",
       "3400            CT  2017-04-30 15:59:02          Grades PreK-2   \n",
       "22712           KY  2017-04-30 17:25:19          Grades PreK-2   \n",
       "13593           CA  2017-04-30 17:59:11             Grades 6-8   \n",
       "11563           IL  2017-04-30 18:52:37             Grades 6-8   \n",
       "31154           CA  2017-04-30 19:05:44             Grades 3-5   \n",
       "25125           OH  2017-04-30 19:13:09             Grades 3-5   \n",
       "12918           FL  2017-04-30 19:23:56             Grades 3-5   \n",
       "6095            MD  2017-04-30 19:32:50             Grades 6-8   \n",
       "25883           NC  2017-04-30 19:39:51            Grades 9-12   \n",
       "15825           NY  2017-04-30 19:47:19             Grades 6-8   \n",
       "24226           MO  2017-04-30 20:33:50          Grades PreK-2   \n",
       "27437           CA  2017-04-30 21:03:56            Grades 9-12   \n",
       "5403            CA  2017-04-30 22:02:26          Grades PreK-2   \n",
       "18892           FL  2017-04-30 22:07:22          Grades PreK-2   \n",
       "21335           NY  2017-04-30 22:18:10            Grades 9-12   \n",
       "11368           FL  2017-04-30 22:35:13          Grades PreK-2   \n",
       "27376           CT  2017-04-30 23:10:29          Grades PreK-2   \n",
       "14678           NM  2017-04-30 23:23:24          Grades PreK-2   \n",
       "\n",
       "                                           project_title  \\\n",
       "473               Flexible Seating for Flexible Learning   \n",
       "29891                 Breakout Box to Ignite Engagement!   \n",
       "23374                                  iPad for Learners   \n",
       "7176                    Robots are Taking over 2nd Grade   \n",
       "5145                 Books to Power Powerful Book Clubs!   \n",
       "2521         Supplies to Support my Struggling Readers!!   \n",
       "25460                 Apollo-Ridge Band needs your help!   \n",
       "5364                                         3D Printing   \n",
       "29183     Leveled Library for Students with Disabilities   \n",
       "27157                              Coffee House Learning   \n",
       "10985                                 Story Book Wonder!   \n",
       "15560          Dear Mrs. Perry, We Want Bean Bag Chairs!   \n",
       "26150                            Equipment for swim team   \n",
       "16710                          We need writing supplies!   \n",
       "3673                                   Literacy for Life   \n",
       "28790                Market Integration Analysis Project   \n",
       "2768                             TABLES to make us ABLE!   \n",
       "8336                        New Way of Learning - Part 1   \n",
       "27074                       Keep Calm and Get Organized!   \n",
       "30497                       Shared Reading for Everyone!   \n",
       "20773   Open Our Eyes to the World with Nonfiction Books   \n",
       "4202                               The Outdoor Classroom   \n",
       "22360        Little learners love listening to books!!!!   \n",
       "3715                                           Color Run   \n",
       "15241                              Teaching Organization   \n",
       "23598              Building Confident Reader's  04/21/16   \n",
       "430                                   Keeping Newark Fit   \n",
       "1292    Bigger IS Better When You Are Visually Impaired!   \n",
       "3235                                   Students in focus   \n",
       "10294                           Tables for Collaboration   \n",
       "...                                                  ...   \n",
       "1205                                     Future Writers!   \n",
       "6802                 Writing Essentials For Kindergarten   \n",
       "6108                     Technology and Hands on Centers   \n",
       "21640                                Signs of the Times!   \n",
       "27065                             LEGO Education in PreK   \n",
       "770                   Scientific Calculators for Science   \n",
       "15501                  Small Group Work in a Fresh Space   \n",
       "3259                Writing With Emotion Leads to Growth   \n",
       "11152                         Junior Engineers in Action   \n",
       "17044                          Learning Technology Style   \n",
       "16862          Expedition Unknown: The Classroom Version   \n",
       "26930         Tables for Kinders to Collaborate and Grow   \n",
       "3400                                     Privacy Folders   \n",
       "22712                    Hands-On Math Centers and Games   \n",
       "13593                        Student Medical Detectives!   \n",
       "11563  Student Lunch Group: Connecting Kids With Adul...   \n",
       "31154                   Sharpen Our Reading and Writing!   \n",
       "25125             Loving to Learn While Learning to Read   \n",
       "12918            Seating makes a difference in learning!   \n",
       "6095                       Wobbly Chairs for Bouncy Kids   \n",
       "25883  Integrating Technology Into Everday Learning -...   \n",
       "15825    Creating Integrity: A Classroom We Are Proud Of   \n",
       "24226  Beginning Teacher, Eager Students, Endless Pos...   \n",
       "27437           Art4Healing Project: Expressing Emotions   \n",
       "5403   Headphones Help Students Hear to\\r\\n Reach Hig...   \n",
       "18892                       Learning In The 21st Century   \n",
       "21335  Support Computer Science and Computer Graphics...   \n",
       "11368                                   Making Math Fun!   \n",
       "27376                                  Learning in Color   \n",
       "14678                            Operation  Organization   \n",
       "\n",
       "                                         project_essay_1  \\\n",
       "473    I recently read an article about giving studen...   \n",
       "29891  It's the end of the school year. Routines have...   \n",
       "23374  Never has society so rapidly changed. Technolo...   \n",
       "7176   Computer coding and robotics, my second grader...   \n",
       "5145   Do you remember the book you read that made yo...   \n",
       "2521   My students are all struggling readers. I supp...   \n",
       "25460  The thrill of learning music is indescribable,...   \n",
       "5364   The art room during a sculpture class is a bee...   \n",
       "29183  A typical day in my classroom includes a day f...   \n",
       "27157  \\\"Don't Let Where You are Today Affect Where Y...   \n",
       "10985  \\\"Storytelling is the essential human activity...   \n",
       "15560  I have a classroom full of very convincing wri...   \n",
       "26150  My students are great kids and they need new a...   \n",
       "16710  Have you ever been working on something and ha...   \n",
       "3673   I want my students to have fun when they choos...   \n",
       "28790  My students are learning to apply technology i...   \n",
       "2768   A typical day in our classroom involves the st...   \n",
       "8336   My classroom is never \\\"normal\\\" & I strive to...   \n",
       "27074  \\\"A place for everything and everything in its...   \n",
       "30497  First grade students are learning to read! The...   \n",
       "20773  My students are always up and on the move. The...   \n",
       "4202   My students have two 45 minute outdoor learnin...   \n",
       "22360  Listening to reading is a must for students to...   \n",
       "3715   We have over 900 students and at the end of th...   \n",
       "15241  Seventh and eighth grade students at my school...   \n",
       "23598  Working in a school district where supplies ar...   \n",
       "430    Please help my 3rd-8th grade students get the ...   \n",
       "1292   My students all have varying degrees of visual...   \n",
       "3235   My students are excited for new opportunities ...   \n",
       "10294  Our classroom is full of excitement and learni...   \n",
       "...                                                  ...   \n",
       "1205   Some students learn differently.  That is what...   \n",
       "6802   I teach at a small country school in Central K...   \n",
       "6108   I am always excited to see my students enter t...   \n",
       "21640  We are a diversified elementary school of 577 ...   \n",
       "27065  Our school is in the heart of Brooklyn, NY.\\r\\...   \n",
       "770    I work with a diverse set of students with var...   \n",
       "15501  I work in a Title 1 school in East Oakland. Wh...   \n",
       "3259   Welcome to my 4th grade class of wonder, learn...   \n",
       "11152  My students are curious seven year olds who co...   \n",
       "17044  My students have had very few opportunities to...   \n",
       "16862  My students live in a high poverty, farming co...   \n",
       "26930  I am a 5th year teacher and recently moved fro...   \n",
       "3400   I am the teacher of 24 amazing first graders! ...   \n",
       "22712  I teach in a second grade classroom at a Title...   \n",
       "13593  My school has about 45% free and reduced lunch...   \n",
       "11563  JMS is a middle school of approximately 440 6t...   \n",
       "31154  Our school is very diverse. Students come from...   \n",
       "25125  \\\"Miss Wise, I read it all by myself!\\\" At the...   \n",
       "12918  As I’m ending my second year with the students...   \n",
       "6095   My students come to school with a smile on the...   \n",
       "25883  Within my history classes,  my students can be...   \n",
       "15825  These 7th and 8th grade students are excited a...   \n",
       "24226  As a new teacher working in a high poverty dis...   \n",
       "27437  My 6th period class consist of 36 students wit...   \n",
       "5403   My students are excited, happy, frustrated, sa...   \n",
       "18892  My first graders are creative, innovative, and...   \n",
       "21335  My school will work with Microsoft's TEALS pro...   \n",
       "11368  I teach 17 amazing students in a Title One sch...   \n",
       "27376  I teach first grade in a Title I school. Altho...   \n",
       "14678  My students range from age four to five years ...   \n",
       "\n",
       "                                         project_essay_2  \\\n",
       "473    I teach at a low-income (Title 1) school. Ever...   \n",
       "29891  My students desire challenges, movement, and c...   \n",
       "23374  Our Language Arts and Social Justice Magnet Sc...   \n",
       "7176   We are a small, rural school in Northwest Ohio...   \n",
       "5145   My students are part of an exciting adventure....   \n",
       "2521   My students live in a lower income area in Cen...   \n",
       "25460  The Apollo-Ridge School District is situated i...   \n",
       "5364   My students consist of a mixed group of 6th, 7...   \n",
       "29183  My class consists of 17 third grade students, ...   \n",
       "27157  I have the opportunity to teach every senior (...   \n",
       "10985  I teach kindergarten and first grade special e...   \n",
       "15560  Our classroom is made up of 15 hardworking and...   \n",
       "26150  My students range from freshman to seniors. Th...   \n",
       "16710  My students are amazing people who I have the ...   \n",
       "3673   I teach at a fairly diverse Title l school. Ma...   \n",
       "28790  The school encompasses 9th grade to 12th grade...   \n",
       "2768   My school and my students come from an area of...   \n",
       "8336   My students are amazing! They are unique! They...   \n",
       "27074  My students are my life. When I decided I want...   \n",
       "30497  First grade is an amazing year for children! I...   \n",
       "20773  I teach a group of second graders that come in...   \n",
       "4202   My school serves low income students and famil...   \n",
       "22360  My students love school and love to learn usin...   \n",
       "3715   Our students work hard everyday in their Physi...   \n",
       "15241  My students are the future leaders of their co...   \n",
       "23598  My students are inner city children with stron...   \n",
       "430    My student's are your average 7-13 year old sc...   \n",
       "1292   The majority of my students are from low incom...   \n",
       "3235   Our school continues to amaze me on a daily ba...   \n",
       "10294  I serve students in a Title 1 school  with 75 ...   \n",
       "...                                                  ...   \n",
       "1205   I don't want my students creativity and unique...   \n",
       "6802   Learning to write is a very exciting time for ...   \n",
       "6108   My kindergarteners learn best with a variety o...   \n",
       "21640  The colorful and engaging materials will help ...   \n",
       "27065  LEGO Education Preschool solutions extend the ...   \n",
       "770    This project is to get a class set of scientif...   \n",
       "15501  Currently, the rug in our classroom library (p...   \n",
       "3259   Most of my students are on the lower level of ...   \n",
       "11152  In my classroom I believe in hands on learning...   \n",
       "17044  We are a title 1 district with little to no ac...   \n",
       "16862  In Science, we are always talking about variou...   \n",
       "26930  I am moving from a second grade classroom to a...   \n",
       "3400   My students needs privacy folders for our dail...   \n",
       "22712  It is no secret that students who are fully en...   \n",
       "13593  These resources will help me to create a new e...   \n",
       "11563  The games that you generously donate towards w...   \n",
       "31154  Every school year my students get immersed in ...   \n",
       "25125  At my school, we LOVE to read.  \\\"Read, Baby, ...   \n",
       "12918  The materials requested would make a differenc...   \n",
       "6095   I teach Special Education English at a Title I...   \n",
       "25883  While our school strives to be rigorous, we st...   \n",
       "15825  To enhance student learning we have implemente...   \n",
       "24226  My second grade students are new, eager reader...   \n",
       "27437  My students will be creating abstract art as a...   \n",
       "5403   The 30 Panasonic Headphones will replace age o...   \n",
       "18892  With the addition of a new iPad and case, my s...   \n",
       "21335  The class needs color cartridges for the color...   \n",
       "11368  I teach an amazing class of second grade schol...   \n",
       "27376  \\\"Love of beauty is taste. The creation of bea...   \n",
       "14678  Being a first year teacher I have had to spend...   \n",
       "\n",
       "                                project_resource_summary  \\\n",
       "473    My students need flexible seating in the class...   \n",
       "29891  My students need items from a \\\"Breakout Box\\\"...   \n",
       "23374                      My students need 1 ipad mini.   \n",
       "7176   My students need a robot mouse STEM activity s...   \n",
       "5145   My students need books to help support their h...   \n",
       "2521   My students need phonics and reading comprehen...   \n",
       "25460  My students need these instruments! The band p...   \n",
       "5364                      My students need a 3D Printer.   \n",
       "29183  \\\"Reading for pleasure is strongly correlated ...   \n",
       "27157  My students need comfortable seating and worki...   \n",
       "10985  My students need storytelling puppets, books a...   \n",
       "15560  My students need to know how powerful writing ...   \n",
       "26150  My students need TRX Suspension trainers, Athl...   \n",
       "16710  My students need writing utensils and supplies...   \n",
       "3673   My students need leveled books in the classroo...   \n",
       "28790  My students need to learn the use of technolog...   \n",
       "2768   My students need tables to allow for them to h...   \n",
       "8336   My students need..... Who couldn't use a new p...   \n",
       "27074  My students need a good quality chair pocket t...   \n",
       "30497  My students need a class set of binders to hol...   \n",
       "20773  My students need nonfiction books to improve c...   \n",
       "4202   My students need an outdoor art easel, paint, ...   \n",
       "22360  My students need 2 iPod nanos to update our li...   \n",
       "3715   My students need to participate in this fun ev...   \n",
       "15241  My students need 40 binders, 1 for each studen...   \n",
       "23598  My students need materials that will support t...   \n",
       "430    My students need basketballs and playground ba...   \n",
       "1292   My students need large screen monitors to be a...   \n",
       "3235   My students need a projector and document scanner   \n",
       "10294  My students need tables to collaborate and lea...   \n",
       "...                                                  ...   \n",
       "1205   My students need assistive technology to expre...   \n",
       "6802   My students need fine motor and handwriting ma...   \n",
       "6108   My students need more technology and hands on ...   \n",
       "21640  My students need colorful and engaging sign la...   \n",
       "27065  My students need LEGO Sets and idea books to e...   \n",
       "770    My students need scientific calculators to use...   \n",
       "15501  My students need a fresh, new rug to sit on fo...   \n",
       "3259   My students need composition notebooks to help...   \n",
       "11152  My students need an Osmo kit, an ipad mini, an...   \n",
       "17044  My students need to be able to learn in and fo...   \n",
       "16862  My students need Google Expeditions Kit in ord...   \n",
       "26930  My students need tables that fit their kinderg...   \n",
       "3400   My students need privacy folders to successful...   \n",
       "22712  My students need hands-on and engaging math ce...   \n",
       "13593  My students need f the DNA, Skeletal and Brain...   \n",
       "11563  My students need a place to connect and belong...   \n",
       "31154  My students need reading and writing supplies ...   \n",
       "25125  My students need a wide variety of books to co...   \n",
       "12918  My students need alternative seating options i...   \n",
       "6095   My students need tools to help them learn whil...   \n",
       "25883  My students need an iPad to help them in their...   \n",
       "15825  My students need materials such as, testing pr...   \n",
       "24226  My students need various supplies including co...   \n",
       "27437  My students need tactile resistant bands for t...   \n",
       "5403   My students need 30 Panasonic On-Ear Stereo He...   \n",
       "18892  My students need an iPad to become proficient ...   \n",
       "21335  My students need 4 color printer cartridges fo...   \n",
       "11368  My students need a measurement center, additio...   \n",
       "27376  My students need ink and colorful paper to bri...   \n",
       "14678  My students need organization supplies in orde...   \n",
       "\n",
       "       teacher_number_of_previously_posted_projects  project_is_approved  \\\n",
       "473                                               2                    1   \n",
       "29891                                             6                    1   \n",
       "23374                                           127                    1   \n",
       "7176                                             72                    1   \n",
       "5145                                              6                    1   \n",
       "2521                                             27                    0   \n",
       "25460                                             0                    1   \n",
       "5364                                              3                    1   \n",
       "29183                                             2                    1   \n",
       "27157                                             0                    1   \n",
       "10985                                            20                    1   \n",
       "15560                                             4                    1   \n",
       "26150                                             1                    0   \n",
       "16710                                            25                    1   \n",
       "3673                                              3                    1   \n",
       "28790                                             3                    1   \n",
       "2768                                              0                    1   \n",
       "8336                                              0                    0   \n",
       "27074                                             0                    1   \n",
       "30497                                            25                    1   \n",
       "20773                                             1                    1   \n",
       "4202                                              0                    1   \n",
       "22360                                            14                    1   \n",
       "3715                                              4                    1   \n",
       "15241                                             8                    1   \n",
       "23598                                             0                    1   \n",
       "430                                               0                    1   \n",
       "1292                                              2                    1   \n",
       "3235                                              3                    1   \n",
       "10294                                             4                    1   \n",
       "...                                             ...                  ...   \n",
       "1205                                              2                    1   \n",
       "6802                                             27                    1   \n",
       "6108                                              0                    1   \n",
       "21640                                            11                    1   \n",
       "27065                                           157                    1   \n",
       "770                                               0                    1   \n",
       "15501                                             0                    1   \n",
       "3259                                              8                    1   \n",
       "11152                                            68                    0   \n",
       "17044                                             0                    0   \n",
       "16862                                             7                    1   \n",
       "26930                                             1                    1   \n",
       "3400                                              4                    1   \n",
       "22712                                             1                    1   \n",
       "13593                                             5                    0   \n",
       "11563                                             2                    1   \n",
       "31154                                             6                    1   \n",
       "25125                                             0                    1   \n",
       "12918                                             1                    1   \n",
       "6095                                              0                    1   \n",
       "25883                                             4                    1   \n",
       "15825                                             0                    1   \n",
       "24226                                             0                    1   \n",
       "27437                                             1                    1   \n",
       "5403                                              1                    1   \n",
       "18892                                            71                    1   \n",
       "21335                                             1                    1   \n",
       "11368                                            24                    1   \n",
       "27376                                            51                    1   \n",
       "14678                                             3                    1   \n",
       "\n",
       "                        clean_categories  \\\n",
       "473                      AppliedLearning   \n",
       "29891        Math_Science History_Civics   \n",
       "23374                  Literacy_Language   \n",
       "7176        Math_Science AppliedLearning   \n",
       "5145                   Literacy_Language   \n",
       "2521                   Literacy_Language   \n",
       "25460                         Music_Arts   \n",
       "5364          AppliedLearning Music_Arts   \n",
       "29183                  Literacy_Language   \n",
       "27157                    AppliedLearning   \n",
       "10985     Literacy_Language SpecialNeeds   \n",
       "15560                  Literacy_Language   \n",
       "26150                      Health_Sports   \n",
       "16710     Literacy_Language Math_Science   \n",
       "3673                   Literacy_Language   \n",
       "28790        History_Civics Math_Science   \n",
       "2768      Literacy_Language Math_Science   \n",
       "8336                       Health_Sports   \n",
       "27074          Math_Science SpecialNeeds   \n",
       "30497                  Literacy_Language   \n",
       "20773                  Literacy_Language   \n",
       "4202          AppliedLearning Music_Arts   \n",
       "22360     Literacy_Language SpecialNeeds   \n",
       "3715                       Health_Sports   \n",
       "15241     Math_Science Literacy_Language   \n",
       "23598                  Literacy_Language   \n",
       "430                        Health_Sports   \n",
       "1292      Literacy_Language SpecialNeeds   \n",
       "3235                        Math_Science   \n",
       "10294     Literacy_Language Math_Science   \n",
       "...                                  ...   \n",
       "1205                   Literacy_Language   \n",
       "6802   AppliedLearning Literacy_Language   \n",
       "6108      Literacy_Language Math_Science   \n",
       "21640                  Literacy_Language   \n",
       "27065     Literacy_Language Math_Science   \n",
       "770                         Math_Science   \n",
       "15501                  Literacy_Language   \n",
       "3259   AppliedLearning Literacy_Language   \n",
       "11152       Math_Science AppliedLearning   \n",
       "17044                       Math_Science   \n",
       "16862                       Math_Science   \n",
       "26930                  Literacy_Language   \n",
       "3400      Literacy_Language Math_Science   \n",
       "22712                       Math_Science   \n",
       "13593                       Math_Science   \n",
       "11563                    AppliedLearning   \n",
       "31154                  Literacy_Language   \n",
       "25125                  Literacy_Language   \n",
       "12918     Literacy_Language SpecialNeeds   \n",
       "6095      Literacy_Language SpecialNeeds   \n",
       "25883                     History_Civics   \n",
       "15825       Health_Sports History_Civics   \n",
       "24226            Math_Science Music_Arts   \n",
       "27437         Health_Sports SpecialNeeds   \n",
       "5403      Literacy_Language Math_Science   \n",
       "18892          Math_Science SpecialNeeds   \n",
       "21335                         Music_Arts   \n",
       "11368                       Math_Science   \n",
       "27376                  Literacy_Language   \n",
       "14678                    AppliedLearning   \n",
       "\n",
       "                           clean_subcatogories  \\\n",
       "473                           EarlyDevelopment   \n",
       "29891               Mathematics SocialSciences   \n",
       "23374                             ESL Literacy   \n",
       "7176          AppliedSciences EarlyDevelopment   \n",
       "5145                                  Literacy   \n",
       "2521               Literacy Literature_Writing   \n",
       "25460                     Music PerformingArts   \n",
       "5364             College_CareerPrep VisualArts   \n",
       "29183              Literacy Literature_Writing   \n",
       "27157                       College_CareerPrep   \n",
       "10985                    Literacy SpecialNeeds   \n",
       "15560                       Literature_Writing   \n",
       "26150                   Gym_Fitness TeamSports   \n",
       "16710                     Literacy Mathematics   \n",
       "3673                                  Literacy   \n",
       "28790                    Economics Mathematics   \n",
       "2768                      Literacy Mathematics   \n",
       "8336                           Health_Wellness   \n",
       "27074                 Mathematics SpecialNeeds   \n",
       "30497              Literacy Literature_Writing   \n",
       "20773              Literacy Literature_Writing   \n",
       "4202               EarlyDevelopment VisualArts   \n",
       "22360                    Literacy SpecialNeeds   \n",
       "3715                               Gym_Fitness   \n",
       "15241                 AppliedSciences Literacy   \n",
       "23598                                 Literacy   \n",
       "430                     Gym_Fitness TeamSports   \n",
       "1292                     Literacy SpecialNeeds   \n",
       "3235      AppliedSciences EnvironmentalScience   \n",
       "10294                     Literacy Mathematics   \n",
       "...                                        ...   \n",
       "1205                        Literature_Writing   \n",
       "6802       EarlyDevelopment Literature_Writing   \n",
       "6108                      Literacy Mathematics   \n",
       "21640                         ForeignLanguages   \n",
       "27065                     Literacy Mathematics   \n",
       "770         AppliedSciences Health_LifeScience   \n",
       "15501              Literacy Literature_Writing   \n",
       "3259     CharacterEducation Literature_Writing   \n",
       "11152       AppliedSciences College_CareerPrep   \n",
       "17044                          AppliedSciences   \n",
       "16862  EnvironmentalScience Health_LifeScience   \n",
       "26930              Literacy Literature_Writing   \n",
       "3400            Literature_Writing Mathematics   \n",
       "22712                              Mathematics   \n",
       "13593                       Health_LifeScience   \n",
       "11563                                    Other   \n",
       "31154                       Literature_Writing   \n",
       "25125                                 Literacy   \n",
       "12918          Literature_Writing SpecialNeeds   \n",
       "6095                     Literacy SpecialNeeds   \n",
       "25883         Civics_Government SocialSciences   \n",
       "15825           Health_Wellness SocialSciences   \n",
       "24226                   Mathematics VisualArts   \n",
       "27437             Health_Wellness SpecialNeeds   \n",
       "5403            Literature_Writing Mathematics   \n",
       "18892             AppliedSciences SpecialNeeds   \n",
       "21335                               VisualArts   \n",
       "11368                              Mathematics   \n",
       "27376                       Literature_Writing   \n",
       "14678                   EarlyDevelopment Other   \n",
       "\n",
       "                                                   essay  \n",
       "473    I recently read an article about giving studen...  \n",
       "29891  It's the end of the school year. Routines have...  \n",
       "23374  Never has society so rapidly changed. Technolo...  \n",
       "7176   Computer coding and robotics, my second grader...  \n",
       "5145   Do you remember the book you read that made yo...  \n",
       "2521   My students are all struggling readers. I supp...  \n",
       "25460  The thrill of learning music is indescribable,...  \n",
       "5364   The art room during a sculpture class is a bee...  \n",
       "29183  A typical day in my classroom includes a day f...  \n",
       "27157  \\\"Don't Let Where You are Today Affect Where Y...  \n",
       "10985  \\\"Storytelling is the essential human activity...  \n",
       "15560  I have a classroom full of very convincing wri...  \n",
       "26150  My students are great kids and they need new a...  \n",
       "16710  Have you ever been working on something and ha...  \n",
       "3673   I want my students to have fun when they choos...  \n",
       "28790  My students are learning to apply technology i...  \n",
       "2768   A typical day in our classroom involves the st...  \n",
       "8336   My classroom is never \\\"normal\\\" & I strive to...  \n",
       "27074  \\\"A place for everything and everything in its...  \n",
       "30497  First grade students are learning to read! The...  \n",
       "20773  My students are always up and on the move. The...  \n",
       "4202   My students have two 45 minute outdoor learnin...  \n",
       "22360  Listening to reading is a must for students to...  \n",
       "3715   We have over 900 students and at the end of th...  \n",
       "15241  Seventh and eighth grade students at my school...  \n",
       "23598  Working in a school district where supplies ar...  \n",
       "430    Please help my 3rd-8th grade students get the ...  \n",
       "1292   My students all have varying degrees of visual...  \n",
       "3235   My students are excited for new opportunities ...  \n",
       "10294  Our classroom is full of excitement and learni...  \n",
       "...                                                  ...  \n",
       "1205   Some students learn differently.  That is what...  \n",
       "6802   I teach at a small country school in Central K...  \n",
       "6108   I am always excited to see my students enter t...  \n",
       "21640  We are a diversified elementary school of 577 ...  \n",
       "27065  Our school is in the heart of Brooklyn, NY.\\r\\...  \n",
       "770    I work with a diverse set of students with var...  \n",
       "15501  I work in a Title 1 school in East Oakland. Wh...  \n",
       "3259   Welcome to my 4th grade class of wonder, learn...  \n",
       "11152  My students are curious seven year olds who co...  \n",
       "17044  My students have had very few opportunities to...  \n",
       "16862  My students live in a high poverty, farming co...  \n",
       "26930  I am a 5th year teacher and recently moved fro...  \n",
       "3400   I am the teacher of 24 amazing first graders! ...  \n",
       "22712  I teach in a second grade classroom at a Title...  \n",
       "13593  My school has about 45% free and reduced lunch...  \n",
       "11563  JMS is a middle school of approximately 440 6t...  \n",
       "31154  Our school is very diverse. Students come from...  \n",
       "25125  \\\"Miss Wise, I read it all by myself!\\\" At the...  \n",
       "12918  As I’m ending my second year with the students...  \n",
       "6095   My students come to school with a smile on the...  \n",
       "25883  Within my history classes,  my students can be...  \n",
       "15825  These 7th and 8th grade students are excited a...  \n",
       "24226  As a new teacher working in a high poverty dis...  \n",
       "27437  My 6th period class consist of 36 students wit...  \n",
       "5403   My students are excited, happy, frustrated, sa...  \n",
       "18892  My first graders are creative, innovative, and...  \n",
       "21335  My school will work with Microsoft's TEALS pro...  \n",
       "11368  I teach 17 amazing students in a Title One sch...  \n",
       "27376  I teach first grade in a Title I school. Altho...  \n",
       "14678  My students range from age four to five years ...  \n",
       "\n",
       "[32000 rows x 16 columns]"
      ]
     },
     "execution_count": 228,
     "metadata": {},
     "output_type": "execute_result"
    }
   ],
   "source": [
    "df_most_common_imputed = d_list.apply(lambda x: x.fillna(x.value_counts().index[0]))\n",
    "df_most_common_imputed"
   ]
  },
  {
   "cell_type": "code",
   "execution_count": 229,
   "metadata": {},
   "outputs": [],
   "source": [
    "d_list = d_list.apply(lambda x: x.fillna(x.value_counts().index[0]))"
   ]
  },
  {
   "cell_type": "code",
   "execution_count": 230,
   "metadata": {},
   "outputs": [
    {
     "data": {
      "text/plain": [
       "0"
      ]
     },
     "execution_count": 230,
     "metadata": {},
     "output_type": "execute_result"
    }
   ],
   "source": [
    "d_list['teacher_prefix'].isnull().sum()"
   ]
  },
  {
   "cell_type": "code",
   "execution_count": 231,
   "metadata": {},
   "outputs": [
    {
     "name": "stdout",
     "output_type": "stream",
     "text": [
      "['Economics', 'CommunityService', 'FinancialLiteracy', 'ParentInvolvement', 'Extracurricular', 'Civics_Government', 'ForeignLanguages', 'NutritionEducation', 'Warmth', 'Care_Hunger', 'SocialSciences', 'PerformingArts', 'CharacterEducation', 'TeamSports', 'Other', 'College_CareerPrep', 'Music', 'History_Geography', 'Health_LifeScience', 'EarlyDevelopment', 'ESL', 'Gym_Fitness', 'EnvironmentalScience', 'VisualArts', 'Health_Wellness', 'AppliedSciences', 'SpecialNeeds', 'Literature_Writing', 'Mathematics', 'Literacy']\n",
      "Shape of matrix after one hot encodig  (32000, 30)\n"
     ]
    }
   ],
   "source": [
    "# we use count vectorizer to convert the values into one \n",
    "vectorizer = CountVectorizer(vocabulary=list(sorted_subcat_dict.keys()), lowercase=False, binary=True)\n",
    "sub_categories_one_hot = vectorizer.fit_transform(d_list['clean_subcatogories'].values)\n",
    "print(vectorizer.get_feature_names())\n",
    "print(\"Shape of matrix after one hot encodig \",sub_categories_one_hot.shape)"
   ]
  },
  {
   "cell_type": "code",
   "execution_count": 232,
   "metadata": {},
   "outputs": [],
   "source": [
    "from collections import Counter\n",
    "my_counter = Counter()\n",
    "for word in d_list['teacher_prefix'].values:\n",
    "    my_counter.update(word.split())"
   ]
  },
  {
   "cell_type": "code",
   "execution_count": 233,
   "metadata": {},
   "outputs": [
    {
     "data": {
      "text/plain": [
       "{'Teacher': 685, 'Mr.': 3060, 'Ms.': 11478, 'Mrs.': 16777}"
      ]
     },
     "execution_count": 233,
     "metadata": {},
     "output_type": "execute_result"
    }
   ],
   "source": [
    "sub_teacher_prefix = dict(my_counter)\n",
    "sorted_teacher_prefix = dict(sorted(sub_teacher_prefix.items(), key=lambda kv: kv[1]))\n",
    "sorted_teacher_prefix"
   ]
  },
  {
   "cell_type": "code",
   "execution_count": 234,
   "metadata": {},
   "outputs": [
    {
     "name": "stdout",
     "output_type": "stream",
     "text": [
      "['Teacher', 'Mr.', 'Ms.', 'Mrs.']\n",
      "Shape of matrix after one hot encodig  (32000, 4)\n"
     ]
    }
   ],
   "source": [
    "# we use count vectorizer to convert the values into one \n",
    "vectorizer = CountVectorizer(vocabulary=list(sorted_teacher_prefix.keys()), lowercase=False, binary=True)\n",
    "sorted_teacher_prefix_one_hot = vectorizer.fit_transform(d_list['teacher_prefix'].values)\n",
    "print(vectorizer.get_feature_names())\n",
    "print(\"Shape of matrix after one hot encodig \",sorted_teacher_prefix_one_hot.shape)"
   ]
  },
  {
   "cell_type": "code",
   "execution_count": 235,
   "metadata": {},
   "outputs": [],
   "source": [
    "from collections import Counter\n",
    "my_counter = Counter()\n",
    "for word in d_list['school_state'].values:\n",
    "    my_counter.update(word.split())"
   ]
  },
  {
   "cell_type": "code",
   "execution_count": 236,
   "metadata": {},
   "outputs": [
    {
     "data": {
      "text/plain": [
       "{'VT': 17,\n",
       " 'WY': 34,\n",
       " 'ND': 43,\n",
       " 'MT': 69,\n",
       " 'RI': 81,\n",
       " 'NH': 92,\n",
       " 'NE': 97,\n",
       " 'SD': 98,\n",
       " 'AK': 98,\n",
       " 'DE': 102,\n",
       " 'ME': 138,\n",
       " 'HI': 145,\n",
       " 'NM': 151,\n",
       " 'WV': 152,\n",
       " 'DC': 155,\n",
       " 'ID': 177,\n",
       " 'IA': 186,\n",
       " 'KS': 189,\n",
       " 'AR': 276,\n",
       " 'CO': 328,\n",
       " 'MS': 363,\n",
       " 'MN': 364,\n",
       " 'OR': 378,\n",
       " 'KY': 379,\n",
       " 'MD': 416,\n",
       " 'NV': 424,\n",
       " 'AL': 502,\n",
       " 'CT': 505,\n",
       " 'UT': 505,\n",
       " 'TN': 514,\n",
       " 'WI': 531,\n",
       " 'VA': 589,\n",
       " 'NJ': 655,\n",
       " 'AZ': 659,\n",
       " 'OK': 666,\n",
       " 'MA': 685,\n",
       " 'LA': 697,\n",
       " 'WA': 702,\n",
       " 'MO': 734,\n",
       " 'IN': 771,\n",
       " 'OH': 776,\n",
       " 'PA': 925,\n",
       " 'MI': 956,\n",
       " 'GA': 1153,\n",
       " 'SC': 1169,\n",
       " 'IL': 1280,\n",
       " 'NC': 1522,\n",
       " 'FL': 1791,\n",
       " 'TX': 2132,\n",
       " 'NY': 2176,\n",
       " 'CA': 4453}"
      ]
     },
     "execution_count": 236,
     "metadata": {},
     "output_type": "execute_result"
    }
   ],
   "source": [
    "school_state = dict(my_counter)\n",
    "sorted_school_state = dict(sorted(school_state.items(), key=lambda kv: kv[1]))\n",
    "sorted_school_state"
   ]
  },
  {
   "cell_type": "code",
   "execution_count": 237,
   "metadata": {},
   "outputs": [
    {
     "name": "stdout",
     "output_type": "stream",
     "text": [
      "['VT', 'WY', 'ND', 'MT', 'RI', 'NH', 'NE', 'SD', 'AK', 'DE', 'ME', 'HI', 'NM', 'WV', 'DC', 'ID', 'IA', 'KS', 'AR', 'CO', 'MS', 'MN', 'OR', 'KY', 'MD', 'NV', 'AL', 'CT', 'UT', 'TN', 'WI', 'VA', 'NJ', 'AZ', 'OK', 'MA', 'LA', 'WA', 'MO', 'IN', 'OH', 'PA', 'MI', 'GA', 'SC', 'IL', 'NC', 'FL', 'TX', 'NY', 'CA']\n",
      "Shape of matrix after one hot encodig  (32000, 51)\n"
     ]
    }
   ],
   "source": [
    "# we use count vectorizer to convert the values into one \n",
    "vectorizer = CountVectorizer(vocabulary=list(sorted_school_state.keys()), lowercase=False, binary=True)\n",
    "school_state_one_hot = vectorizer.fit_transform(d_list['school_state'].values)\n",
    "print(vectorizer.get_feature_names())\n",
    "print(\"Shape of matrix after one hot encodig \",school_state_one_hot.shape)"
   ]
  },
  {
   "cell_type": "code",
   "execution_count": 238,
   "metadata": {},
   "outputs": [],
   "source": [
    "from collections import Counter\n",
    "my_counter = Counter()\n",
    "for word in d_list['project_grade_category'].values:\n",
    "    my_counter.update(word.split())\n"
   ]
  },
  {
   "cell_type": "code",
   "execution_count": 239,
   "metadata": {},
   "outputs": [
    {
     "data": {
      "text/plain": [
       "{'9-12': 3185, '6-8': 4933, '3-5': 10855, 'PreK-2': 13027, 'Grades': 32000}"
      ]
     },
     "execution_count": 239,
     "metadata": {},
     "output_type": "execute_result"
    }
   ],
   "source": [
    "project_grade_category = dict(my_counter)\n",
    "sorted_project_grade_category = dict(sorted(project_grade_category.items(), key=lambda kv: kv[1]))\n",
    "sorted_project_grade_category"
   ]
  },
  {
   "cell_type": "code",
   "execution_count": 240,
   "metadata": {},
   "outputs": [
    {
     "name": "stdout",
     "output_type": "stream",
     "text": [
      "['Grades', 'PreK-2', '3-5', '6-8', '9-12']\n",
      "Shape of matrix after one hot encodig  (32000, 5)\n"
     ]
    }
   ],
   "source": [
    "# we use count vectorizer to convert the values into one \n",
    "vectorizer = CountVectorizer(vocabulary=list(project_grade_category.keys()), lowercase=False, binary=True)\n",
    "project_grade_category_one_hot = vectorizer.fit_transform(d_list['project_grade_category'].values)\n",
    "print(vectorizer.get_feature_names())\n",
    "print(\"Shape of matrix after one hot encodig \",project_grade_category_one_hot.shape)"
   ]
  },
  {
   "cell_type": "code",
   "execution_count": 241,
   "metadata": {},
   "outputs": [
    {
     "name": "stdout",
     "output_type": "stream",
     "text": [
      "Shape of matrix after one hot encodig  (32000, 10058)\n"
     ]
    }
   ],
   "source": [
    "vectorizer = CountVectorizer(min_df=10)\n",
    "text_bow = vectorizer.fit_transform(preprocessed_essays)\n",
    "print(\"Shape of matrix after one hot encodig \",text_bow.shape)"
   ]
  },
  {
   "cell_type": "code",
   "execution_count": 242,
   "metadata": {},
   "outputs": [
    {
     "name": "stdout",
     "output_type": "stream",
     "text": [
      "Shape of matrix after one hot encodig  (32000, 1519)\n"
     ]
    }
   ],
   "source": [
    "vectorizer = CountVectorizer(min_df=10)\n",
    "new_list_bow = vectorizer.fit_transform(new_list_pt)\n",
    "print(\"Shape of matrix after one hot encodig \",new_list_bow.shape)"
   ]
  },
  {
   "cell_type": "code",
   "execution_count": 243,
   "metadata": {},
   "outputs": [
    {
     "name": "stdout",
     "output_type": "stream",
     "text": [
      "Shape of matrix after one hot encodig  (32000, 10058)\n"
     ]
    }
   ],
   "source": [
    "from sklearn.feature_extraction.text import TfidfVectorizer\n",
    "vectorizer = TfidfVectorizer(min_df=10)\n",
    "text_tfidf = vectorizer.fit_transform(preprocessed_essays)\n",
    "print(\"Shape of matrix after one hot encodig \",text_tfidf.shape)"
   ]
  },
  {
   "cell_type": "code",
   "execution_count": 244,
   "metadata": {},
   "outputs": [
    {
     "name": "stdout",
     "output_type": "stream",
     "text": [
      "Shape of matrix after one hot encodig  (32000, 1519)\n"
     ]
    }
   ],
   "source": [
    "from sklearn.feature_extraction.text import TfidfVectorizer\n",
    "vectorizer = TfidfVectorizer(min_df=10)\n",
    "new_list_pt_tfidf = vectorizer.fit_transform(new_list_pt)\n",
    "print(\"Shape of matrix after one hot encodig \",new_list_pt_tfidf.shape)"
   ]
  },
  {
   "cell_type": "code",
   "execution_count": 245,
   "metadata": {},
   "outputs": [],
   "source": [
    "import pickle"
   ]
  },
  {
   "cell_type": "code",
   "execution_count": 246,
   "metadata": {},
   "outputs": [],
   "source": [
    "import pickle\n",
    "with open('C:/Users/Naveen Vatsal/Desktop/Python_practice/Assign_3/glove_vectors', 'rb') as f:\n",
    "    model = pickle.load(f)\n",
    "    glove_words =  set(model.keys())"
   ]
  },
  {
   "cell_type": "code",
   "execution_count": 247,
   "metadata": {},
   "outputs": [
    {
     "name": "stderr",
     "output_type": "stream",
     "text": [
      "100%|██████████| 32000/32000 [00:09<00:00, 3541.16it/s]\n"
     ]
    },
    {
     "name": "stdout",
     "output_type": "stream",
     "text": [
      "32000\n",
      "300\n"
     ]
    }
   ],
   "source": [
    "import numpy as np\n",
    "avg_w2v_vectors = []; # the avg-w2v for each sentence/review is stored in this list\n",
    "for sentence in tqdm(preprocessed_essays): # for each review/sentence\n",
    "    vector = np.zeros(300) # as word vectors are of zero length\n",
    "    cnt_words =0; # num of words with a valid vector in the sentence/review\n",
    "    for word in sentence.split(): # for each word in a review/sentence\n",
    "        if word in glove_words:\n",
    "            vector += model[word]\n",
    "            cnt_words += 1\n",
    "    if cnt_words != 0:\n",
    "        vector /= cnt_words\n",
    "    avg_w2v_vectors.append(vector)\n",
    "\n",
    "print(len(avg_w2v_vectors))\n",
    "print(len(avg_w2v_vectors[0]))"
   ]
  },
  {
   "cell_type": "code",
   "execution_count": 248,
   "metadata": {},
   "outputs": [
    {
     "name": "stderr",
     "output_type": "stream",
     "text": [
      "100%|██████████| 32000/32000 [00:00<00:00, 74094.82it/s]\n"
     ]
    },
    {
     "name": "stdout",
     "output_type": "stream",
     "text": [
      "32000\n",
      "300\n"
     ]
    }
   ],
   "source": [
    "pt_w2v_vectors = []; # the avg-w2v for each sentence/review is stored in this list\n",
    "for sentence in tqdm(new_list_pt): # for each review/sentence\n",
    "    vector = np.zeros(300) # as word vectors are of zero length\n",
    "    cnt_words =0; # num of words with a valid vector in the sentence/review\n",
    "    for word in sentence.split(): # for each word in a review/sentence\n",
    "        if word in glove_words:\n",
    "            vector += model[word]\n",
    "            cnt_words += 1\n",
    "    if cnt_words != 0:\n",
    "        vector /= cnt_words\n",
    "    pt_w2v_vectors.append(vector)\n",
    "\n",
    "print(len(pt_w2v_vectors))\n",
    "print(len(pt_w2v_vectors[0]))"
   ]
  },
  {
   "cell_type": "code",
   "execution_count": 252,
   "metadata": {},
   "outputs": [],
   "source": [
    "# S = [\"abc def pqr\", \"def def def abc\", \"pqr pqr def\"]\n",
    "tfidf_model = TfidfVectorizer()\n",
    "tfidf_model.fit(preprocessed_essays)\n",
    "# we are converting a dictionary with word as a key, and the idf as a value\n",
    "dictionary = dict(zip(tfidf_model.get_feature_names(), list(tfidf_model.idf_)))\n",
    "tfidf_words_ppe = set(tfidf_model.get_feature_names())"
   ]
  },
  {
   "cell_type": "code",
   "execution_count": 154,
   "metadata": {},
   "outputs": [
    {
     "data": {
      "text/plain": [
       "55161"
      ]
     },
     "execution_count": 154,
     "metadata": {},
     "output_type": "execute_result"
    }
   ],
   "source": [
    "len(tfidf_words_ppe)"
   ]
  },
  {
   "cell_type": "code",
   "execution_count": 254,
   "metadata": {},
   "outputs": [],
   "source": [
    "# S = [\"abc def pqr\", \"def def def abc\", \"pqr pqr def\"]\n",
    "tfidf_model = TfidfVectorizer()\n",
    "tfidf_model.fit(new_list_pt)\n",
    "# we are converting a dictionary with word as a key, and the idf as a value\n",
    "dictionary = dict(zip(tfidf_model.get_feature_names(), list(tfidf_model.idf_)))\n",
    "tfidf_words = set(tfidf_model.get_feature_names())"
   ]
  },
  {
   "cell_type": "code",
   "execution_count": 156,
   "metadata": {},
   "outputs": [
    {
     "data": {
      "text/plain": [
       "16744"
      ]
     },
     "execution_count": 156,
     "metadata": {},
     "output_type": "execute_result"
    }
   ],
   "source": [
    "len(tfidf_words)"
   ]
  },
  {
   "cell_type": "code",
   "execution_count": 253,
   "metadata": {},
   "outputs": [
    {
     "name": "stderr",
     "output_type": "stream",
     "text": [
      "100%|██████████| 32000/32000 [00:57<00:00, 559.73it/s]\n"
     ]
    },
    {
     "name": "stdout",
     "output_type": "stream",
     "text": [
      "32000\n",
      "300\n"
     ]
    }
   ],
   "source": [
    "# average Word2Vec\n",
    "# compute average word2vec for each review.\n",
    "tfidf_w2v_vectors = []; # the avg-w2v for each sentence/review is stored in this list\n",
    "for sentence in tqdm(preprocessed_essays): # for each review/sentence\n",
    "    vector = np.zeros(300) # as word vectors are of zero length\n",
    "    tf_idf_weight =0; # num of words with a valid vector in the sentence/review\n",
    "    for word in sentence.split(): # for each word in a review/sentence\n",
    "        if (word in glove_words) and (word in tfidf_words_ppe):\n",
    "            vec = model[word] # getting the vector for each word\n",
    "            # here we are multiplying idf value(dictionary[word]) and the tf value((sentence.count(word)/len(sentence.split())))\n",
    "            tf_idf = dictionary[word]*(sentence.count(word)/len(sentence.split())) # getting the tfidf value for each word\n",
    "            vector += (vec * tf_idf) # calculating tfidf weighted w2v\n",
    "            tf_idf_weight += tf_idf\n",
    "    if tf_idf_weight != 0:\n",
    "        vector /= tf_idf_weight\n",
    "    tfidf_w2v_vectors.append(vector)\n",
    "\n",
    "print(len(tfidf_w2v_vectors))\n",
    "print(len(tfidf_w2v_vectors[0]))\n"
   ]
  },
  {
   "cell_type": "code",
   "execution_count": 255,
   "metadata": {},
   "outputs": [
    {
     "name": "stderr",
     "output_type": "stream",
     "text": [
      "100%|██████████| 32000/32000 [00:00<00:00, 35888.18it/s]\n"
     ]
    },
    {
     "name": "stdout",
     "output_type": "stream",
     "text": [
      "32000\n",
      "300\n"
     ]
    }
   ],
   "source": [
    "# average Word2Vec\n",
    "# compute average word2vec for each review.\n",
    "tfidf_w2v_vectors_pt = []; # the avg-w2v for each sentence/review is stored in this list\n",
    "for sentence in tqdm(new_list_pt): # for each review/sentence\n",
    "    vector = np.zeros(300) # as word vectors are of zero length\n",
    "    tf_idf_weight =0; # num of words with a valid vector in the sentence/review\n",
    "    for word in sentence.split(): # for each word in a review/sentence\n",
    "        if (word in glove_words) and (word in tfidf_words):\n",
    "            vec = model[word] # getting the vector for each word\n",
    "            # here we are multiplying idf value(dictionary[word]) and the tf value((sentence.count(word)/len(sentence.split())))\n",
    "            tf_idf = dictionary[word]*(sentence.count(word)/len(sentence.split())) # getting the tfidf value for each word\n",
    "            vector += (vec * tf_idf) # calculating tfidf weighted w2v\n",
    "            tf_idf_weight += tf_idf \n",
    "    if tf_idf_weight != 0:\n",
    "        vector /= tf_idf_weight\n",
    "    tfidf_w2v_vectors_pt.append(vector)\n",
    "\n",
    "print(len(tfidf_w2v_vectors_pt))\n",
    "print(len(tfidf_w2v_vectors_pt[0]))"
   ]
  },
  {
   "cell_type": "code",
   "execution_count": 256,
   "metadata": {},
   "outputs": [],
   "source": [
    "price_data = r_list.groupby('id').agg({'price':'sum', 'quantity':'sum'}).reset_index()\n",
    "project_data = pd.merge(d_list, price_data, on='id', how='left')\n"
   ]
  },
  {
   "cell_type": "code",
   "execution_count": null,
   "metadata": {},
   "outputs": [],
   "source": [
    "project_data.head(5)"
   ]
  },
  {
   "cell_type": "code",
   "execution_count": 257,
   "metadata": {},
   "outputs": [
    {
     "name": "stdout",
     "output_type": "stream",
     "text": [
      "Mean : 298.50241875, Standard deviation : 374.7402379121181\n"
     ]
    },
    {
     "name": "stderr",
     "output_type": "stream",
     "text": [
      "C:\\ProgramData\\Anaconda3\\lib\\site-packages\\sklearn\\utils\\validation.py:595: DataConversionWarning: Data with input dtype int64 was converted to float64 by StandardScaler.\n",
      "  warnings.warn(msg, DataConversionWarning)\n"
     ]
    },
    {
     "name": "stdout",
     "output_type": "stream",
     "text": [
      "Mean : 11.25396875, Standard deviation : 28.04153671117229\n"
     ]
    },
    {
     "name": "stderr",
     "output_type": "stream",
     "text": [
      "C:\\ProgramData\\Anaconda3\\lib\\site-packages\\sklearn\\utils\\validation.py:595: DataConversionWarning: Data with input dtype int64 was converted to float64 by StandardScaler.\n",
      "  warnings.warn(msg, DataConversionWarning)\n"
     ]
    }
   ],
   "source": [
    "# check this one: https://www.youtube.com/watch?v=0HOqOcln3Z4&t=530s\n",
    "# standardization sklearn: https://scikit-learn.org/stable/modules/generated/sklearn.preprocessing.StandardScaler.html\n",
    "from sklearn.preprocessing import StandardScaler\n",
    "\n",
    "# price_standardized = standardScalar.fit(project_data['price'].values)\n",
    "# this will rise the error\n",
    "# ValueError: Expected 2D array, got 1D array instead: array=[725.05 213.03 329.   ... 399.   287.73   5.5 ].\n",
    "# Reshape your data either using array.reshape(-1, 1)\n",
    "\n",
    "price_scalar = StandardScaler()\n",
    "price_scalar.fit(project_data['price'].values.reshape(-1,1)) # finding the mean and standard deviation of this data\n",
    "print(f\"Mean : {price_scalar.mean_[0]}, Standard deviation : {np.sqrt(price_scalar.var_[0])}\")\n",
    "\n",
    "# Now standardize the data with above maen and variance.\n",
    "price_standardized = price_scalar.transform(project_data['price'].values.reshape(-1, 1))\n",
    "\n",
    "\n",
    "number_projects = StandardScaler()\n",
    "number_projects.fit(project_data['teacher_number_of_previously_posted_projects'].values.reshape(-1,1)) # finding the mean and standard deviation of this data\n",
    "print(f\"Mean : {number_projects.mean_[0]}, Standard deviation : {np.sqrt(number_projects.var_[0])}\")\n",
    "\n",
    "# Now standardize the data with above maen and variance.\n",
    "tnp_pp = number_projects.transform(project_data['teacher_number_of_previously_posted_projects'].values.reshape(-1, 1))"
   ]
  },
  {
   "cell_type": "code",
   "execution_count": 258,
   "metadata": {},
   "outputs": [
    {
     "name": "stderr",
     "output_type": "stream",
     "text": [
      "C:\\ProgramData\\Anaconda3\\lib\\site-packages\\sklearn\\utils\\validation.py:595: DataConversionWarning: Data with input dtype int64 was converted to float64 by StandardScaler.\n",
      "  warnings.warn(msg, DataConversionWarning)\n"
     ]
    },
    {
     "name": "stdout",
     "output_type": "stream",
     "text": [
      "Mean : 11.25396875, Standard deviation : 28.04153671117229\n"
     ]
    },
    {
     "name": "stderr",
     "output_type": "stream",
     "text": [
      "C:\\ProgramData\\Anaconda3\\lib\\site-packages\\sklearn\\utils\\validation.py:595: DataConversionWarning: Data with input dtype int64 was converted to float64 by StandardScaler.\n",
      "  warnings.warn(msg, DataConversionWarning)\n"
     ]
    }
   ],
   "source": [
    "number_projects = StandardScaler()\n",
    "number_projects.fit(project_data['teacher_number_of_previously_posted_projects'].values.reshape(-1,1)) # finding the mean and standard deviation of this data\n",
    "print(f\"Mean : {number_projects.mean_[0]}, Standard deviation : {np.sqrt(number_projects.var_[0])}\")\n",
    "\n",
    "# Now standardize the data with above maen and variance.\n",
    "tnp_pp = number_projects.transform(project_data['teacher_number_of_previously_posted_projects'].values.reshape(-1, 1))"
   ]
  },
  {
   "cell_type": "code",
   "execution_count": null,
   "metadata": {},
   "outputs": [],
   "source": []
  },
  {
   "cell_type": "code",
   "execution_count": null,
   "metadata": {},
   "outputs": [],
   "source": [
    "price_standardized"
   ]
  },
  {
   "cell_type": "code",
   "execution_count": 259,
   "metadata": {},
   "outputs": [
    {
     "name": "stdout",
     "output_type": "stream",
     "text": [
      "(32000, 9)\n",
      "(32000, 30)\n",
      "(32000, 10058)\n",
      "(32000, 1)\n"
     ]
    }
   ],
   "source": [
    "print(categories_one_hot.shape)\n",
    "print(sub_categories_one_hot.shape)\n",
    "print(text_bow.shape)\n",
    "print(price_standardized.shape)"
   ]
  },
  {
   "cell_type": "code",
   "execution_count": null,
   "metadata": {},
   "outputs": [],
   "source": [
    "we are going to consider\n",
    "\n",
    "   - school_state : categorical data\n",
    "   - clean_categories : categorical data\n",
    "   - clean_subcategories : categorical data\n",
    "   - project_grade_category : categorical data\n",
    "   - teacher_prefix : categorical data\n",
    "\n",
    "   - project_title : text data\n",
    "   - text : text data\n",
    "   - project_resource_summary: text data (optinal)\n",
    "\n",
    "   - quantity : numerical (optinal)\n",
    "   - teacher_number_of_previously_posted_projects : numerical\n",
    "   - price : numerical\n",
    "    \n",
    "    school_state_one_hot, project_grade_category_one_hot,categories_one_hot, sub_categories_one_hot,\n",
    "    sorted_teacher_prefix_one_hot"
   ]
  },
  {
   "cell_type": "code",
   "execution_count": null,
   "metadata": {},
   "outputs": [],
   "source": []
  },
  {
   "cell_type": "code",
   "execution_count": 179,
   "metadata": {},
   "outputs": [
    {
     "data": {
      "text/plain": [
       "(32000, 11679)"
      ]
     },
     "execution_count": 179,
     "metadata": {},
     "output_type": "execute_result"
    }
   ],
   "source": [
    "from scipy.sparse import hstack\n",
    "# with the same hstack function we are concatinating a sparse matrix and a dense matirx :)\n",
    "X = hstack((school_state_one_hot, project_grade_category_one_hot,categories_one_hot, sub_categories_one_hot,\n",
    "             sorted_teacher_prefix_one_hot, text_bow, new_list_bow, tnp_pp, price_standardized))\n",
    "X.shape"
   ]
  },
  {
   "cell_type": "code",
   "execution_count": 181,
   "metadata": {},
   "outputs": [
    {
     "data": {
      "text/plain": [
       "(32000, 11679)"
      ]
     },
     "execution_count": 181,
     "metadata": {},
     "output_type": "execute_result"
    }
   ],
   "source": [
    "from scipy.sparse import hstack\n",
    "# with the same hstack function we are concatinating a sparse matrix and a dense matirx :)\n",
    "X_tfidf = hstack((school_state_one_hot, project_grade_category_one_hot,categories_one_hot, sub_categories_one_hot,\n",
    "             sorted_teacher_prefix_one_hot, text_tfidf, new_list_pt_tfidf, tnp_pp, price_standardized))\n",
    "X_tfidf.shape"
   ]
  },
  {
   "cell_type": "code",
   "execution_count": 182,
   "metadata": {},
   "outputs": [
    {
     "data": {
      "text/plain": [
       "(32000, 702)"
      ]
     },
     "execution_count": 182,
     "metadata": {},
     "output_type": "execute_result"
    }
   ],
   "source": [
    "avg_w2v_vectors\n",
    "from scipy.sparse import hstack\n",
    "# with the same hstack function we are concatinating a sparse matrix and a dense matirx :)\n",
    "X_avg_w2v = hstack((school_state_one_hot, project_grade_category_one_hot,categories_one_hot, sub_categories_one_hot,\n",
    "             sorted_teacher_prefix_one_hot, avg_w2v_vectors, pt_w2v_vectors, tnp_pp, price_standardized))\n",
    "X_avg_w2v.shape"
   ]
  },
  {
   "cell_type": "code",
   "execution_count": 260,
   "metadata": {},
   "outputs": [
    {
     "data": {
      "text/plain": [
       "(32000, 701)"
      ]
     },
     "execution_count": 260,
     "metadata": {},
     "output_type": "execute_result"
    }
   ],
   "source": [
    "tfidf_w2v_vectors\n",
    "from scipy.sparse import hstack\n",
    "# with the same hstack function we are concatinating a sparse matrix and a dense matirx :)\n",
    "X_tfidf_w2v = hstack((school_state_one_hot, project_grade_category_one_hot,categories_one_hot, sub_categories_one_hot,\n",
    "             sorted_teacher_prefix_one_hot, tfidf_w2v_vectors, tfidf_w2v_vectors_pt, tnp_pp, price_standardized))\n",
    "X_tfidf_w2v.shape"
   ]
  },
  {
   "cell_type": "markdown",
   "metadata": {},
   "source": [
    "# Set the label on which the data should be trained"
   ]
  },
  {
   "cell_type": "code",
   "execution_count": 261,
   "metadata": {},
   "outputs": [],
   "source": [
    "Y = d_list['project_is_approved']"
   ]
  },
  {
   "cell_type": "code",
   "execution_count": 262,
   "metadata": {},
   "outputs": [],
   "source": [
    "import numpy as np\n",
    "import pandas as pd\n",
    "import matplotlib.pyplot as plt\n",
    "from sklearn.model_selection import train_test_split\n",
    "from sklearn.neighbors import KNeighborsClassifier\n",
    "from sklearn.metrics import accuracy_score\n",
    "from sklearn.model_selection import cross_val_score\n",
    "from collections import Counter\n",
    "from sklearn.metrics import accuracy_score\n",
    "from sklearn import model_selection"
   ]
  },
  {
   "cell_type": "code",
   "execution_count": 263,
   "metadata": {},
   "outputs": [],
   "source": [
    "neigh = KNeighborsClassifier(n_neighbors=5, weights='uniform', algorithm='brute',\n",
    "                                                   leaf_size=30, p=2, metric='minkowski', metric_params=None, n_jobs=None)"
   ]
  },
  {
   "cell_type": "code",
   "execution_count": null,
   "metadata": {},
   "outputs": [],
   "source": [
    "#Training the model on Bag of words data"
   ]
  },
  {
   "cell_type": "code",
   "execution_count": 191,
   "metadata": {},
   "outputs": [
    {
     "data": {
      "text/plain": [
       "KNeighborsClassifier(algorithm='auto', leaf_size=30, metric='minkowski',\n",
       "           metric_params=None, n_jobs=None, n_neighbors=10, p=2,\n",
       "           weights='uniform')"
      ]
     },
     "execution_count": 191,
     "metadata": {},
     "output_type": "execute_result"
    }
   ],
   "source": [
    "neigh.fit(X,Y.ravel())"
   ]
  },
  {
   "cell_type": "code",
   "execution_count": null,
   "metadata": {},
   "outputs": [],
   "source": [
    "#Training the model on TFIDF data"
   ]
  },
  {
   "cell_type": "code",
   "execution_count": 70,
   "metadata": {},
   "outputs": [
    {
     "data": {
      "text/plain": [
       "KNeighborsClassifier(algorithm='auto', leaf_size=30, metric='minkowski',\n",
       "           metric_params=None, n_jobs=None, n_neighbors=10, p=2,\n",
       "           weights='uniform')"
      ]
     },
     "execution_count": 70,
     "metadata": {},
     "output_type": "execute_result"
    }
   ],
   "source": [
    "neigh.fit(X_tfidf,Y.ravel())"
   ]
  },
  {
   "cell_type": "code",
   "execution_count": null,
   "metadata": {},
   "outputs": [],
   "source": [
    "#Training the model on Average word to vec data"
   ]
  },
  {
   "cell_type": "code",
   "execution_count": 186,
   "metadata": {},
   "outputs": [
    {
     "data": {
      "text/plain": [
       "KNeighborsClassifier(algorithm='brute', leaf_size=30, metric='minkowski',\n",
       "           metric_params=None, n_jobs=None, n_neighbors=5, p=2,\n",
       "           weights='uniform')"
      ]
     },
     "execution_count": 186,
     "metadata": {},
     "output_type": "execute_result"
    }
   ],
   "source": [
    "neigh.fit(X_avg_w2v,Y.ravel())"
   ]
  },
  {
   "cell_type": "code",
   "execution_count": null,
   "metadata": {},
   "outputs": [],
   "source": [
    "#Training the model on TFIDF + average word to vec data"
   ]
  },
  {
   "cell_type": "code",
   "execution_count": 264,
   "metadata": {},
   "outputs": [
    {
     "data": {
      "text/plain": [
       "KNeighborsClassifier(algorithm='brute', leaf_size=30, metric='minkowski',\n",
       "           metric_params=None, n_jobs=None, n_neighbors=5, p=2,\n",
       "           weights='uniform')"
      ]
     },
     "execution_count": 264,
     "metadata": {},
     "output_type": "execute_result"
    }
   ],
   "source": [
    "neigh.fit(X_tfidf_w2v,Y.ravel())"
   ]
  },
  {
   "cell_type": "markdown",
   "metadata": {},
   "source": [
    "# Bag of words"
   ]
  },
  {
   "cell_type": "code",
   "execution_count": null,
   "metadata": {},
   "outputs": [],
   "source": [
    "#Finding the best accuracy based on value of K on the bag of words data"
   ]
  },
  {
   "cell_type": "code",
   "execution_count": 192,
   "metadata": {},
   "outputs": [
    {
     "name": "stdout",
     "output_type": "stream",
     "text": [
      "\n",
      "CV accuracy for k = 1 is 71%\n",
      "\n",
      "CV accuracy for k = 3 is 77%\n",
      "\n",
      "CV accuracy for k = 5 is 81%\n",
      "\n",
      "CV accuracy for k = 7 is 83%\n",
      "\n",
      "CV accuracy for k = 9 is 84%\n",
      "\n",
      "****Test accuracy for k = 1 is 70%\n"
     ]
    }
   ],
   "source": [
    "X_1, X_test, y_1, y_test = model_selection.train_test_split(X, Y, test_size=0.3, random_state=0)\n",
    "\n",
    "# split the train data set into cross validation train and cross validation test\n",
    "X_tr, X_cv, y_tr, y_cv = model_selection.train_test_split(X_1, y_1, test_size=0.3)\n",
    "\n",
    "for i in range(1,10,2):\n",
    "    # instantiate learning model (k = 30)\n",
    "    knn = KNeighborsClassifier(n_neighbors=i)\n",
    "\n",
    "    # fitting the model on crossvalidation train\n",
    "    knn.fit(X_tr, y_tr)\n",
    "\n",
    "    # predict the response on the crossvalidation train\n",
    "    pred = knn.predict(X_cv)\n",
    "\n",
    "    # evaluate CV accuracy\n",
    "    acc = accuracy_score(y_cv, pred, normalize=True) * float(100)\n",
    "    print('\\nCV accuracy for k = %d is %d%%' % (i, acc))\n",
    "    \n",
    "knn = KNeighborsClassifier(1)\n",
    "knn.fit(X_tr,y_tr)\n",
    "pred = knn.predict(X_test)\n",
    "acc = accuracy_score(y_test, pred, normalize=True) * float(100)\n",
    "print('\\n****Test accuracy for k = 1 is %d%%' % (acc))\n"
   ]
  },
  {
   "cell_type": "markdown",
   "metadata": {},
   "source": [
    "# TFIDF"
   ]
  },
  {
   "cell_type": "code",
   "execution_count": null,
   "metadata": {},
   "outputs": [],
   "source": [
    "#Finding the best accuracy based on value of K on TFIDF data"
   ]
  },
  {
   "cell_type": "code",
   "execution_count": 71,
   "metadata": {},
   "outputs": [
    {
     "name": "stdout",
     "output_type": "stream",
     "text": [
      "\n",
      "CV accuracy for k = 1 is 75%\n",
      "\n",
      "CV accuracy for k = 3 is 80%\n",
      "\n",
      "CV accuracy for k = 5 is 82%\n",
      "\n",
      "CV accuracy for k = 7 is 83%\n",
      "\n",
      "CV accuracy for k = 9 is 84%\n",
      "\n",
      "****Test accuracy for k = 1 is 75%\n"
     ]
    }
   ],
   "source": [
    "X_1, X_test, y_1, y_test = model_selection.train_test_split(X_tfidf, Y, test_size=0.3, random_state=0)\n",
    "\n",
    "# split the train data set into cross validation train and cross validation test\n",
    "X_tr, X_cv, y_tr, y_cv = model_selection.train_test_split(X_1, y_1, test_size=0.3)\n",
    "\n",
    "for i in range(1,10,2):\n",
    "    # instantiate learning model (k = 30)\n",
    "    knn = KNeighborsClassifier(n_neighbors=i)\n",
    "\n",
    "    # fitting the model on crossvalidation train\n",
    "    knn.fit(X_tr, y_tr)\n",
    "\n",
    "    # predict the response on the crossvalidation train\n",
    "    pred = knn.predict(X_cv)\n",
    "\n",
    "    # evaluate CV accuracy\n",
    "    acc = accuracy_score(y_cv, pred, normalize=True) * float(100)\n",
    "    print('\\nCV accuracy for k = %d is %d%%' % (i, acc))\n",
    "    \n",
    "knn = KNeighborsClassifier(1)\n",
    "knn.fit(X_tr,y_tr)\n",
    "pred = knn.predict(X_test)\n",
    "acc = accuracy_score(y_test, pred, normalize=True) * float(100)\n",
    "print('\\n****Test accuracy for k = 1 is %d%%' % (acc))\n"
   ]
  },
  {
   "cell_type": "markdown",
   "metadata": {},
   "source": [
    "# avg_w2V"
   ]
  },
  {
   "cell_type": "code",
   "execution_count": null,
   "metadata": {},
   "outputs": [],
   "source": [
    "#Finding the best accuracy based on value of K on Average word 2 Vec data"
   ]
  },
  {
   "cell_type": "code",
   "execution_count": 187,
   "metadata": {},
   "outputs": [
    {
     "name": "stdout",
     "output_type": "stream",
     "text": [
      "\n",
      "CV accuracy for k = 1 is 75%\n",
      "\n",
      "CV accuracy for k = 3 is 80%\n",
      "\n",
      "CV accuracy for k = 5 is 82%\n",
      "\n",
      "CV accuracy for k = 7 is 83%\n",
      "\n",
      "CV accuracy for k = 9 is 84%\n",
      "\n",
      "****Test accuracy for k = 1 is 76%\n"
     ]
    }
   ],
   "source": [
    "X_1, X_test, y_1, y_test = model_selection.train_test_split(X_avg_w2v, Y, test_size=0.3, random_state=0)\n",
    "\n",
    "# split the train data set into cross validation train and cross validation test\n",
    "X_tr, X_cv, y_tr, y_cv = model_selection.train_test_split(X_1, y_1, test_size=0.3)\n",
    "\n",
    "for i in range(1,10,2):\n",
    "    # instantiate learning model (k = 30)\n",
    "    knn = KNeighborsClassifier(n_neighbors=i)\n",
    "\n",
    "    # fitting the model on crossvalidation train\n",
    "    knn.fit(X_tr, y_tr)\n",
    "\n",
    "    # predict the response on the crossvalidation train\n",
    "    pred = knn.predict(X_cv)\n",
    "\n",
    "    # evaluate CV accuracy\n",
    "    acc = accuracy_score(y_cv, pred, normalize=True) * float(100)\n",
    "    print('\\nCV accuracy for k = %d is %d%%' % (i, acc))\n",
    "    \n",
    "knn = KNeighborsClassifier(1)\n",
    "knn.fit(X_tr,y_tr)\n",
    "pred = knn.predict(X_test)\n",
    "acc = accuracy_score(y_test, pred, normalize=True) * float(100)\n",
    "print('\\n****Test accuracy for k = 1 is %d%%' % (acc))\n"
   ]
  },
  {
   "cell_type": "markdown",
   "metadata": {},
   "source": [
    "# tfidf_w2v"
   ]
  },
  {
   "cell_type": "code",
   "execution_count": null,
   "metadata": {},
   "outputs": [],
   "source": [
    "#Finding the best accuracy based on value of K on TFIDF + Average word 2 Vec data"
   ]
  },
  {
   "cell_type": "code",
   "execution_count": 203,
   "metadata": {},
   "outputs": [
    {
     "name": "stdout",
     "output_type": "stream",
     "text": [
      "\n",
      "CV accuracy for k = 1 is 75%\n",
      "\n",
      "CV accuracy for k = 3 is 80%\n",
      "\n",
      "CV accuracy for k = 5 is 82%\n",
      "\n",
      "CV accuracy for k = 7 is 83%\n",
      "\n",
      "CV accuracy for k = 9 is 84%\n",
      "\n",
      "****Test accuracy for k = 1 is 75%\n"
     ]
    }
   ],
   "source": [
    "X_1, X_test, y_1, y_test = model_selection.train_test_split(X_tfidf_w2v, Y, test_size=0.3, random_state=0)\n",
    "\n",
    "# split the train data set into cross validation train and cross validation test\n",
    "X_tr, X_cv, y_tr, y_cv = model_selection.train_test_split(X_1, y_1, test_size=0.3)\n",
    "\n",
    "for i in range(1,10,2):\n",
    "    # instantiate learning model (k = 30)\n",
    "    knn = KNeighborsClassifier(n_neighbors=i)\n",
    "\n",
    "    # fitting the model on crossvalidation train\n",
    "    knn.fit(X_tr, y_tr)\n",
    "\n",
    "    # predict the response on the crossvalidation train\n",
    "    pred = knn.predict(X_cv)\n",
    "\n",
    "    # evaluate CV accuracy\n",
    "    acc = accuracy_score(y_cv, pred, normalize=True) * float(100)\n",
    "    print('\\nCV accuracy for k = %d is %d%%' % (i, acc))\n",
    "    \n",
    "knn = KNeighborsClassifier(1)\n",
    "knn.fit(X_tr,y_tr)\n",
    "pred = knn.predict(X_test)\n",
    "acc = accuracy_score(y_test, pred, normalize=True) * float(100)\n",
    "print('\\n****Test accuracy for k = 1 is %d%%' % (acc))\n"
   ]
  },
  {
   "cell_type": "code",
   "execution_count": null,
   "metadata": {},
   "outputs": [],
   "source": [
    "#The best accuracy is obtained on Average word 2 Vec model"
   ]
  },
  {
   "cell_type": "markdown",
   "metadata": {},
   "source": [
    "# Splitting into train test and cross validation for each kind of lematization"
   ]
  },
  {
   "cell_type": "markdown",
   "metadata": {},
   "source": [
    "# Bag of words"
   ]
  },
  {
   "cell_type": "code",
   "execution_count": 193,
   "metadata": {},
   "outputs": [
    {
     "name": "stdout",
     "output_type": "stream",
     "text": [
      "(14364, 11679) (14364,)\n",
      "(7076, 11679) (7076,)\n",
      "(10560, 11679) (10560,)\n",
      "====================================================================================================\n"
     ]
    }
   ],
   "source": [
    "# https://scikit-learn.org/stable/modules/generated/sklearn.model_selection.train_test_split.html\n",
    "from sklearn.model_selection import train_test_split\n",
    "\n",
    "# X_train, X_test, y_train, y_test = train_test_split(X, Y, test_size=0.33, shuffle=Flase)# this is for time series split\n",
    "X_train, X_test, y_train, y_test = train_test_split(X, Y.ravel(), test_size=0.33) # this is random splitting\n",
    "X_train, X_cv, y_train, y_cv = train_test_split(X_train, y_train, test_size=0.33) # this is random splitting\n",
    "\n",
    "\n",
    "print(X_train.shape, y_train.shape)\n",
    "print(X_cv.shape, y_cv.shape)\n",
    "print(X_test.shape, y_test.shape)\n",
    "\n",
    "print(\"=\"*100)\n"
   ]
  },
  {
   "cell_type": "markdown",
   "metadata": {},
   "source": [
    "# TFIDF"
   ]
  },
  {
   "cell_type": "code",
   "execution_count": 197,
   "metadata": {},
   "outputs": [
    {
     "name": "stdout",
     "output_type": "stream",
     "text": [
      "(14364, 11679) (14364,)\n",
      "(7076, 11679) (7076,)\n",
      "(10560, 11679) (10560,)\n",
      "====================================================================================================\n"
     ]
    }
   ],
   "source": [
    "# https://scikit-learn.org/stable/modules/generated/sklearn.model_selection.train_test_split.html\n",
    "from sklearn.model_selection import train_test_split\n",
    "\n",
    "# X_train, X_test, y_train, y_test = train_test_split(X, Y, test_size=0.33, shuffle=Flase)# this is for time series split\n",
    "X_train, X_test, y_train, y_test = train_test_split(X_tfidf, Y.ravel(), test_size=0.33) # this is random splitting\n",
    "X_train, X_cv, y_train, y_cv = train_test_split(X_train, y_train, test_size=0.33) # this is random splitting\n",
    "\n",
    "\n",
    "print(X_train.shape, y_train.shape)\n",
    "print(X_cv.shape, y_cv.shape)\n",
    "print(X_test.shape, y_test.shape)\n",
    "\n",
    "print(\"=\"*100)\n"
   ]
  },
  {
   "cell_type": "code",
   "execution_count": null,
   "metadata": {},
   "outputs": [],
   "source": []
  },
  {
   "cell_type": "markdown",
   "metadata": {},
   "source": [
    "# avg_w2V"
   ]
  },
  {
   "cell_type": "code",
   "execution_count": 188,
   "metadata": {},
   "outputs": [
    {
     "name": "stdout",
     "output_type": "stream",
     "text": [
      "(14364, 702) (14364,)\n",
      "(7076, 702) (7076,)\n",
      "(10560, 702) (10560,)\n",
      "====================================================================================================\n"
     ]
    }
   ],
   "source": [
    "# https://scikit-learn.org/stable/modules/generated/sklearn.model_selection.train_test_split.html\n",
    "from sklearn.model_selection import train_test_split\n",
    "\n",
    "# X_train, X_test, y_train, y_test = train_test_split(X, Y, test_size=0.33, shuffle=Flase)# this is for time series split\n",
    "X_train, X_test, y_train, y_test = train_test_split(X_avg_w2v, Y.ravel(), test_size=0.33) # this is random splitting\n",
    "X_train, X_cv, y_train, y_cv = train_test_split(X_train, y_train, test_size=0.33) # this is random splitting\n",
    "\n",
    "\n",
    "print(X_train.shape, y_train.shape)\n",
    "print(X_cv.shape, y_cv.shape)\n",
    "print(X_test.shape, y_test.shape)\n",
    "\n",
    "print(\"=\"*100)\n"
   ]
  },
  {
   "cell_type": "markdown",
   "metadata": {},
   "source": [
    "# TFIDF_w2V"
   ]
  },
  {
   "cell_type": "code",
   "execution_count": 265,
   "metadata": {},
   "outputs": [
    {
     "name": "stdout",
     "output_type": "stream",
     "text": [
      "(14364, 701) (14364,)\n",
      "(7076, 701) (7076,)\n",
      "(10560, 701) (10560,)\n",
      "====================================================================================================\n"
     ]
    }
   ],
   "source": [
    "# https://scikit-learn.org/stable/modules/generated/sklearn.model_selection.train_test_split.html\n",
    "from sklearn.model_selection import train_test_split\n",
    "\n",
    "# X_train, X_test, y_train, y_test = train_test_split(X, Y, test_size=0.33, shuffle=Flase)# this is for time series split\n",
    "X_train, X_test, y_train, y_test = train_test_split(X_tfidf_w2v, Y.ravel(), test_size=0.33) # this is random splitting\n",
    "X_train, X_cv, y_train, y_cv = train_test_split(X_train, y_train, test_size=0.33) # this is random splitting\n",
    "\n",
    "\n",
    "print(X_train.shape, y_train.shape)\n",
    "print(X_cv.shape, y_cv.shape)\n",
    "print(X_test.shape, y_test.shape)\n",
    "\n",
    "print(\"=\"*100)\n"
   ]
  },
  {
   "cell_type": "code",
   "execution_count": 73,
   "metadata": {},
   "outputs": [
    {
     "data": {
      "text/plain": [
       "(109248, 19709)"
      ]
     },
     "execution_count": 73,
     "metadata": {},
     "output_type": "execute_result"
    }
   ],
   "source": [
    "X.shape"
   ]
  },
  {
   "cell_type": "markdown",
   "metadata": {},
   "source": [
    "# BOW"
   ]
  },
  {
   "cell_type": "code",
   "execution_count": 194,
   "metadata": {},
   "outputs": [],
   "source": [
    "from sklearn.neighbors import KNeighborsClassifier\n",
    "from sklearn.metrics import roc_auc_score\n",
    "import matplotlib.pyplot as plt"
   ]
  },
  {
   "cell_type": "code",
   "execution_count": 195,
   "metadata": {},
   "outputs": [
    {
     "data": {
      "image/png": "[encoded data removed]",
      "text/plain": [
       "<Figure size 432x288 with 1 Axes>"
      ]
     },
     "metadata": {
      "needs_background": "light"
     },
     "output_type": "display_data"
    }
   ],
   "source": [
    "from sklearn.neighbors import KNeighborsClassifier\n",
    "from sklearn.metrics import roc_auc_score\n",
    "import matplotlib.pyplot as plt\n",
    "\"\"\"\n",
    "y_true : array, shape = [n_samples] or [n_samples, n_classes]\n",
    "True binary labels or binary label indicators.\n",
    "\n",
    "y_score : array, shape = [n_samples] or [n_samples, n_classes]\n",
    "Target scores, can either be probability estimates of the positive class, confidence values, or non-thresholded measure of\n",
    "decisions (as returned by “decision_function” on some classifiers). \n",
    "For binary y_true, y_score is supposed to be the score of the class with greater label.\n",
    "\n",
    "\"\"\"\n",
    "\n",
    "train_auc = []\n",
    "cv_auc = []\n",
    "K = [1, 5, 10, 15, 21, 31, 41, 51]\n",
    "for i in K:\n",
    "    neigh = KNeighborsClassifier(n_neighbors=i)\n",
    "    neigh.fit(X_train, y_train)\n",
    "    # roc_auc_score(y_true, y_score) the 2nd parameter should be probability estimates of the positive class\n",
    "    # not the predicted outputs\n",
    "    y_train_pred =  neigh.predict_proba(X_train)[:,1]\n",
    "    y_cv_pred =  neigh.predict_proba(X_cv)[:,1]\n",
    "    \n",
    "    train_auc.append(roc_auc_score(y_train,y_train_pred))\n",
    "    cv_auc.append(roc_auc_score(y_cv, y_cv_pred))\n",
    "    \n",
    "plt.plot(K, train_auc, label='Train AUC')\n",
    "plt.plot(K, cv_auc, label='CV AUC')\n",
    "plt.legend()\n",
    "plt.xlabel(\"K: hyperparameter\")\n",
    "plt.ylabel(\"AUC\")\n",
    "plt.title(\"ERROR PLOTS\")\n",
    "plt.show()"
   ]
  },
  {
   "cell_type": "markdown",
   "metadata": {},
   "source": [
    "# TFIDF"
   ]
  },
  {
   "cell_type": "code",
   "execution_count": 198,
   "metadata": {},
   "outputs": [
    {
     "data": {
      "image/png": "[encoded data removed]",
      "text/plain": [
       "<Figure size 432x288 with 1 Axes>"
      ]
     },
     "metadata": {
      "needs_background": "light"
     },
     "output_type": "display_data"
    }
   ],
   "source": [
    "from sklearn.neighbors import KNeighborsClassifier\n",
    "from sklearn.metrics import roc_auc_score\n",
    "import matplotlib.pyplot as plt\n",
    "\"\"\"\n",
    "y_true : array, shape = [n_samples] or [n_samples, n_classes]\n",
    "True binary labels or binary label indicators.\n",
    "\n",
    "y_score : array, shape = [n_samples] or [n_samples, n_classes]\n",
    "Target scores, can either be probability estimates of the positive class, confidence values, or non-thresholded measure of\n",
    "decisions (as returned by “decision_function” on some classifiers). \n",
    "For binary y_true, y_score is supposed to be the score of the class with greater label.\n",
    "\n",
    "\"\"\"\n",
    "\n",
    "train_auc = []\n",
    "cv_auc = []\n",
    "K = [1, 5, 10, 15, 21, 31, 41, 51]\n",
    "for i in K:\n",
    "    neigh = KNeighborsClassifier(n_neighbors=i)\n",
    "    neigh.fit(X_train, y_train)\n",
    "    # roc_auc_score(y_true, y_score) the 2nd parameter should be probability estimates of the positive class\n",
    "    # not the predicted outputs\n",
    "    y_train_pred =  neigh.predict_proba(X_train)[:,1]\n",
    "    y_cv_pred =  neigh.predict_proba(X_cv)[:,1]\n",
    "    \n",
    "    train_auc.append(roc_auc_score(y_train,y_train_pred))\n",
    "    cv_auc.append(roc_auc_score(y_cv, y_cv_pred))\n",
    "    \n",
    "plt.plot(K, train_auc, label='Train AUC')\n",
    "plt.plot(K, cv_auc, label='CV AUC')\n",
    "plt.legend()\n",
    "plt.xlabel(\"K: hyperparameter\")\n",
    "plt.ylabel(\"AUC\")\n",
    "plt.title(\"ERROR PLOTS\")\n",
    "plt.show()"
   ]
  },
  {
   "cell_type": "markdown",
   "metadata": {},
   "source": [
    "# avg_w2V"
   ]
  },
  {
   "cell_type": "code",
   "execution_count": 189,
   "metadata": {},
   "outputs": [
    {
     "data": {
      "image/png": "[encoded data removed]",
      "text/plain": [
       "<Figure size 432x288 with 1 Axes>"
      ]
     },
     "metadata": {
      "needs_background": "light"
     },
     "output_type": "display_data"
    }
   ],
   "source": [
    "from sklearn.neighbors import KNeighborsClassifier\n",
    "from sklearn.metrics import roc_auc_score\n",
    "import matplotlib.pyplot as plt\n",
    "\"\"\"\n",
    "y_true : array, shape = [n_samples] or [n_samples, n_classes]\n",
    "True binary labels or binary label indicators.\n",
    "\n",
    "y_score : array, shape = [n_samples] or [n_samples, n_classes]\n",
    "Target scores, can either be probability estimates of the positive class, confidence values, or non-thresholded measure of\n",
    "decisions (as returned by “decision_function” on some classifiers). \n",
    "For binary y_true, y_score is supposed to be the score of the class with greater label.\n",
    "\n",
    "\"\"\"\n",
    "\n",
    "train_auc = []\n",
    "cv_auc = []\n",
    "K = [1, 5, 10, 15, 21, 31, 41, 51]\n",
    "for i in K:\n",
    "    neigh = KNeighborsClassifier(n_neighbors=i)\n",
    "    neigh.fit(X_train, y_train)\n",
    "    # roc_auc_score(y_true, y_score) the 2nd parameter should be probability estimates of the positive class\n",
    "    # not the predicted outputs\n",
    "    y_train_pred =  neigh.predict_proba(X_train)[:,1]\n",
    "    y_cv_pred =  neigh.predict_proba(X_cv)[:,1]\n",
    "    \n",
    "    train_auc.append(roc_auc_score(y_train,y_train_pred))\n",
    "    cv_auc.append(roc_auc_score(y_cv, y_cv_pred))\n",
    "    \n",
    "plt.plot(K, train_auc, label='Train AUC')\n",
    "plt.plot(K, cv_auc, label='CV AUC')\n",
    "plt.legend()\n",
    "plt.xlabel(\"K: hyperparameter\")\n",
    "plt.ylabel(\"AUC\")\n",
    "plt.title(\"ERROR PLOTS\")\n",
    "plt.show()"
   ]
  },
  {
   "cell_type": "markdown",
   "metadata": {},
   "source": [
    "# TFIDF_w2V"
   ]
  },
  {
   "cell_type": "code",
   "execution_count": 266,
   "metadata": {},
   "outputs": [
    {
     "data": {
      "image/png": "[encoded data removed]",
      "text/plain": [
       "<Figure size 432x288 with 1 Axes>"
      ]
     },
     "metadata": {
      "needs_background": "light"
     },
     "output_type": "display_data"
    }
   ],
   "source": [
    "from sklearn.neighbors import KNeighborsClassifier\n",
    "from sklearn.metrics import roc_auc_score\n",
    "import matplotlib.pyplot as plt\n",
    "\"\"\"\n",
    "y_true : array, shape = [n_samples] or [n_samples, n_classes]\n",
    "True binary labels or binary label indicators.\n",
    "\n",
    "y_score : array, shape = [n_samples] or [n_samples, n_classes]\n",
    "Target scores, can either be probability estimates of the positive class, confidence values, or non-thresholded measure of\n",
    "decisions (as returned by “decision_function” on some classifiers). \n",
    "For binary y_true, y_score is supposed to be the score of the class with greater label.\n",
    "\n",
    "\"\"\"\n",
    "\n",
    "train_auc = []\n",
    "cv_auc = []\n",
    "K = [1, 5, 10, 15, 21, 31, 41, 51]\n",
    "for i in K:\n",
    "    neigh = KNeighborsClassifier(n_neighbors=i)\n",
    "    neigh.fit(X_train, y_train)\n",
    "    # roc_auc_score(y_true, y_score) the 2nd parameter should be probability estimates of the positive class\n",
    "    # not the predicted outputs\n",
    "    y_train_pred =  neigh.predict_proba(X_train)[:,1]\n",
    "    y_cv_pred =  neigh.predict_proba(X_cv)[:,1]\n",
    "    \n",
    "    train_auc.append(roc_auc_score(y_train,y_train_pred))\n",
    "    cv_auc.append(roc_auc_score(y_cv, y_cv_pred))\n",
    "    \n",
    "plt.plot(K, train_auc, label='Train AUC')\n",
    "plt.plot(K, cv_auc, label='CV AUC')\n",
    "plt.legend()\n",
    "plt.xlabel(\"K: hyperparameter\")\n",
    "plt.ylabel(\"AUC\")\n",
    "plt.title(\"ERROR PLOTS\")\n",
    "plt.show()"
   ]
  },
  {
   "cell_type": "code",
   "execution_count": null,
   "metadata": {},
   "outputs": [],
   "source": [
    "# https://scikit-learn.org/stable/modules/generated/sklearn.model_selection.train_test_split.html\n",
    "from sklearn.model_selection import train_test_split\n",
    "\n",
    "# X_train, X_test, y_train, y_test = train_test_split(X, Y, test_size=0.33, shuffle=Flase)# this is for time series split\n",
    "X_train, X_test, y_train, y_test = train_test_split(X, Y.ravel(), test_size=0.33) # this is random splitting\n",
    "X_train, X_cv, y_train, y_cv = train_test_split(X_train, y_train, test_size=0.33) # this is random splitting\n",
    "\n",
    "\n",
    "print(X_train.shape, y_train.shape)\n",
    "print(X_cv.shape, y_cv.shape)\n",
    "print(X_test.shape, y_test.shape)\n",
    "\n",
    "print(\"=\"*100)\n"
   ]
  },
  {
   "cell_type": "code",
   "execution_count": 109,
   "metadata": {},
   "outputs": [
    {
     "data": {
      "text/plain": [
       "array([[1],\n",
       "       [1],\n",
       "       [1],\n",
       "       ...,\n",
       "       [1],\n",
       "       [1],\n",
       "       [1]], dtype=int64)"
      ]
     },
     "execution_count": 109,
     "metadata": {},
     "output_type": "execute_result"
    }
   ],
   "source": [
    "y_train.reshape(-1,1)"
   ]
  },
  {
   "cell_type": "code",
   "execution_count": 110,
   "metadata": {},
   "outputs": [
    {
     "data": {
      "text/plain": [
       "(49041,)"
      ]
     },
     "execution_count": 110,
     "metadata": {},
     "output_type": "execute_result"
    }
   ],
   "source": [
    "y_train.shape"
   ]
  },
  {
   "cell_type": "markdown",
   "metadata": {},
   "source": [
    "# BOW"
   ]
  },
  {
   "cell_type": "code",
   "execution_count": 114,
   "metadata": {},
   "outputs": [
    {
     "name": "stderr",
     "output_type": "stream",
     "text": [
      "C:\\ProgramData\\Anaconda3\\lib\\site-packages\\sklearn\\utils\\deprecation.py:125: FutureWarning: You are accessing a training score ('mean_train_score'), which will not be available by default any more in 0.21. If you need training scores, please set return_train_score=True\n",
      "  warnings.warn(*warn_args, **warn_kwargs)\n",
      "C:\\ProgramData\\Anaconda3\\lib\\site-packages\\sklearn\\utils\\deprecation.py:125: FutureWarning: You are accessing a training score ('std_train_score'), which will not be available by default any more in 0.21. If you need training scores, please set return_train_score=True\n",
      "  warnings.warn(*warn_args, **warn_kwargs)\n"
     ]
    },
    {
     "data": {
      "image/png": "[encoded data removed]",
      "text/plain": [
       "<Figure size 432x288 with 1 Axes>"
      ]
     },
     "metadata": {
      "needs_background": "light"
     },
     "output_type": "display_data"
    }
   ],
   "source": [
    "# https://scikit-learn.org/stable/modules/generated/sklearn.model_selection.GridSearchCV.html\n",
    "from sklearn.model_selection import GridSearchCV\n",
    "from sklearn.neighbors import KNeighborsClassifier\n",
    "\n",
    "neigh = KNeighborsClassifier()\n",
    "parameters = {'n_neighbors':[1, 5, 10, 15, 21, 31, 41, 51]}\n",
    "clf = GridSearchCV(neigh, parameters, cv=3, scoring='roc_auc')\n",
    "clf.fit(X_train, y_train)\n",
    "\n",
    "train_auc= clf.cv_results_['mean_train_score']\n",
    "train_auc_std= clf.cv_results_['std_train_score']\n",
    "cv_auc = clf.cv_results_['mean_test_score'] \n",
    "cv_auc_std= clf.cv_results_['std_test_score']\n",
    "\n",
    "plt.plot(K, train_auc, label='Train AUC')\n",
    "# this code is copied from here: https://stackoverflow.com/a/48803361/4084039\n",
    "plt.gca().fill_between(K,train_auc - train_auc_std,train_auc + train_auc_std,alpha=0.2,color='darkblue')\n",
    "\n",
    "plt.plot(K, cv_auc, label='CV AUC')\n",
    "# this code is copied from here: https://stackoverflow.com/a/48803361/4084039\n",
    "plt.gca().fill_between(K,cv_auc - cv_auc_std,cv_auc + cv_auc_std,alpha=0.2,color='darkorange')\n",
    "plt.legend()\n",
    "plt.xlabel(\"K: hyperparameter\")\n",
    "plt.ylabel(\"AUC\")\n",
    "plt.title(\"ERROR PLOTS\")\n",
    "plt.show()"
   ]
  },
  {
   "cell_type": "markdown",
   "metadata": {},
   "source": [
    "# Bag of words: Test Prediction"
   ]
  },
  {
   "cell_type": "code",
   "execution_count": 196,
   "metadata": {},
   "outputs": [
    {
     "data": {
      "image/png": "[encoded data removed]",
      "text/plain": [
       "<Figure size 432x288 with 1 Axes>"
      ]
     },
     "metadata": {
      "needs_background": "light"
     },
     "output_type": "display_data"
    },
    {
     "name": "stdout",
     "output_type": "stream",
     "text": [
      "====================================================================================================\n",
      "Train confusion matrix\n",
      "[[  113  2055]\n",
      " [   66 12130]]\n",
      "Test confusion matrix\n",
      "[[  22 1642]\n",
      " [  79 8817]]\n"
     ]
    }
   ],
   "source": [
    "# https://scikit-learn.org/stable/modules/generated/sklearn.metrics.roc_curve.html#sklearn.metrics.roc_curve\n",
    "from sklearn.metrics import roc_curve, auc\n",
    "\n",
    "\n",
    "neigh = KNeighborsClassifier(n_neighbors=10)\n",
    "neigh.fit(X_train, y_train)\n",
    "# roc_auc_score(y_true, y_score) the 2nd parameter should be probability estimates of the positive class\n",
    "# not the predicted outputs\n",
    "\n",
    "train_fpr, train_tpr, thresholds = roc_curve(y_train, neigh.predict_proba(X_train)[:,1])\n",
    "test_fpr, test_tpr, thresholds = roc_curve(y_test, neigh.predict_proba(X_test)[:,1])\n",
    "\n",
    "plt.plot(train_fpr, train_tpr, label=\"train AUC =\"+str(auc(train_fpr, train_tpr)))\n",
    "plt.plot(test_fpr, test_tpr, label=\"train AUC =\"+str(auc(test_fpr, test_tpr)))\n",
    "plt.legend()\n",
    "plt.xlabel(\"K: hyperparameter\")\n",
    "plt.ylabel(\"AUC\")\n",
    "plt.title(\"ERROR PLOTS\")\n",
    "plt.show()\n",
    "\n",
    "print(\"=\"*100)\n",
    "\n",
    "from sklearn.metrics import confusion_matrix\n",
    "print(\"Train confusion matrix\")\n",
    "print(confusion_matrix(y_train, neigh.predict(X_train)))\n",
    "print(\"Test confusion matrix\")\n",
    "print(confusion_matrix(y_test, neigh.predict(X_test)))"
   ]
  },
  {
   "cell_type": "markdown",
   "metadata": {},
   "source": [
    "# GRIDSEARCH_TFIDF"
   ]
  },
  {
   "cell_type": "code",
   "execution_count": 74,
   "metadata": {},
   "outputs": [
    {
     "name": "stderr",
     "output_type": "stream",
     "text": [
      "C:\\ProgramData\\Anaconda3\\lib\\site-packages\\sklearn\\utils\\deprecation.py:125: FutureWarning: You are accessing a training score ('mean_train_score'), which will not be available by default any more in 0.21. If you need training scores, please set return_train_score=True\n",
      "  warnings.warn(*warn_args, **warn_kwargs)\n",
      "C:\\ProgramData\\Anaconda3\\lib\\site-packages\\sklearn\\utils\\deprecation.py:125: FutureWarning: You are accessing a training score ('std_train_score'), which will not be available by default any more in 0.21. If you need training scores, please set return_train_score=True\n",
      "  warnings.warn(*warn_args, **warn_kwargs)\n"
     ]
    },
    {
     "data": {
      "image/png": "[encoded data removed]",
      "text/plain": [
       "<Figure size 432x288 with 1 Axes>"
      ]
     },
     "metadata": {
      "needs_background": "light"
     },
     "output_type": "display_data"
    }
   ],
   "source": [
    "# https://scikit-learn.org/stable/modules/generated/sklearn.model_selection.GridSearchCV.html\n",
    "from sklearn.model_selection import GridSearchCV\n",
    "from sklearn.neighbors import KNeighborsClassifier\n",
    "\n",
    "neigh = KNeighborsClassifier()\n",
    "parameters = {'n_neighbors':[1, 5, 10, 15, 21, 31, 41, 51]}\n",
    "clf = GridSearchCV(neigh, parameters, cv=3, scoring='roc_auc')\n",
    "clf.fit(X_train, y_train)\n",
    "\n",
    "train_auc= clf.cv_results_['mean_train_score']\n",
    "train_auc_std= clf.cv_results_['std_train_score']\n",
    "cv_auc = clf.cv_results_['mean_test_score'] \n",
    "cv_auc_std= clf.cv_results_['std_test_score']\n",
    "\n",
    "plt.plot(K, train_auc, label='Train AUC')\n",
    "# this code is copied from here: https://stackoverflow.com/a/48803361/4084039\n",
    "plt.gca().fill_between(K,train_auc - train_auc_std,train_auc + train_auc_std,alpha=0.2,color='darkblue')\n",
    "\n",
    "plt.plot(K, cv_auc, label='CV AUC')\n",
    "# this code is copied from here: https://stackoverflow.com/a/48803361/4084039\n",
    "plt.gca().fill_between(K,cv_auc - cv_auc_std,cv_auc + cv_auc_std,alpha=0.2,color='darkorange')\n",
    "plt.legend()\n",
    "plt.xlabel(\"K: hyperparameter\")\n",
    "plt.ylabel(\"AUC\")\n",
    "plt.title(\"ERROR PLOTS\")\n",
    "plt.show()"
   ]
  },
  {
   "cell_type": "code",
   "execution_count": 199,
   "metadata": {},
   "outputs": [
    {
     "data": {
      "image/png": "[encoded data removed]",
      "text/plain": [
       "<Figure size 432x288 with 1 Axes>"
      ]
     },
     "metadata": {
      "needs_background": "light"
     },
     "output_type": "display_data"
    },
    {
     "name": "stdout",
     "output_type": "stream",
     "text": [
      "====================================================================================================\n",
      "Train confusion matrix\n",
      "[[  145  2067]\n",
      " [  116 12036]]\n",
      "Test confusion matrix\n",
      "[[  40 1600]\n",
      " [ 139 8781]]\n"
     ]
    }
   ],
   "source": [
    "# https://scikit-learn.org/stable/modules/generated/sklearn.metrics.roc_curve.html#sklearn.metrics.roc_curve\n",
    "from sklearn.metrics import roc_curve, auc\n",
    "\n",
    "\n",
    "neigh = KNeighborsClassifier(n_neighbors=10)\n",
    "neigh.fit(X_train, y_train)\n",
    "# roc_auc_score(y_true, y_score) the 2nd parameter should be probability estimates of the positive class\n",
    "# not the predicted outputs\n",
    "\n",
    "train_fpr, train_tpr, thresholds = roc_curve(y_train, neigh.predict_proba(X_train)[:,1])\n",
    "test_fpr, test_tpr, thresholds = roc_curve(y_test, neigh.predict_proba(X_test)[:,1])\n",
    "\n",
    "plt.plot(train_fpr, train_tpr, label=\"train AUC =\"+str(auc(train_fpr, train_tpr)))\n",
    "plt.plot(test_fpr, test_tpr, label=\"train AUC =\"+str(auc(test_fpr, test_tpr)))\n",
    "plt.legend()\n",
    "plt.xlabel(\"K: hyperparameter\")\n",
    "plt.ylabel(\"AUC\")\n",
    "plt.title(\"ERROR PLOTS\")\n",
    "plt.show()\n",
    "\n",
    "print(\"=\"*100)\n",
    "\n",
    "from sklearn.metrics import confusion_matrix\n",
    "print(\"Train confusion matrix\")\n",
    "print(confusion_matrix(y_train, neigh.predict(X_train)))\n",
    "print(\"Test confusion matrix\")\n",
    "print(confusion_matrix(y_test, neigh.predict(X_test)))"
   ]
  },
  {
   "cell_type": "markdown",
   "metadata": {},
   "source": [
    "# TFIDF_test_prediction"
   ]
  },
  {
   "cell_type": "code",
   "execution_count": 75,
   "metadata": {},
   "outputs": [
    {
     "data": {
      "image/png": "[encoded data removed]",
      "text/plain": [
       "<Figure size 432x288 with 1 Axes>"
      ]
     },
     "metadata": {
      "needs_background": "light"
     },
     "output_type": "display_data"
    },
    {
     "name": "stdout",
     "output_type": "stream",
     "text": [
      "====================================================================================================\n",
      "Train confusion matrix\n",
      "[[  572  6905]\n",
      " [  448 41116]]\n",
      "Test confusion matrix\n",
      "[[  179  5307]\n",
      " [  573 29993]]\n"
     ]
    }
   ],
   "source": [
    "# https://scikit-learn.org/stable/modules/generated/sklearn.metrics.roc_curve.html#sklearn.metrics.roc_curve\n",
    "from sklearn.metrics import roc_curve, auc\n",
    "\n",
    "\n",
    "neigh = KNeighborsClassifier(n_neighbors=10)\n",
    "neigh.fit(X_train, y_train)\n",
    "# roc_auc_score(y_true, y_score) the 2nd parameter should be probability estimates of the positive class\n",
    "# not the predicted outputs\n",
    "\n",
    "train_fpr, train_tpr, thresholds = roc_curve(y_train, neigh.predict_proba(X_train)[:,1])\n",
    "test_fpr, test_tpr, thresholds = roc_curve(y_test, neigh.predict_proba(X_test)[:,1])\n",
    "\n",
    "plt.plot(train_fpr, train_tpr, label=\"train AUC =\"+str(auc(train_fpr, train_tpr)))\n",
    "plt.plot(test_fpr, test_tpr, label=\"train AUC =\"+str(auc(test_fpr, test_tpr)))\n",
    "plt.legend()\n",
    "plt.xlabel(\"K: hyperparameter\")\n",
    "plt.ylabel(\"AUC\")\n",
    "plt.title(\"ERROR PLOTS\")\n",
    "plt.show()\n",
    "\n",
    "print(\"=\"*100)\n",
    "\n",
    "from sklearn.metrics import confusion_matrix\n",
    "print(\"Train confusion matrix\")\n",
    "print(confusion_matrix(y_train, neigh.predict(X_train)))\n",
    "print(\"Test confusion matrix\")\n",
    "print(confusion_matrix(y_test, neigh.predict(X_test)))"
   ]
  },
  {
   "cell_type": "markdown",
   "metadata": {},
   "source": [
    "# tfidf_avg_w2v"
   ]
  },
  {
   "cell_type": "code",
   "execution_count": 267,
   "metadata": {},
   "outputs": [
    {
     "data": {
      "image/png": "[encoded data removed]",
      "text/plain": [
       "<Figure size 432x288 with 1 Axes>"
      ]
     },
     "metadata": {
      "needs_background": "light"
     },
     "output_type": "display_data"
    }
   ],
   "source": [
    "from sklearn.neighbors import KNeighborsClassifier\n",
    "from sklearn.metrics import roc_auc_score\n",
    "import matplotlib.pyplot as plt\n",
    "\"\"\"\n",
    "y_true : array, shape = [n_samples] or [n_samples, n_classes]\n",
    "True binary labels or binary label indicators.\n",
    "\n",
    "y_score : array, shape = [n_samples] or [n_samples, n_classes]\n",
    "Target scores, can either be probability estimates of the positive class, confidence values, or non-thresholded measure of\n",
    "decisions (as returned by “decision_function” on some classifiers). \n",
    "For binary y_true, y_score is supposed to be the score of the class with greater label.\n",
    "\n",
    "\"\"\"\n",
    "\n",
    "train_auc = []\n",
    "cv_auc = []\n",
    "K = [1, 5, 10, 15, 21, 31, 41, 51]\n",
    "for i in K:\n",
    "    neigh = KNeighborsClassifier(n_neighbors=i)\n",
    "    neigh.fit(X_train, y_train)\n",
    "    # roc_auc_score(y_true, y_score) the 2nd parameter should be probability estimates of the positive class\n",
    "    # not the predicted outputs\n",
    "    y_train_pred =  neigh.predict_proba(X_train)[:,1]\n",
    "    y_cv_pred =  neigh.predict_proba(X_cv)[:,1]\n",
    "    \n",
    "    train_auc.append(roc_auc_score(y_train,y_train_pred))\n",
    "    cv_auc.append(roc_auc_score(y_cv, y_cv_pred))\n",
    "    \n",
    "plt.plot(K, train_auc, label='Train AUC')\n",
    "plt.plot(K, cv_auc, label='CV AUC')\n",
    "plt.legend()\n",
    "plt.xlabel(\"K: hyperparameter\")\n",
    "plt.ylabel(\"AUC\")\n",
    "plt.title(\"ERROR PLOTS\")\n",
    "plt.show()"
   ]
  },
  {
   "cell_type": "raw",
   "metadata": {},
   "source": []
  },
  {
   "cell_type": "markdown",
   "metadata": {},
   "source": [
    "# Grid_search_AVG_w2V:"
   ]
  },
  {
   "cell_type": "code",
   "execution_count": 190,
   "metadata": {},
   "outputs": [
    {
     "data": {
      "image/png": "[encoded data removed]",
      "text/plain": [
       "<Figure size 432x288 with 1 Axes>"
      ]
     },
     "metadata": {
      "needs_background": "light"
     },
     "output_type": "display_data"
    },
    {
     "name": "stdout",
     "output_type": "stream",
     "text": [
      "====================================================================================================\n",
      "Train confusion matrix\n",
      "[[  141  2089]\n",
      " [   95 12039]]\n",
      "Test confusion matrix\n",
      "[[  50 1580]\n",
      " [ 152 8778]]\n"
     ]
    }
   ],
   "source": [
    "# https://scikit-learn.org/stable/modules/generated/sklearn.metrics.roc_curve.html#sklearn.metrics.roc_curve\n",
    "from sklearn.metrics import roc_curve, auc\n",
    "\n",
    "\n",
    "neigh = KNeighborsClassifier(n_neighbors=10)\n",
    "neigh.fit(X_train, y_train)\n",
    "# roc_auc_score(y_true, y_score) the 2nd parameter should be probability estimates of the positive class\n",
    "# not the predicted outputs\n",
    "\n",
    "train_fpr, train_tpr, thresholds = roc_curve(y_train, neigh.predict_proba(X_train)[:,1])\n",
    "test_fpr, test_tpr, thresholds = roc_curve(y_test, neigh.predict_proba(X_test)[:,1])\n",
    "\n",
    "plt.plot(train_fpr, train_tpr, label=\"train AUC =\"+str(auc(train_fpr, train_tpr)))\n",
    "plt.plot(test_fpr, test_tpr, label=\"train AUC =\"+str(auc(test_fpr, test_tpr)))\n",
    "plt.legend()\n",
    "plt.xlabel(\"K: hyperparameter\")\n",
    "plt.ylabel(\"AUC\")\n",
    "plt.title(\"ERROR PLOTS\")\n",
    "plt.show()\n",
    "\n",
    "print(\"=\"*100)\n",
    "\n",
    "from sklearn.metrics import confusion_matrix\n",
    "print(\"Train confusion matrix\")\n",
    "print(confusion_matrix(y_train, neigh.predict(X_train)))\n",
    "print(\"Test confusion matrix\")\n",
    "print(confusion_matrix(y_test, neigh.predict(X_test)))"
   ]
  },
  {
   "cell_type": "code",
   "execution_count": 99,
   "metadata": {},
   "outputs": [
    {
     "ename": "KeyboardInterrupt",
     "evalue": "",
     "output_type": "error",
     "traceback": [
      "\u001b[1;31m---------------------------------------------------------------------------\u001b[0m",
      "\u001b[1;31mAttributeError\u001b[0m                            Traceback (most recent call last)",
      "\u001b[1;32mC:\\ProgramData\\Anaconda3\\lib\\site-packages\\sklearn\\metrics\\scorer.py\u001b[0m in \u001b[0;36m__call__\u001b[1;34m(self, clf, X, y, sample_weight)\u001b[0m\n\u001b[0;32m    181\u001b[0m             \u001b[1;32mtry\u001b[0m\u001b[1;33m:\u001b[0m\u001b[1;33m\u001b[0m\u001b[1;33m\u001b[0m\u001b[0m\n\u001b[1;32m--> 182\u001b[1;33m                 \u001b[0my_pred\u001b[0m \u001b[1;33m=\u001b[0m \u001b[0mclf\u001b[0m\u001b[1;33m.\u001b[0m\u001b[0mdecision_function\u001b[0m\u001b[1;33m(\u001b[0m\u001b[0mX\u001b[0m\u001b[1;33m)\u001b[0m\u001b[1;33m\u001b[0m\u001b[1;33m\u001b[0m\u001b[0m\n\u001b[0m\u001b[0;32m    183\u001b[0m \u001b[1;33m\u001b[0m\u001b[0m\n",
      "\u001b[1;31mAttributeError\u001b[0m: 'KNeighborsClassifier' object has no attribute 'decision_function'",
      "\nDuring handling of the above exception, another exception occurred:\n",
      "\u001b[1;31mKeyboardInterrupt\u001b[0m                         Traceback (most recent call last)",
      "\u001b[1;32m<ipython-input-99-9882317b5d47>\u001b[0m in \u001b[0;36m<module>\u001b[1;34m\u001b[0m\n\u001b[0;32m      6\u001b[0m \u001b[0mparameters\u001b[0m \u001b[1;33m=\u001b[0m \u001b[1;33m{\u001b[0m\u001b[1;34m'n_neighbors'\u001b[0m\u001b[1;33m:\u001b[0m\u001b[1;33m[\u001b[0m\u001b[1;36m1\u001b[0m\u001b[1;33m,\u001b[0m \u001b[1;36m5\u001b[0m\u001b[1;33m,\u001b[0m \u001b[1;36m10\u001b[0m\u001b[1;33m,\u001b[0m \u001b[1;36m15\u001b[0m\u001b[1;33m,\u001b[0m \u001b[1;36m21\u001b[0m\u001b[1;33m,\u001b[0m \u001b[1;36m31\u001b[0m\u001b[1;33m,\u001b[0m \u001b[1;36m41\u001b[0m\u001b[1;33m,\u001b[0m \u001b[1;36m51\u001b[0m\u001b[1;33m]\u001b[0m\u001b[1;33m}\u001b[0m\u001b[1;33m\u001b[0m\u001b[1;33m\u001b[0m\u001b[0m\n\u001b[0;32m      7\u001b[0m \u001b[0mclf\u001b[0m \u001b[1;33m=\u001b[0m \u001b[0mGridSearchCV\u001b[0m\u001b[1;33m(\u001b[0m\u001b[0mneigh\u001b[0m\u001b[1;33m,\u001b[0m \u001b[0mparameters\u001b[0m\u001b[1;33m,\u001b[0m \u001b[0mcv\u001b[0m\u001b[1;33m=\u001b[0m\u001b[1;36m3\u001b[0m\u001b[1;33m,\u001b[0m \u001b[0mscoring\u001b[0m\u001b[1;33m=\u001b[0m\u001b[1;34m'roc_auc'\u001b[0m\u001b[1;33m)\u001b[0m\u001b[1;33m\u001b[0m\u001b[1;33m\u001b[0m\u001b[0m\n\u001b[1;32m----> 8\u001b[1;33m \u001b[0mclf\u001b[0m\u001b[1;33m.\u001b[0m\u001b[0mfit\u001b[0m\u001b[1;33m(\u001b[0m\u001b[0mX_train\u001b[0m\u001b[1;33m,\u001b[0m \u001b[0my_train\u001b[0m\u001b[1;33m)\u001b[0m\u001b[1;33m\u001b[0m\u001b[1;33m\u001b[0m\u001b[0m\n\u001b[0m\u001b[0;32m      9\u001b[0m \u001b[1;33m\u001b[0m\u001b[0m\n\u001b[0;32m     10\u001b[0m \u001b[0mtrain_auc\u001b[0m\u001b[1;33m=\u001b[0m \u001b[0mclf\u001b[0m\u001b[1;33m.\u001b[0m\u001b[0mcv_results_\u001b[0m\u001b[1;33m[\u001b[0m\u001b[1;34m'mean_train_score'\u001b[0m\u001b[1;33m]\u001b[0m\u001b[1;33m\u001b[0m\u001b[1;33m\u001b[0m\u001b[0m\n",
      "\u001b[1;32mC:\\ProgramData\\Anaconda3\\lib\\site-packages\\sklearn\\model_selection\\_search.py\u001b[0m in \u001b[0;36mfit\u001b[1;34m(self, X, y, groups, **fit_params)\u001b[0m\n\u001b[0;32m    720\u001b[0m                 \u001b[1;32mreturn\u001b[0m \u001b[0mresults_container\u001b[0m\u001b[1;33m[\u001b[0m\u001b[1;36m0\u001b[0m\u001b[1;33m]\u001b[0m\u001b[1;33m\u001b[0m\u001b[1;33m\u001b[0m\u001b[0m\n\u001b[0;32m    721\u001b[0m \u001b[1;33m\u001b[0m\u001b[0m\n\u001b[1;32m--> 722\u001b[1;33m             \u001b[0mself\u001b[0m\u001b[1;33m.\u001b[0m\u001b[0m_run_search\u001b[0m\u001b[1;33m(\u001b[0m\u001b[0mevaluate_candidates\u001b[0m\u001b[1;33m)\u001b[0m\u001b[1;33m\u001b[0m\u001b[1;33m\u001b[0m\u001b[0m\n\u001b[0m\u001b[0;32m    723\u001b[0m \u001b[1;33m\u001b[0m\u001b[0m\n\u001b[0;32m    724\u001b[0m         \u001b[0mresults\u001b[0m \u001b[1;33m=\u001b[0m \u001b[0mresults_container\u001b[0m\u001b[1;33m[\u001b[0m\u001b[1;36m0\u001b[0m\u001b[1;33m]\u001b[0m\u001b[1;33m\u001b[0m\u001b[1;33m\u001b[0m\u001b[0m\n",
      "\u001b[1;32mC:\\ProgramData\\Anaconda3\\lib\\site-packages\\sklearn\\model_selection\\_search.py\u001b[0m in \u001b[0;36m_run_search\u001b[1;34m(self, evaluate_candidates)\u001b[0m\n\u001b[0;32m   1189\u001b[0m     \u001b[1;32mdef\u001b[0m \u001b[0m_run_search\u001b[0m\u001b[1;33m(\u001b[0m\u001b[0mself\u001b[0m\u001b[1;33m,\u001b[0m \u001b[0mevaluate_candidates\u001b[0m\u001b[1;33m)\u001b[0m\u001b[1;33m:\u001b[0m\u001b[1;33m\u001b[0m\u001b[1;33m\u001b[0m\u001b[0m\n\u001b[0;32m   1190\u001b[0m         \u001b[1;34m\"\"\"Search all candidates in param_grid\"\"\"\u001b[0m\u001b[1;33m\u001b[0m\u001b[1;33m\u001b[0m\u001b[0m\n\u001b[1;32m-> 1191\u001b[1;33m         \u001b[0mevaluate_candidates\u001b[0m\u001b[1;33m(\u001b[0m\u001b[0mParameterGrid\u001b[0m\u001b[1;33m(\u001b[0m\u001b[0mself\u001b[0m\u001b[1;33m.\u001b[0m\u001b[0mparam_grid\u001b[0m\u001b[1;33m)\u001b[0m\u001b[1;33m)\u001b[0m\u001b[1;33m\u001b[0m\u001b[1;33m\u001b[0m\u001b[0m\n\u001b[0m\u001b[0;32m   1192\u001b[0m \u001b[1;33m\u001b[0m\u001b[0m\n\u001b[0;32m   1193\u001b[0m \u001b[1;33m\u001b[0m\u001b[0m\n",
      "\u001b[1;32mC:\\ProgramData\\Anaconda3\\lib\\site-packages\\sklearn\\model_selection\\_search.py\u001b[0m in \u001b[0;36mevaluate_candidates\u001b[1;34m(candidate_params)\u001b[0m\n\u001b[0;32m    709\u001b[0m                                \u001b[1;32mfor\u001b[0m \u001b[0mparameters\u001b[0m\u001b[1;33m,\u001b[0m \u001b[1;33m(\u001b[0m\u001b[0mtrain\u001b[0m\u001b[1;33m,\u001b[0m \u001b[0mtest\u001b[0m\u001b[1;33m)\u001b[0m\u001b[1;33m\u001b[0m\u001b[1;33m\u001b[0m\u001b[0m\n\u001b[0;32m    710\u001b[0m                                in product(candidate_params,\n\u001b[1;32m--> 711\u001b[1;33m                                           cv.split(X, y, groups)))\n\u001b[0m\u001b[0;32m    712\u001b[0m \u001b[1;33m\u001b[0m\u001b[0m\n\u001b[0;32m    713\u001b[0m                 \u001b[0mall_candidate_params\u001b[0m\u001b[1;33m.\u001b[0m\u001b[0mextend\u001b[0m\u001b[1;33m(\u001b[0m\u001b[0mcandidate_params\u001b[0m\u001b[1;33m)\u001b[0m\u001b[1;33m\u001b[0m\u001b[1;33m\u001b[0m\u001b[0m\n",
      "\u001b[1;32mC:\\ProgramData\\Anaconda3\\lib\\site-packages\\sklearn\\externals\\joblib\\parallel.py\u001b[0m in \u001b[0;36m__call__\u001b[1;34m(self, iterable)\u001b[0m\n\u001b[0;32m    918\u001b[0m                 \u001b[0mself\u001b[0m\u001b[1;33m.\u001b[0m\u001b[0m_iterating\u001b[0m \u001b[1;33m=\u001b[0m \u001b[0mself\u001b[0m\u001b[1;33m.\u001b[0m\u001b[0m_original_iterator\u001b[0m \u001b[1;32mis\u001b[0m \u001b[1;32mnot\u001b[0m \u001b[1;32mNone\u001b[0m\u001b[1;33m\u001b[0m\u001b[1;33m\u001b[0m\u001b[0m\n\u001b[0;32m    919\u001b[0m \u001b[1;33m\u001b[0m\u001b[0m\n\u001b[1;32m--> 920\u001b[1;33m             \u001b[1;32mwhile\u001b[0m \u001b[0mself\u001b[0m\u001b[1;33m.\u001b[0m\u001b[0mdispatch_one_batch\u001b[0m\u001b[1;33m(\u001b[0m\u001b[0miterator\u001b[0m\u001b[1;33m)\u001b[0m\u001b[1;33m:\u001b[0m\u001b[1;33m\u001b[0m\u001b[1;33m\u001b[0m\u001b[0m\n\u001b[0m\u001b[0;32m    921\u001b[0m                 \u001b[1;32mpass\u001b[0m\u001b[1;33m\u001b[0m\u001b[1;33m\u001b[0m\u001b[0m\n\u001b[0;32m    922\u001b[0m \u001b[1;33m\u001b[0m\u001b[0m\n",
      "\u001b[1;32mC:\\ProgramData\\Anaconda3\\lib\\site-packages\\sklearn\\externals\\joblib\\parallel.py\u001b[0m in \u001b[0;36mdispatch_one_batch\u001b[1;34m(self, iterator)\u001b[0m\n\u001b[0;32m    757\u001b[0m                 \u001b[1;32mreturn\u001b[0m \u001b[1;32mFalse\u001b[0m\u001b[1;33m\u001b[0m\u001b[1;33m\u001b[0m\u001b[0m\n\u001b[0;32m    758\u001b[0m             \u001b[1;32melse\u001b[0m\u001b[1;33m:\u001b[0m\u001b[1;33m\u001b[0m\u001b[1;33m\u001b[0m\u001b[0m\n\u001b[1;32m--> 759\u001b[1;33m                 \u001b[0mself\u001b[0m\u001b[1;33m.\u001b[0m\u001b[0m_dispatch\u001b[0m\u001b[1;33m(\u001b[0m\u001b[0mtasks\u001b[0m\u001b[1;33m)\u001b[0m\u001b[1;33m\u001b[0m\u001b[1;33m\u001b[0m\u001b[0m\n\u001b[0m\u001b[0;32m    760\u001b[0m                 \u001b[1;32mreturn\u001b[0m \u001b[1;32mTrue\u001b[0m\u001b[1;33m\u001b[0m\u001b[1;33m\u001b[0m\u001b[0m\n\u001b[0;32m    761\u001b[0m \u001b[1;33m\u001b[0m\u001b[0m\n",
      "\u001b[1;32mC:\\ProgramData\\Anaconda3\\lib\\site-packages\\sklearn\\externals\\joblib\\parallel.py\u001b[0m in \u001b[0;36m_dispatch\u001b[1;34m(self, batch)\u001b[0m\n\u001b[0;32m    714\u001b[0m         \u001b[1;32mwith\u001b[0m \u001b[0mself\u001b[0m\u001b[1;33m.\u001b[0m\u001b[0m_lock\u001b[0m\u001b[1;33m:\u001b[0m\u001b[1;33m\u001b[0m\u001b[1;33m\u001b[0m\u001b[0m\n\u001b[0;32m    715\u001b[0m             \u001b[0mjob_idx\u001b[0m \u001b[1;33m=\u001b[0m \u001b[0mlen\u001b[0m\u001b[1;33m(\u001b[0m\u001b[0mself\u001b[0m\u001b[1;33m.\u001b[0m\u001b[0m_jobs\u001b[0m\u001b[1;33m)\u001b[0m\u001b[1;33m\u001b[0m\u001b[1;33m\u001b[0m\u001b[0m\n\u001b[1;32m--> 716\u001b[1;33m             \u001b[0mjob\u001b[0m \u001b[1;33m=\u001b[0m \u001b[0mself\u001b[0m\u001b[1;33m.\u001b[0m\u001b[0m_backend\u001b[0m\u001b[1;33m.\u001b[0m\u001b[0mapply_async\u001b[0m\u001b[1;33m(\u001b[0m\u001b[0mbatch\u001b[0m\u001b[1;33m,\u001b[0m \u001b[0mcallback\u001b[0m\u001b[1;33m=\u001b[0m\u001b[0mcb\u001b[0m\u001b[1;33m)\u001b[0m\u001b[1;33m\u001b[0m\u001b[1;33m\u001b[0m\u001b[0m\n\u001b[0m\u001b[0;32m    717\u001b[0m             \u001b[1;31m# A job can complete so quickly than its callback is\u001b[0m\u001b[1;33m\u001b[0m\u001b[1;33m\u001b[0m\u001b[1;33m\u001b[0m\u001b[0m\n\u001b[0;32m    718\u001b[0m             \u001b[1;31m# called before we get here, causing self._jobs to\u001b[0m\u001b[1;33m\u001b[0m\u001b[1;33m\u001b[0m\u001b[1;33m\u001b[0m\u001b[0m\n",
      "\u001b[1;32mC:\\ProgramData\\Anaconda3\\lib\\site-packages\\sklearn\\externals\\joblib\\_parallel_backends.py\u001b[0m in \u001b[0;36mapply_async\u001b[1;34m(self, func, callback)\u001b[0m\n\u001b[0;32m    180\u001b[0m     \u001b[1;32mdef\u001b[0m \u001b[0mapply_async\u001b[0m\u001b[1;33m(\u001b[0m\u001b[0mself\u001b[0m\u001b[1;33m,\u001b[0m \u001b[0mfunc\u001b[0m\u001b[1;33m,\u001b[0m \u001b[0mcallback\u001b[0m\u001b[1;33m=\u001b[0m\u001b[1;32mNone\u001b[0m\u001b[1;33m)\u001b[0m\u001b[1;33m:\u001b[0m\u001b[1;33m\u001b[0m\u001b[1;33m\u001b[0m\u001b[0m\n\u001b[0;32m    181\u001b[0m         \u001b[1;34m\"\"\"Schedule a func to be run\"\"\"\u001b[0m\u001b[1;33m\u001b[0m\u001b[1;33m\u001b[0m\u001b[0m\n\u001b[1;32m--> 182\u001b[1;33m         \u001b[0mresult\u001b[0m \u001b[1;33m=\u001b[0m \u001b[0mImmediateResult\u001b[0m\u001b[1;33m(\u001b[0m\u001b[0mfunc\u001b[0m\u001b[1;33m)\u001b[0m\u001b[1;33m\u001b[0m\u001b[1;33m\u001b[0m\u001b[0m\n\u001b[0m\u001b[0;32m    183\u001b[0m         \u001b[1;32mif\u001b[0m \u001b[0mcallback\u001b[0m\u001b[1;33m:\u001b[0m\u001b[1;33m\u001b[0m\u001b[1;33m\u001b[0m\u001b[0m\n\u001b[0;32m    184\u001b[0m             \u001b[0mcallback\u001b[0m\u001b[1;33m(\u001b[0m\u001b[0mresult\u001b[0m\u001b[1;33m)\u001b[0m\u001b[1;33m\u001b[0m\u001b[1;33m\u001b[0m\u001b[0m\n",
      "\u001b[1;32mC:\\ProgramData\\Anaconda3\\lib\\site-packages\\sklearn\\externals\\joblib\\_parallel_backends.py\u001b[0m in \u001b[0;36m__init__\u001b[1;34m(self, batch)\u001b[0m\n\u001b[0;32m    547\u001b[0m         \u001b[1;31m# Don't delay the application, to avoid keeping the input\u001b[0m\u001b[1;33m\u001b[0m\u001b[1;33m\u001b[0m\u001b[1;33m\u001b[0m\u001b[0m\n\u001b[0;32m    548\u001b[0m         \u001b[1;31m# arguments in memory\u001b[0m\u001b[1;33m\u001b[0m\u001b[1;33m\u001b[0m\u001b[1;33m\u001b[0m\u001b[0m\n\u001b[1;32m--> 549\u001b[1;33m         \u001b[0mself\u001b[0m\u001b[1;33m.\u001b[0m\u001b[0mresults\u001b[0m \u001b[1;33m=\u001b[0m \u001b[0mbatch\u001b[0m\u001b[1;33m(\u001b[0m\u001b[1;33m)\u001b[0m\u001b[1;33m\u001b[0m\u001b[1;33m\u001b[0m\u001b[0m\n\u001b[0m\u001b[0;32m    550\u001b[0m \u001b[1;33m\u001b[0m\u001b[0m\n\u001b[0;32m    551\u001b[0m     \u001b[1;32mdef\u001b[0m \u001b[0mget\u001b[0m\u001b[1;33m(\u001b[0m\u001b[0mself\u001b[0m\u001b[1;33m)\u001b[0m\u001b[1;33m:\u001b[0m\u001b[1;33m\u001b[0m\u001b[1;33m\u001b[0m\u001b[0m\n",
      "\u001b[1;32mC:\\ProgramData\\Anaconda3\\lib\\site-packages\\sklearn\\externals\\joblib\\parallel.py\u001b[0m in \u001b[0;36m__call__\u001b[1;34m(self)\u001b[0m\n\u001b[0;32m    223\u001b[0m         \u001b[1;32mwith\u001b[0m \u001b[0mparallel_backend\u001b[0m\u001b[1;33m(\u001b[0m\u001b[0mself\u001b[0m\u001b[1;33m.\u001b[0m\u001b[0m_backend\u001b[0m\u001b[1;33m,\u001b[0m \u001b[0mn_jobs\u001b[0m\u001b[1;33m=\u001b[0m\u001b[0mself\u001b[0m\u001b[1;33m.\u001b[0m\u001b[0m_n_jobs\u001b[0m\u001b[1;33m)\u001b[0m\u001b[1;33m:\u001b[0m\u001b[1;33m\u001b[0m\u001b[1;33m\u001b[0m\u001b[0m\n\u001b[0;32m    224\u001b[0m             return [func(*args, **kwargs)\n\u001b[1;32m--> 225\u001b[1;33m                     for func, args, kwargs in self.items]\n\u001b[0m\u001b[0;32m    226\u001b[0m \u001b[1;33m\u001b[0m\u001b[0m\n\u001b[0;32m    227\u001b[0m     \u001b[1;32mdef\u001b[0m \u001b[0m__len__\u001b[0m\u001b[1;33m(\u001b[0m\u001b[0mself\u001b[0m\u001b[1;33m)\u001b[0m\u001b[1;33m:\u001b[0m\u001b[1;33m\u001b[0m\u001b[1;33m\u001b[0m\u001b[0m\n",
      "\u001b[1;32mC:\\ProgramData\\Anaconda3\\lib\\site-packages\\sklearn\\externals\\joblib\\parallel.py\u001b[0m in \u001b[0;36m<listcomp>\u001b[1;34m(.0)\u001b[0m\n\u001b[0;32m    223\u001b[0m         \u001b[1;32mwith\u001b[0m \u001b[0mparallel_backend\u001b[0m\u001b[1;33m(\u001b[0m\u001b[0mself\u001b[0m\u001b[1;33m.\u001b[0m\u001b[0m_backend\u001b[0m\u001b[1;33m,\u001b[0m \u001b[0mn_jobs\u001b[0m\u001b[1;33m=\u001b[0m\u001b[0mself\u001b[0m\u001b[1;33m.\u001b[0m\u001b[0m_n_jobs\u001b[0m\u001b[1;33m)\u001b[0m\u001b[1;33m:\u001b[0m\u001b[1;33m\u001b[0m\u001b[1;33m\u001b[0m\u001b[0m\n\u001b[0;32m    224\u001b[0m             return [func(*args, **kwargs)\n\u001b[1;32m--> 225\u001b[1;33m                     for func, args, kwargs in self.items]\n\u001b[0m\u001b[0;32m    226\u001b[0m \u001b[1;33m\u001b[0m\u001b[0m\n\u001b[0;32m    227\u001b[0m     \u001b[1;32mdef\u001b[0m \u001b[0m__len__\u001b[0m\u001b[1;33m(\u001b[0m\u001b[0mself\u001b[0m\u001b[1;33m)\u001b[0m\u001b[1;33m:\u001b[0m\u001b[1;33m\u001b[0m\u001b[1;33m\u001b[0m\u001b[0m\n",
      "\u001b[1;32mC:\\ProgramData\\Anaconda3\\lib\\site-packages\\sklearn\\model_selection\\_validation.py\u001b[0m in \u001b[0;36m_fit_and_score\u001b[1;34m(estimator, X, y, scorer, train, test, verbose, parameters, fit_params, return_train_score, return_parameters, return_n_test_samples, return_times, return_estimator, error_score)\u001b[0m\n\u001b[0;32m    570\u001b[0m         \u001b[1;32mif\u001b[0m \u001b[0mreturn_train_score\u001b[0m\u001b[1;33m:\u001b[0m\u001b[1;33m\u001b[0m\u001b[1;33m\u001b[0m\u001b[0m\n\u001b[0;32m    571\u001b[0m             train_scores = _score(estimator, X_train, y_train, scorer,\n\u001b[1;32m--> 572\u001b[1;33m                                   is_multimetric)\n\u001b[0m\u001b[0;32m    573\u001b[0m \u001b[1;33m\u001b[0m\u001b[0m\n\u001b[0;32m    574\u001b[0m     \u001b[1;32mif\u001b[0m \u001b[0mverbose\u001b[0m \u001b[1;33m>\u001b[0m \u001b[1;36m2\u001b[0m\u001b[1;33m:\u001b[0m\u001b[1;33m\u001b[0m\u001b[1;33m\u001b[0m\u001b[0m\n",
      "\u001b[1;32mC:\\ProgramData\\Anaconda3\\lib\\site-packages\\sklearn\\model_selection\\_validation.py\u001b[0m in \u001b[0;36m_score\u001b[1;34m(estimator, X_test, y_test, scorer, is_multimetric)\u001b[0m\n\u001b[0;32m    603\u001b[0m     \"\"\"\n\u001b[0;32m    604\u001b[0m     \u001b[1;32mif\u001b[0m \u001b[0mis_multimetric\u001b[0m\u001b[1;33m:\u001b[0m\u001b[1;33m\u001b[0m\u001b[1;33m\u001b[0m\u001b[0m\n\u001b[1;32m--> 605\u001b[1;33m         \u001b[1;32mreturn\u001b[0m \u001b[0m_multimetric_score\u001b[0m\u001b[1;33m(\u001b[0m\u001b[0mestimator\u001b[0m\u001b[1;33m,\u001b[0m \u001b[0mX_test\u001b[0m\u001b[1;33m,\u001b[0m \u001b[0my_test\u001b[0m\u001b[1;33m,\u001b[0m \u001b[0mscorer\u001b[0m\u001b[1;33m)\u001b[0m\u001b[1;33m\u001b[0m\u001b[1;33m\u001b[0m\u001b[0m\n\u001b[0m\u001b[0;32m    606\u001b[0m     \u001b[1;32melse\u001b[0m\u001b[1;33m:\u001b[0m\u001b[1;33m\u001b[0m\u001b[1;33m\u001b[0m\u001b[0m\n\u001b[0;32m    607\u001b[0m         \u001b[1;32mif\u001b[0m \u001b[0my_test\u001b[0m \u001b[1;32mis\u001b[0m \u001b[1;32mNone\u001b[0m\u001b[1;33m:\u001b[0m\u001b[1;33m\u001b[0m\u001b[1;33m\u001b[0m\u001b[0m\n",
      "\u001b[1;32mC:\\ProgramData\\Anaconda3\\lib\\site-packages\\sklearn\\model_selection\\_validation.py\u001b[0m in \u001b[0;36m_multimetric_score\u001b[1;34m(estimator, X_test, y_test, scorers)\u001b[0m\n\u001b[0;32m    633\u001b[0m             \u001b[0mscore\u001b[0m \u001b[1;33m=\u001b[0m \u001b[0mscorer\u001b[0m\u001b[1;33m(\u001b[0m\u001b[0mestimator\u001b[0m\u001b[1;33m,\u001b[0m \u001b[0mX_test\u001b[0m\u001b[1;33m)\u001b[0m\u001b[1;33m\u001b[0m\u001b[1;33m\u001b[0m\u001b[0m\n\u001b[0;32m    634\u001b[0m         \u001b[1;32melse\u001b[0m\u001b[1;33m:\u001b[0m\u001b[1;33m\u001b[0m\u001b[1;33m\u001b[0m\u001b[0m\n\u001b[1;32m--> 635\u001b[1;33m             \u001b[0mscore\u001b[0m \u001b[1;33m=\u001b[0m \u001b[0mscorer\u001b[0m\u001b[1;33m(\u001b[0m\u001b[0mestimator\u001b[0m\u001b[1;33m,\u001b[0m \u001b[0mX_test\u001b[0m\u001b[1;33m,\u001b[0m \u001b[0my_test\u001b[0m\u001b[1;33m)\u001b[0m\u001b[1;33m\u001b[0m\u001b[1;33m\u001b[0m\u001b[0m\n\u001b[0m\u001b[0;32m    636\u001b[0m \u001b[1;33m\u001b[0m\u001b[0m\n\u001b[0;32m    637\u001b[0m         \u001b[1;32mif\u001b[0m \u001b[0mhasattr\u001b[0m\u001b[1;33m(\u001b[0m\u001b[0mscore\u001b[0m\u001b[1;33m,\u001b[0m \u001b[1;34m'item'\u001b[0m\u001b[1;33m)\u001b[0m\u001b[1;33m:\u001b[0m\u001b[1;33m\u001b[0m\u001b[1;33m\u001b[0m\u001b[0m\n",
      "\u001b[1;32mC:\\ProgramData\\Anaconda3\\lib\\site-packages\\sklearn\\metrics\\scorer.py\u001b[0m in \u001b[0;36m__call__\u001b[1;34m(self, clf, X, y, sample_weight)\u001b[0m\n\u001b[0;32m    187\u001b[0m \u001b[1;33m\u001b[0m\u001b[0m\n\u001b[0;32m    188\u001b[0m             \u001b[1;32mexcept\u001b[0m \u001b[1;33m(\u001b[0m\u001b[0mNotImplementedError\u001b[0m\u001b[1;33m,\u001b[0m \u001b[0mAttributeError\u001b[0m\u001b[1;33m)\u001b[0m\u001b[1;33m:\u001b[0m\u001b[1;33m\u001b[0m\u001b[1;33m\u001b[0m\u001b[0m\n\u001b[1;32m--> 189\u001b[1;33m                 \u001b[0my_pred\u001b[0m \u001b[1;33m=\u001b[0m \u001b[0mclf\u001b[0m\u001b[1;33m.\u001b[0m\u001b[0mpredict_proba\u001b[0m\u001b[1;33m(\u001b[0m\u001b[0mX\u001b[0m\u001b[1;33m)\u001b[0m\u001b[1;33m\u001b[0m\u001b[1;33m\u001b[0m\u001b[0m\n\u001b[0m\u001b[0;32m    190\u001b[0m \u001b[1;33m\u001b[0m\u001b[0m\n\u001b[0;32m    191\u001b[0m                 \u001b[1;32mif\u001b[0m \u001b[0my_type\u001b[0m \u001b[1;33m==\u001b[0m \u001b[1;34m\"binary\"\u001b[0m\u001b[1;33m:\u001b[0m\u001b[1;33m\u001b[0m\u001b[1;33m\u001b[0m\u001b[0m\n",
      "\u001b[1;32mC:\\ProgramData\\Anaconda3\\lib\\site-packages\\sklearn\\neighbors\\classification.py\u001b[0m in \u001b[0;36mpredict_proba\u001b[1;34m(self, X)\u001b[0m\n\u001b[0;32m    191\u001b[0m         \u001b[0mX\u001b[0m \u001b[1;33m=\u001b[0m \u001b[0mcheck_array\u001b[0m\u001b[1;33m(\u001b[0m\u001b[0mX\u001b[0m\u001b[1;33m,\u001b[0m \u001b[0maccept_sparse\u001b[0m\u001b[1;33m=\u001b[0m\u001b[1;34m'csr'\u001b[0m\u001b[1;33m)\u001b[0m\u001b[1;33m\u001b[0m\u001b[1;33m\u001b[0m\u001b[0m\n\u001b[0;32m    192\u001b[0m \u001b[1;33m\u001b[0m\u001b[0m\n\u001b[1;32m--> 193\u001b[1;33m         \u001b[0mneigh_dist\u001b[0m\u001b[1;33m,\u001b[0m \u001b[0mneigh_ind\u001b[0m \u001b[1;33m=\u001b[0m \u001b[0mself\u001b[0m\u001b[1;33m.\u001b[0m\u001b[0mkneighbors\u001b[0m\u001b[1;33m(\u001b[0m\u001b[0mX\u001b[0m\u001b[1;33m)\u001b[0m\u001b[1;33m\u001b[0m\u001b[1;33m\u001b[0m\u001b[0m\n\u001b[0m\u001b[0;32m    194\u001b[0m \u001b[1;33m\u001b[0m\u001b[0m\n\u001b[0;32m    195\u001b[0m         \u001b[0mclasses_\u001b[0m \u001b[1;33m=\u001b[0m \u001b[0mself\u001b[0m\u001b[1;33m.\u001b[0m\u001b[0mclasses_\u001b[0m\u001b[1;33m\u001b[0m\u001b[1;33m\u001b[0m\u001b[0m\n",
      "\u001b[1;32mC:\\ProgramData\\Anaconda3\\lib\\site-packages\\sklearn\\neighbors\\base.py\u001b[0m in \u001b[0;36mkneighbors\u001b[1;34m(self, X, n_neighbors, return_distance)\u001b[0m\n\u001b[0;32m    433\u001b[0m                 \u001b[0mX\u001b[0m\u001b[1;33m,\u001b[0m \u001b[0mself\u001b[0m\u001b[1;33m.\u001b[0m\u001b[0m_fit_X\u001b[0m\u001b[1;33m,\u001b[0m \u001b[0mreduce_func\u001b[0m\u001b[1;33m=\u001b[0m\u001b[0mreduce_func\u001b[0m\u001b[1;33m,\u001b[0m\u001b[1;33m\u001b[0m\u001b[1;33m\u001b[0m\u001b[0m\n\u001b[0;32m    434\u001b[0m                 \u001b[0mmetric\u001b[0m\u001b[1;33m=\u001b[0m\u001b[0mself\u001b[0m\u001b[1;33m.\u001b[0m\u001b[0meffective_metric_\u001b[0m\u001b[1;33m,\u001b[0m \u001b[0mn_jobs\u001b[0m\u001b[1;33m=\u001b[0m\u001b[0mn_jobs\u001b[0m\u001b[1;33m,\u001b[0m\u001b[1;33m\u001b[0m\u001b[1;33m\u001b[0m\u001b[0m\n\u001b[1;32m--> 435\u001b[1;33m                 **kwds))\n\u001b[0m\u001b[0;32m    436\u001b[0m \u001b[1;33m\u001b[0m\u001b[0m\n\u001b[0;32m    437\u001b[0m         \u001b[1;32melif\u001b[0m \u001b[0mself\u001b[0m\u001b[1;33m.\u001b[0m\u001b[0m_fit_method\u001b[0m \u001b[1;32min\u001b[0m \u001b[1;33m[\u001b[0m\u001b[1;34m'ball_tree'\u001b[0m\u001b[1;33m,\u001b[0m \u001b[1;34m'kd_tree'\u001b[0m\u001b[1;33m]\u001b[0m\u001b[1;33m:\u001b[0m\u001b[1;33m\u001b[0m\u001b[1;33m\u001b[0m\u001b[0m\n",
      "\u001b[1;32mC:\\ProgramData\\Anaconda3\\lib\\site-packages\\sklearn\\metrics\\pairwise.py\u001b[0m in \u001b[0;36mpairwise_distances_chunked\u001b[1;34m(X, Y, reduce_func, metric, n_jobs, working_memory, **kwds)\u001b[0m\n\u001b[0;32m   1300\u001b[0m             \u001b[0mX_chunk\u001b[0m \u001b[1;33m=\u001b[0m \u001b[0mX\u001b[0m\u001b[1;33m[\u001b[0m\u001b[0msl\u001b[0m\u001b[1;33m]\u001b[0m\u001b[1;33m\u001b[0m\u001b[1;33m\u001b[0m\u001b[0m\n\u001b[0;32m   1301\u001b[0m         D_chunk = pairwise_distances(X_chunk, Y, metric=metric,\n\u001b[1;32m-> 1302\u001b[1;33m                                      n_jobs=n_jobs, **kwds)\n\u001b[0m\u001b[0;32m   1303\u001b[0m         if ((X is Y or Y is None)\n\u001b[0;32m   1304\u001b[0m                 \u001b[1;32mand\u001b[0m \u001b[0mPAIRWISE_DISTANCE_FUNCTIONS\u001b[0m\u001b[1;33m.\u001b[0m\u001b[0mget\u001b[0m\u001b[1;33m(\u001b[0m\u001b[0mmetric\u001b[0m\u001b[1;33m,\u001b[0m \u001b[1;32mNone\u001b[0m\u001b[1;33m)\u001b[0m\u001b[1;33m\u001b[0m\u001b[1;33m\u001b[0m\u001b[0m\n",
      "\u001b[1;32mC:\\ProgramData\\Anaconda3\\lib\\site-packages\\sklearn\\metrics\\pairwise.py\u001b[0m in \u001b[0;36mpairwise_distances\u001b[1;34m(X, Y, metric, n_jobs, **kwds)\u001b[0m\n\u001b[0;32m   1430\u001b[0m         \u001b[0mfunc\u001b[0m \u001b[1;33m=\u001b[0m \u001b[0mpartial\u001b[0m\u001b[1;33m(\u001b[0m\u001b[0mdistance\u001b[0m\u001b[1;33m.\u001b[0m\u001b[0mcdist\u001b[0m\u001b[1;33m,\u001b[0m \u001b[0mmetric\u001b[0m\u001b[1;33m=\u001b[0m\u001b[0mmetric\u001b[0m\u001b[1;33m,\u001b[0m \u001b[1;33m**\u001b[0m\u001b[0mkwds\u001b[0m\u001b[1;33m)\u001b[0m\u001b[1;33m\u001b[0m\u001b[1;33m\u001b[0m\u001b[0m\n\u001b[0;32m   1431\u001b[0m \u001b[1;33m\u001b[0m\u001b[0m\n\u001b[1;32m-> 1432\u001b[1;33m     \u001b[1;32mreturn\u001b[0m \u001b[0m_parallel_pairwise\u001b[0m\u001b[1;33m(\u001b[0m\u001b[0mX\u001b[0m\u001b[1;33m,\u001b[0m \u001b[0mY\u001b[0m\u001b[1;33m,\u001b[0m \u001b[0mfunc\u001b[0m\u001b[1;33m,\u001b[0m \u001b[0mn_jobs\u001b[0m\u001b[1;33m,\u001b[0m \u001b[1;33m**\u001b[0m\u001b[0mkwds\u001b[0m\u001b[1;33m)\u001b[0m\u001b[1;33m\u001b[0m\u001b[1;33m\u001b[0m\u001b[0m\n\u001b[0m\u001b[0;32m   1433\u001b[0m \u001b[1;33m\u001b[0m\u001b[0m\n\u001b[0;32m   1434\u001b[0m \u001b[1;33m\u001b[0m\u001b[0m\n",
      "\u001b[1;32mC:\\ProgramData\\Anaconda3\\lib\\site-packages\\sklearn\\metrics\\pairwise.py\u001b[0m in \u001b[0;36m_parallel_pairwise\u001b[1;34m(X, Y, func, n_jobs, **kwds)\u001b[0m\n\u001b[0;32m   1065\u001b[0m \u001b[1;33m\u001b[0m\u001b[0m\n\u001b[0;32m   1066\u001b[0m     \u001b[1;32mif\u001b[0m \u001b[0meffective_n_jobs\u001b[0m\u001b[1;33m(\u001b[0m\u001b[0mn_jobs\u001b[0m\u001b[1;33m)\u001b[0m \u001b[1;33m==\u001b[0m \u001b[1;36m1\u001b[0m\u001b[1;33m:\u001b[0m\u001b[1;33m\u001b[0m\u001b[1;33m\u001b[0m\u001b[0m\n\u001b[1;32m-> 1067\u001b[1;33m         \u001b[1;32mreturn\u001b[0m \u001b[0mfunc\u001b[0m\u001b[1;33m(\u001b[0m\u001b[0mX\u001b[0m\u001b[1;33m,\u001b[0m \u001b[0mY\u001b[0m\u001b[1;33m,\u001b[0m \u001b[1;33m**\u001b[0m\u001b[0mkwds\u001b[0m\u001b[1;33m)\u001b[0m\u001b[1;33m\u001b[0m\u001b[1;33m\u001b[0m\u001b[0m\n\u001b[0m\u001b[0;32m   1068\u001b[0m \u001b[1;33m\u001b[0m\u001b[0m\n\u001b[0;32m   1069\u001b[0m     \u001b[1;31m# TODO: in some cases, backend='threading' may be appropriate\u001b[0m\u001b[1;33m\u001b[0m\u001b[1;33m\u001b[0m\u001b[1;33m\u001b[0m\u001b[0m\n",
      "\u001b[1;32mC:\\ProgramData\\Anaconda3\\lib\\site-packages\\sklearn\\metrics\\pairwise.py\u001b[0m in \u001b[0;36meuclidean_distances\u001b[1;34m(X, Y, Y_norm_squared, squared, X_norm_squared)\u001b[0m\n\u001b[0;32m    245\u001b[0m         \u001b[0mYY\u001b[0m \u001b[1;33m=\u001b[0m \u001b[0mrow_norms\u001b[0m\u001b[1;33m(\u001b[0m\u001b[0mY\u001b[0m\u001b[1;33m,\u001b[0m \u001b[0msquared\u001b[0m\u001b[1;33m=\u001b[0m\u001b[1;32mTrue\u001b[0m\u001b[1;33m)\u001b[0m\u001b[1;33m[\u001b[0m\u001b[0mnp\u001b[0m\u001b[1;33m.\u001b[0m\u001b[0mnewaxis\u001b[0m\u001b[1;33m,\u001b[0m \u001b[1;33m:\u001b[0m\u001b[1;33m]\u001b[0m\u001b[1;33m\u001b[0m\u001b[1;33m\u001b[0m\u001b[0m\n\u001b[0;32m    246\u001b[0m \u001b[1;33m\u001b[0m\u001b[0m\n\u001b[1;32m--> 247\u001b[1;33m     \u001b[0mdistances\u001b[0m \u001b[1;33m=\u001b[0m \u001b[0msafe_sparse_dot\u001b[0m\u001b[1;33m(\u001b[0m\u001b[0mX\u001b[0m\u001b[1;33m,\u001b[0m \u001b[0mY\u001b[0m\u001b[1;33m.\u001b[0m\u001b[0mT\u001b[0m\u001b[1;33m,\u001b[0m \u001b[0mdense_output\u001b[0m\u001b[1;33m=\u001b[0m\u001b[1;32mTrue\u001b[0m\u001b[1;33m)\u001b[0m\u001b[1;33m\u001b[0m\u001b[1;33m\u001b[0m\u001b[0m\n\u001b[0m\u001b[0;32m    248\u001b[0m     \u001b[0mdistances\u001b[0m \u001b[1;33m*=\u001b[0m \u001b[1;33m-\u001b[0m\u001b[1;36m2\u001b[0m\u001b[1;33m\u001b[0m\u001b[1;33m\u001b[0m\u001b[0m\n\u001b[0;32m    249\u001b[0m     \u001b[0mdistances\u001b[0m \u001b[1;33m+=\u001b[0m \u001b[0mXX\u001b[0m\u001b[1;33m\u001b[0m\u001b[1;33m\u001b[0m\u001b[0m\n",
      "\u001b[1;32mC:\\ProgramData\\Anaconda3\\lib\\site-packages\\sklearn\\utils\\extmath.py\u001b[0m in \u001b[0;36msafe_sparse_dot\u001b[1;34m(a, b, dense_output)\u001b[0m\n\u001b[0;32m    166\u001b[0m     \"\"\"\n\u001b[0;32m    167\u001b[0m     \u001b[1;32mif\u001b[0m \u001b[0msparse\u001b[0m\u001b[1;33m.\u001b[0m\u001b[0missparse\u001b[0m\u001b[1;33m(\u001b[0m\u001b[0ma\u001b[0m\u001b[1;33m)\u001b[0m \u001b[1;32mor\u001b[0m \u001b[0msparse\u001b[0m\u001b[1;33m.\u001b[0m\u001b[0missparse\u001b[0m\u001b[1;33m(\u001b[0m\u001b[0mb\u001b[0m\u001b[1;33m)\u001b[0m\u001b[1;33m:\u001b[0m\u001b[1;33m\u001b[0m\u001b[1;33m\u001b[0m\u001b[0m\n\u001b[1;32m--> 168\u001b[1;33m         \u001b[0mret\u001b[0m \u001b[1;33m=\u001b[0m \u001b[0ma\u001b[0m \u001b[1;33m*\u001b[0m \u001b[0mb\u001b[0m\u001b[1;33m\u001b[0m\u001b[1;33m\u001b[0m\u001b[0m\n\u001b[0m\u001b[0;32m    169\u001b[0m         \u001b[1;32mif\u001b[0m \u001b[0mdense_output\u001b[0m \u001b[1;32mand\u001b[0m \u001b[0mhasattr\u001b[0m\u001b[1;33m(\u001b[0m\u001b[0mret\u001b[0m\u001b[1;33m,\u001b[0m \u001b[1;34m\"toarray\"\u001b[0m\u001b[1;33m)\u001b[0m\u001b[1;33m:\u001b[0m\u001b[1;33m\u001b[0m\u001b[1;33m\u001b[0m\u001b[0m\n\u001b[0;32m    170\u001b[0m             \u001b[0mret\u001b[0m \u001b[1;33m=\u001b[0m \u001b[0mret\u001b[0m\u001b[1;33m.\u001b[0m\u001b[0mtoarray\u001b[0m\u001b[1;33m(\u001b[0m\u001b[1;33m)\u001b[0m\u001b[1;33m\u001b[0m\u001b[1;33m\u001b[0m\u001b[0m\n",
      "\u001b[1;32mC:\\ProgramData\\Anaconda3\\lib\\site-packages\\scipy\\sparse\\base.py\u001b[0m in \u001b[0;36m__mul__\u001b[1;34m(self, other)\u001b[0m\n\u001b[0;32m    480\u001b[0m             \u001b[1;32mif\u001b[0m \u001b[0mself\u001b[0m\u001b[1;33m.\u001b[0m\u001b[0mshape\u001b[0m\u001b[1;33m[\u001b[0m\u001b[1;36m1\u001b[0m\u001b[1;33m]\u001b[0m \u001b[1;33m!=\u001b[0m \u001b[0mother\u001b[0m\u001b[1;33m.\u001b[0m\u001b[0mshape\u001b[0m\u001b[1;33m[\u001b[0m\u001b[1;36m0\u001b[0m\u001b[1;33m]\u001b[0m\u001b[1;33m:\u001b[0m\u001b[1;33m\u001b[0m\u001b[1;33m\u001b[0m\u001b[0m\n\u001b[0;32m    481\u001b[0m                 \u001b[1;32mraise\u001b[0m \u001b[0mValueError\u001b[0m\u001b[1;33m(\u001b[0m\u001b[1;34m'dimension mismatch'\u001b[0m\u001b[1;33m)\u001b[0m\u001b[1;33m\u001b[0m\u001b[1;33m\u001b[0m\u001b[0m\n\u001b[1;32m--> 482\u001b[1;33m             \u001b[1;32mreturn\u001b[0m \u001b[0mself\u001b[0m\u001b[1;33m.\u001b[0m\u001b[0m_mul_sparse_matrix\u001b[0m\u001b[1;33m(\u001b[0m\u001b[0mother\u001b[0m\u001b[1;33m)\u001b[0m\u001b[1;33m\u001b[0m\u001b[1;33m\u001b[0m\u001b[0m\n\u001b[0m\u001b[0;32m    483\u001b[0m \u001b[1;33m\u001b[0m\u001b[0m\n\u001b[0;32m    484\u001b[0m         \u001b[1;31m# If it's a list or whatever, treat it like a matrix\u001b[0m\u001b[1;33m\u001b[0m\u001b[1;33m\u001b[0m\u001b[1;33m\u001b[0m\u001b[0m\n",
      "\u001b[1;32mC:\\ProgramData\\Anaconda3\\lib\\site-packages\\scipy\\sparse\\compressed.py\u001b[0m in \u001b[0;36m_mul_sparse_matrix\u001b[1;34m(self, other)\u001b[0m\n\u001b[0;32m    502\u001b[0m            \u001b[0mnp\u001b[0m\u001b[1;33m.\u001b[0m\u001b[0masarray\u001b[0m\u001b[1;33m(\u001b[0m\u001b[0mother\u001b[0m\u001b[1;33m.\u001b[0m\u001b[0mindptr\u001b[0m\u001b[1;33m,\u001b[0m \u001b[0mdtype\u001b[0m\u001b[1;33m=\u001b[0m\u001b[0midx_dtype\u001b[0m\u001b[1;33m)\u001b[0m\u001b[1;33m,\u001b[0m\u001b[1;33m\u001b[0m\u001b[1;33m\u001b[0m\u001b[0m\n\u001b[0;32m    503\u001b[0m            \u001b[0mnp\u001b[0m\u001b[1;33m.\u001b[0m\u001b[0masarray\u001b[0m\u001b[1;33m(\u001b[0m\u001b[0mother\u001b[0m\u001b[1;33m.\u001b[0m\u001b[0mindices\u001b[0m\u001b[1;33m,\u001b[0m \u001b[0mdtype\u001b[0m\u001b[1;33m=\u001b[0m\u001b[0midx_dtype\u001b[0m\u001b[1;33m)\u001b[0m\u001b[1;33m,\u001b[0m\u001b[1;33m\u001b[0m\u001b[1;33m\u001b[0m\u001b[0m\n\u001b[1;32m--> 504\u001b[1;33m            indptr)\n\u001b[0m\u001b[0;32m    505\u001b[0m \u001b[1;33m\u001b[0m\u001b[0m\n\u001b[0;32m    506\u001b[0m         \u001b[0mnnz\u001b[0m \u001b[1;33m=\u001b[0m \u001b[0mindptr\u001b[0m\u001b[1;33m[\u001b[0m\u001b[1;33m-\u001b[0m\u001b[1;36m1\u001b[0m\u001b[1;33m]\u001b[0m\u001b[1;33m\u001b[0m\u001b[1;33m\u001b[0m\u001b[0m\n",
      "\u001b[1;31mKeyboardInterrupt\u001b[0m: "
     ]
    }
   ],
   "source": [
    "# https://scikit-learn.org/stable/modules/generated/sklearn.model_selection.GridSearchCV.html\n",
    "from sklearn.model_selection import GridSearchCV\n",
    "from sklearn.neighbors import KNeighborsClassifier\n",
    "\n",
    "neigh = KNeighborsClassifier()\n",
    "parameters = {'n_neighbors':[1, 5, 10, 15, 21, 31, 41, 51]}\n",
    "clf = GridSearchCV(neigh, parameters, cv=3, scoring='roc_auc')\n",
    "clf.fit(X_train, y_train)\n",
    "\n",
    "train_auc= clf.cv_results_['mean_train_score']\n",
    "train_auc_std= clf.cv_results_['std_train_score']\n",
    "cv_auc = clf.cv_results_['mean_test_score'] \n",
    "cv_auc_std= clf.cv_results_['std_test_score']\n",
    "\n",
    "plt.plot(K, train_auc, label='Train AUC')\n",
    "# this code is copied from here: https://stackoverflow.com/a/48803361/4084039\n",
    "plt.gca().fill_between(K,train_auc - train_auc_std,train_auc + train_auc_std,alpha=0.2,color='darkblue')\n",
    "\n",
    "plt.plot(K, cv_auc, label='CV AUC')\n",
    "# this code is copied from here: https://stackoverflow.com/a/48803361/4084039\n",
    "plt.gca().fill_between(K,cv_auc - cv_auc_std,cv_auc + cv_auc_std,alpha=0.2,color='darkorange')\n",
    "plt.legend()\n",
    "plt.xlabel(\"K: hyperparameter\")\n",
    "plt.ylabel(\"AUC\")\n",
    "plt.title(\"ERROR PLOTS\")\n",
    "plt.show()"
   ]
  },
  {
   "cell_type": "code",
   "execution_count": 105,
   "metadata": {},
   "outputs": [
    {
     "data": {
      "text/plain": [
       "300"
      ]
     },
     "execution_count": 105,
     "metadata": {},
     "output_type": "execute_result"
    }
   ],
   "source": [
    "def batch_predict(clf, data):\n",
    "    # roc_auc_score(y_true, y_score) the 2nd parameter should be probability estimates of the positive class\n",
    "    # not the predicted outputs\n",
    "\n",
    "    y_data_pred = []\n",
    "    tr_loop = data.shape[0] - data.shape[0]%1000\n",
    "    # consider you X_tr shape is 49041, then your cr_loop will be 49041 - 49041%1000 = 49000\n",
    "    # in this for loop we will iterate unti the last 1000 multiplier\n",
    "    for i in range(0, tr_loop, 1000):\n",
    "        y_data_pred.extend(clf.predict_proba(data[i:i+1000])[:,1])\n",
    "    # we will be predicting for the last data points\n",
    "   if((data.shape[0]%1000)!=0):\n",
    "       y_data_pred.extend(clf.predict_proba(data[tr_loop:])[:,1])\n",
    "    \n",
    "    return y_data_pred\n",
    "\n",
    "\n",
    "For  y_cv _pred and y_train_pred\n",
    "\n",
    "y_train_pred = batch_predict(clf, X_train)    \n",
    "y_cv_pred = batch_predict(clf, X_cv)"
   ]
  },
  {
   "cell_type": "code",
   "execution_count": 102,
   "metadata": {},
   "outputs": [
    {
     "data": {
      "text/plain": [
       "(109248, 702)"
      ]
     },
     "execution_count": 102,
     "metadata": {},
     "output_type": "execute_result"
    }
   ],
   "source": [
    "X_avg_w2v.shape"
   ]
  },
  {
   "cell_type": "code",
   "execution_count": null,
   "metadata": {},
   "outputs": [],
   "source": []
  },
  {
   "cell_type": "code",
   "execution_count": null,
   "metadata": {},
   "outputs": [],
   "source": []
  },
  {
   "cell_type": "code",
   "execution_count": null,
   "metadata": {},
   "outputs": [],
   "source": []
  },
  {
   "cell_type": "code",
   "execution_count": null,
   "metadata": {},
   "outputs": [],
   "source": []
  },
  {
   "cell_type": "code",
   "execution_count": null,
   "metadata": {},
   "outputs": [],
   "source": []
  },
  {
   "cell_type": "code",
   "execution_count": null,
   "metadata": {},
   "outputs": [],
   "source": []
  }
 ],
 "metadata": {
  "kernelspec": {
   "display_name": "Python 3",
   "language": "python",
   "name": "python3"
  },
  "language_info": {
   "codemirror_mode": {
    "name": "ipython",
    "version": 3
   },
   "file_extension": ".py",
   "mimetype": "text/x-python",
   "name": "python",
   "nbconvert_exporter": "python",
   "pygments_lexer": "ipython3",
   "version": "3.7.3"
  }
 },
 "nbformat": 4,
 "nbformat_minor": 2
}
